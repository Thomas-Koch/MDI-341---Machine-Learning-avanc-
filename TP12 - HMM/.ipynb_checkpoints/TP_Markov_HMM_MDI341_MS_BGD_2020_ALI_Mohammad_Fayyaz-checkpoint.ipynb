{
 "cells": [
  {
   "cell_type": "markdown",
   "metadata": {},
   "source": [
    "# Travaux Pratiques – Chaînes de Markov-HMMs - MDI341\n",
    "## ALI Mohammad Fayyaz - MS BGD 2020"
   ]
  },
  {
   "cell_type": "code",
   "execution_count": 1,
   "metadata": {},
   "outputs": [],
   "source": [
    "import numpy as np\n",
    "import matplotlib.pyplot as plt\n",
    "import copy"
   ]
  },
  {
   "cell_type": "markdown",
   "metadata": {},
   "source": [
    "# <span style=\"color:blue\"> Partie 1"
   ]
  },
  {
   "cell_type": "markdown",
   "metadata": {},
   "source": [
    "On veut générer des mots dans une langue donnée en modélisant la formation de ces mots par une chaîne de Markov. Les 28 états du modèle correspondent aux 26 lettres de l’alphabet auxquelles et on ajoute un état ‘espace initial’ (état 1) et un état ‘espace final’ (état 28) qui sert à terminer les mots.  \n",
    "La correspondance entre la valeur numérique d’un état et un caractère est la suivante : l’état 1 correspond à un espace (avant le début d’un mot) et l’état 28 à celui d’un espace en fin de mot. Les états 2 à 27 correspondent aux caractères de a à z. On pourra utiliser une structure de dictionnaire en python pour faire cette correspondance.\n",
    "On utilisera une chaîne de Markov ergodique entre les 26 états correspondants aux lettres de l’alphabet."
   ]
  },
  {
   "cell_type": "markdown",
   "metadata": {},
   "source": [
    "## I.2.a Matrice de transitions"
   ]
  },
  {
   "cell_type": "markdown",
   "metadata": {},
   "source": [
    "'bigramenglish.txt' contient la matrice des transitions pour l’anglais (bigrams) entre deux symboles (caractères ou espaces). Le terme générique (i,j) de la matrice de transition correspond à la probabilité de transiter vers l’état j à partir de l’état i."
   ]
  },
  {
   "cell_type": "code",
   "execution_count": 2,
   "metadata": {},
   "outputs": [],
   "source": [
    "bigrams_eng = np.loadtxt('Partie1/bigramenglish.txt')"
   ]
  },
  {
   "cell_type": "code",
   "execution_count": 3,
   "metadata": {},
   "outputs": [
    {
     "data": {
      "text/plain": [
       "array([[0.0000000e+00, 1.1268720e-01, 4.3608943e-02, 4.5454545e-02,\n",
       "        3.2904451e-02, 2.2094495e-02, 4.1763341e-02, 1.5555790e-02,\n",
       "        6.4437882e-02, 6.8920059e-02, 3.6384729e-03, 4.2185193e-03,\n",
       "        2.3465514e-02, 3.9759544e-02, 2.2832736e-02, 7.0343809e-02,\n",
       "        3.1058848e-02, 1.4237503e-03, 2.5680236e-02, 6.6916262e-02,\n",
       "        1.6452225e-01, 1.0388104e-02, 7.0660198e-03, 7.0502004e-02,\n",
       "        1.0546298e-04, 1.0599030e-02, 5.2731491e-05, 0.0000000e+00],\n",
       "       [0.0000000e+00, 1.4701126e-05, 2.2933757e-02, 3.3959601e-02,\n",
       "        3.8075917e-02, 1.4701126e-04, 6.1744730e-03, 2.4697892e-02,\n",
       "        8.8206757e-04, 3.7046838e-02, 8.8206757e-04, 1.1907912e-02,\n",
       "        8.1150216e-02, 3.5870748e-02, 2.2051689e-01, 1.4701126e-04,\n",
       "        1.8082385e-02, 1.4701126e-05, 9.4822263e-02, 9.5410308e-02,\n",
       "        1.3348623e-01, 1.1760901e-02, 3.3371556e-02, 9.8497545e-03,\n",
       "        5.8804504e-04, 1.9846520e-02, 8.8206757e-04, 6.7478169e-02],\n",
       "       [0.0000000e+00, 7.1874260e-02, 7.8982703e-04, 7.8982703e-05,\n",
       "        7.8982703e-04, 2.8275808e-01, 7.8982703e-05, 7.8982703e-05,\n",
       "        7.8982703e-05, 7.0294605e-02, 7.8982703e-03, 7.8982703e-05,\n",
       "        1.2084354e-01, 2.3694811e-03, 7.8982703e-05, 1.2637232e-01,\n",
       "        7.8982703e-05, 7.8982703e-05, 4.7389622e-02, 1.5006714e-02,\n",
       "        1.0267751e-02, 1.2716215e-01, 1.5796541e-03, 7.8982703e-05,\n",
       "        7.8982703e-05, 1.0662665e-01, 7.8982703e-05, 7.1084433e-03],\n",
       "       [0.0000000e+00, 1.3674657e-01, 4.0698384e-05, 1.7500305e-02,\n",
       "        1.2209515e-03, 1.3674657e-01, 4.0698384e-05, 4.0698384e-05,\n",
       "        1.6279354e-01, 7.3257092e-02, 4.0698384e-05, 6.9594237e-02,\n",
       "        3.7035530e-02, 4.0698384e-05, 4.0698384e-05, 1.6686338e-01,\n",
       "        4.0698384e-05, 1.2209515e-03, 5.2500916e-02, 8.1396769e-04,\n",
       "        8.7094542e-02, 3.1337756e-02, 4.0698384e-05, 4.0698384e-05,\n",
       "        4.0698384e-05, 5.2907900e-03, 4.0698384e-05, 1.9535224e-02],\n",
       "       [0.0000000e+00, 3.6241263e-02, 2.8762907e-05, 2.8762907e-05,\n",
       "        7.1907268e-03, 1.3691144e-01, 8.6288722e-04, 3.7391780e-03,\n",
       "        8.6288722e-04, 9.0027900e-02, 2.8762907e-04, 2.8762907e-04,\n",
       "        9.7793885e-03, 5.1773233e-03, 2.8762907e-03, 3.4803118e-02,\n",
       "        2.8762907e-05, 2.8762907e-05, 1.8983519e-02, 2.0134035e-02,\n",
       "        2.8762907e-05, 2.0421664e-02, 2.8762907e-03, 8.6288722e-04,\n",
       "        2.8762907e-05, 8.6288722e-03, 2.8762907e-05, 5.9884373e-01],\n",
       "       [0.0000000e+00, 4.5607163e-02, 3.1710502e-03, 1.8653236e-02,\n",
       "        7.8063794e-02, 2.7979855e-02, 9.6064167e-03, 7.1814960e-03,\n",
       "        1.6787913e-03, 1.6041783e-02, 2.7979855e-04, 9.3266182e-04,\n",
       "        3.0777840e-02, 2.6207797e-02, 8.6737549e-02, 2.1451222e-03,\n",
       "        1.0818877e-02, 3.0777840e-03, 1.2562955e-01, 7.2094758e-02,\n",
       "        2.3316545e-02, 4.6633091e-04, 1.6601380e-02, 8.8602873e-03,\n",
       "        8.3939564e-03, 1.5109121e-02, 9.3266182e-05, 3.6047379e-01],\n",
       "       [0.0000000e+00, 6.6869301e-02, 4.6761749e-05, 4.6761749e-05,\n",
       "        4.6761749e-05, 7.4351181e-02, 3.3668459e-02, 4.6761749e-05,\n",
       "        4.6761749e-05, 7.7624503e-02, 4.6761749e-05, 4.6761749e-05,\n",
       "        1.7301847e-02, 4.6761749e-05, 4.6761749e-05, 1.5852233e-01,\n",
       "        4.6761749e-05, 4.6761749e-05, 9.0250175e-02, 1.8704700e-03,\n",
       "        4.6294131e-02, 3.2733224e-02, 4.6761749e-05, 4.6761749e-05,\n",
       "        4.6761749e-05, 3.2733224e-03, 4.6761749e-05, 3.9653963e-01],\n",
       "       [0.0000000e+00, 6.5942117e-02, 6.1057516e-04, 6.1057516e-05,\n",
       "        2.4423006e-03, 1.2822078e-01, 6.1057516e-05, 1.2211503e-02,\n",
       "        1.3554769e-01, 6.2889242e-02, 6.1057516e-05, 6.1057516e-05,\n",
       "        2.8086457e-02, 1.2211503e-03, 2.3201856e-02, 6.8384418e-02,\n",
       "        6.1057516e-04, 6.1057516e-05, 9.7081451e-02, 2.6254732e-02,\n",
       "        6.1057516e-03, 2.1370131e-02, 6.1057516e-05, 6.1057516e-04,\n",
       "        6.1057516e-05, 3.0528758e-03, 6.1057516e-05, 3.1566736e-01],\n",
       "       [0.0000000e+00, 1.4197531e-01, 7.7160494e-04, 1.9290123e-05,\n",
       "        1.9290123e-05, 4.6971451e-01, 5.7870370e-04, 1.9290123e-05,\n",
       "        3.8580247e-04, 1.4023920e-01, 1.9290123e-05, 1.9290123e-05,\n",
       "        1.5432099e-03, 2.8935185e-03, 3.8580247e-03, 7.5038580e-02,\n",
       "        1.9290123e-05, 1.9290123e-05, 1.1188272e-02, 1.7361111e-03,\n",
       "        2.4498457e-02, 1.9097222e-02, 1.9290123e-05, 1.1574074e-03,\n",
       "        1.9290123e-05, 2.1219136e-03, 1.9290123e-05, 1.0300926e-01],\n",
       "       [0.0000000e+00, 2.0688358e-02, 1.0500909e-02, 7.6954423e-02,\n",
       "        3.8085386e-02, 3.3696947e-02, 2.3666228e-02, 3.4010407e-02,\n",
       "        1.5672999e-05, 3.1345997e-04, 1.5672999e-05, 3.4480597e-03,\n",
       "        5.4855495e-02, 3.5734437e-02, 2.4528243e-01, 6.4572754e-02,\n",
       "        6.1124694e-03, 3.1345997e-04, 4.1063256e-02, 1.2757821e-01,\n",
       "        1.1754749e-01, 9.4037991e-04, 3.2599837e-02, 1.5672999e-05,\n",
       "        1.0971099e-03, 1.5672999e-05, 6.2691994e-03, 2.4606608e-02],\n",
       "       [0.0000000e+00, 4.7938639e-02, 9.5877277e-04, 9.5877277e-04,\n",
       "        9.5877277e-04, 1.6299137e-01, 9.5877277e-04, 9.5877277e-04,\n",
       "        9.5877277e-04, 9.5877277e-04, 9.5877277e-04, 9.5877277e-04,\n",
       "        9.5877277e-04, 9.5877277e-04, 9.5877277e-04, 4.6979866e-01,\n",
       "        9.5877277e-04, 9.5877277e-04, 9.5877277e-04, 9.5877277e-04,\n",
       "        9.5877277e-04, 2.9721956e-01, 9.5877277e-04, 9.5877277e-04,\n",
       "        9.5877277e-04, 9.5877277e-04, 9.5877277e-04, 9.5877277e-04],\n",
       "       [0.0000000e+00, 5.2677788e-03, 1.7559263e-04, 1.7559263e-04,\n",
       "        1.7559263e-04, 3.0728709e-01, 3.5118525e-03, 1.7559263e-04,\n",
       "        1.7559263e-03, 1.2115891e-01, 1.7559263e-04, 1.7559263e-04,\n",
       "        1.7559263e-02, 1.7559263e-04, 1.0184372e-01, 5.2677788e-03,\n",
       "        1.7559263e-04, 1.7559263e-04, 1.7559263e-04, 5.0921861e-02,\n",
       "        1.7559263e-04, 1.7559263e-03, 1.7559263e-04, 1.7559263e-04,\n",
       "        1.7559263e-04, 8.7796313e-03, 1.7559263e-04, 3.7225637e-01],\n",
       "       [0.0000000e+00, 7.2924514e-02, 6.0268193e-04, 3.0134097e-04,\n",
       "        7.6540606e-02, 1.7086033e-01, 1.4765707e-02, 9.0402290e-04,\n",
       "        3.0134097e-05, 1.3741148e-01, 3.0134097e-05, 3.3147506e-03,\n",
       "        1.2897393e-01, 5.4241374e-03, 1.8080458e-03, 6.4486967e-02,\n",
       "        2.4107277e-03, 3.0134097e-05, 1.8080458e-03, 2.0792527e-02,\n",
       "        1.5971071e-02, 2.0792527e-02, 1.5368389e-02, 2.1093868e-03,\n",
       "        3.0134097e-05, 8.8895585e-02, 3.0134097e-05, 1.5338255e-01],\n",
       "       [0.0000000e+00, 1.8229282e-01, 1.5043582e-02, 4.4245830e-05,\n",
       "        4.4245830e-05, 2.6768727e-01, 2.2122915e-03, 4.4245830e-05,\n",
       "        4.4245830e-05, 9.4686076e-02, 4.4245830e-05, 4.4245830e-05,\n",
       "        1.3273749e-03, 1.8583249e-02, 1.3273749e-03, 1.0486262e-01,\n",
       "        5.2210079e-02, 4.4245830e-05, 1.1503916e-02, 3.0087164e-02,\n",
       "        8.8491660e-04, 3.3626831e-02, 4.4245830e-05, 4.4245830e-05,\n",
       "        4.4245830e-05, 2.5220123e-02, 4.4245830e-05, 1.5795761e-01],\n",
       "       [0.0000000e+00, 2.5854592e-02, 3.2727332e-04, 3.6000065e-02,\n",
       "        1.5807301e-01, 8.6727430e-02, 6.8727398e-03, 1.0309110e-01,\n",
       "        6.5454664e-04, 3.3054606e-02, 1.9636399e-03, 9.4909263e-03,\n",
       "        7.0363764e-03, 8.1818331e-04, 7.2000131e-03, 5.2854642e-02,\n",
       "        1.6363666e-04, 3.2727332e-04, 3.2727332e-04, 4.9909182e-02,\n",
       "        1.0047291e-01, 5.2363732e-03, 4.9090998e-03, 1.6363666e-04,\n",
       "        8.1818331e-04, 1.3418206e-02, 1.6363666e-05, 2.9421872e-01],\n",
       "       [0.0000000e+00, 7.3598497e-03, 1.0335108e-02, 1.4406514e-02,\n",
       "        1.6598810e-02, 3.7582211e-03, 1.2809270e-01, 8.2994049e-03,\n",
       "        3.7582211e-03, 5.6373317e-03, 1.5659255e-04, 5.7939242e-03,\n",
       "        3.4920138e-02, 6.5455684e-02, 1.6035077e-01, 2.7247103e-02,\n",
       "        1.5972440e-02, 1.5659255e-04, 1.1540871e-01, 2.6150955e-02,\n",
       "        4.6664579e-02, 1.1556530e-01, 1.9260883e-02, 3.3823990e-02,\n",
       "        2.0357031e-03, 9.5521453e-03, 1.5659255e-04, 1.2308174e-01],\n",
       "       [0.0000000e+00, 1.2499137e-01, 6.9056004e-04, 6.9056004e-05,\n",
       "        6.9056004e-05, 1.9473793e-01, 6.9056004e-05, 6.9056004e-05,\n",
       "        2.2788481e-02, 4.1433603e-02, 6.9056004e-05, 6.9056004e-05,\n",
       "        8.4248325e-02, 2.7622402e-03, 6.9056004e-05, 1.1187073e-01,\n",
       "        5.9388164e-02, 6.9056004e-05, 1.8921345e-01, 2.0026241e-02,\n",
       "        3.5909122e-02, 4.3505283e-02, 6.9056004e-05, 6.9056004e-04,\n",
       "        6.9056004e-05, 2.7622402e-03, 6.9056004e-05, 6.4222084e-02],\n",
       "       [0.0000000e+00, 1.3966480e-03, 1.3966480e-03, 1.3966480e-03,\n",
       "        1.3966480e-03, 1.3966480e-03, 1.3966480e-03, 1.3966480e-03,\n",
       "        1.3966480e-03, 1.3966480e-03, 1.3966480e-03, 1.3966480e-03,\n",
       "        1.3966480e-03, 1.3966480e-03, 1.3966480e-03, 1.3966480e-03,\n",
       "        1.3966480e-03, 1.3966480e-03, 1.3966480e-03, 1.3966480e-03,\n",
       "        1.3966480e-03, 9.6368715e-01, 1.3966480e-03, 1.3966480e-03,\n",
       "        1.3966480e-03, 1.3966480e-03, 1.3966480e-03, 1.3966480e-03],\n",
       "       [0.0000000e+00, 8.0811621e-02, 7.7890719e-04, 1.4020329e-02,\n",
       "        1.9862133e-02, 2.4477159e-01, 2.1419948e-03, 1.0515247e-02,\n",
       "        2.5314484e-03, 9.5026678e-02, 1.9472680e-05, 1.3436149e-02,\n",
       "        9.9310667e-03, 1.5772871e-02, 2.5119757e-02, 9.2105776e-02,\n",
       "        2.1419948e-03, 1.9472680e-05, 1.2657242e-02, 4.9460607e-02,\n",
       "        3.7387545e-02, 1.4604510e-02, 6.2312575e-03, 2.1419948e-03,\n",
       "        1.9472680e-05, 3.7582272e-02, 1.9472680e-05, 2.1088912e-01],\n",
       "       [0.0000000e+00, 4.0555876e-02, 3.1626142e-03, 1.4324782e-02,\n",
       "        5.5810838e-04, 1.1459825e-01, 2.7905419e-03, 9.3018064e-04,\n",
       "        3.6277045e-02, 3.4416684e-02, 1.8603613e-05, 3.9067587e-03,\n",
       "        8.9297342e-03, 7.4414451e-03, 2.7905419e-03, 5.5438766e-02,\n",
       "        2.2138299e-02, 1.8603613e-04, 5.5810838e-04, 4.4462635e-02,\n",
       "        1.3543430e-01, 3.2742359e-02, 1.1162168e-03, 3.1626142e-03,\n",
       "        1.8603613e-05, 3.7207226e-03, 1.8603613e-05, 4.3030156e-01],\n",
       "       [0.0000000e+00, 3.5948616e-02, 1.2569446e-05, 3.7708339e-03,\n",
       "        1.2569446e-04, 8.4466678e-02, 5.0277785e-04, 1.2569446e-05,\n",
       "        3.3937505e-01, 8.9494457e-02, 1.2569446e-05, 1.2569446e-05,\n",
       "        1.3072224e-02, 1.0055557e-03, 1.5083335e-03, 8.8865985e-02,\n",
       "        1.2569446e-04, 1.2569446e-05, 3.0418060e-02, 2.0613892e-02,\n",
       "        1.9482642e-02, 1.8602780e-02, 1.2569446e-05, 9.0500013e-03,\n",
       "        1.2569446e-05, 2.0739586e-02, 1.2569446e-05, 2.2273059e-01],\n",
       "       [0.0000000e+00, 2.1856013e-02, 2.1418892e-02, 5.2891550e-02,\n",
       "        1.9233291e-02, 3.1909778e-02, 9.1795253e-03, 4.4586266e-02,\n",
       "        4.3712025e-05, 2.6227215e-02, 4.3712025e-05, 4.3712025e-04,\n",
       "        9.4855095e-02, 3.6280981e-02, 1.1933383e-01, 2.1856013e-03,\n",
       "        4.9394588e-02, 4.3712025e-05, 1.5036937e-01, 1.3201032e-01,\n",
       "        1.4599816e-01, 4.3712025e-05, 4.3712025e-05, 4.3712025e-05,\n",
       "        2.6227215e-03, 4.3712025e-04, 4.3712025e-05, 3.8466582e-02],\n",
       "       [0.0000000e+00, 7.7304262e-02, 9.9108028e-05, 9.9108028e-05,\n",
       "        9.9108028e-05, 6.1843409e-01, 9.9108028e-05, 9.9108028e-05,\n",
       "        9.9108028e-05, 2.4182359e-01, 9.9108028e-05, 9.9108028e-05,\n",
       "        9.9108028e-05, 9.9108028e-05, 9.9108028e-05, 5.4509415e-02,\n",
       "        9.9108028e-05, 9.9108028e-05, 9.9108028e-04, 9.9108028e-05,\n",
       "        9.9108028e-05, 3.9643211e-03, 9.9108028e-05, 9.9108028e-05,\n",
       "        9.9108028e-05, 9.9108028e-04, 9.9108028e-05, 9.9108028e-05],\n",
       "       [0.0000000e+00, 2.0323878e-01, 5.4341919e-05, 5.4341919e-05,\n",
       "        2.1736768e-03, 1.3802848e-01, 2.1736768e-03, 5.4341919e-05,\n",
       "        1.8150201e-01, 1.6791653e-01, 5.4341919e-05, 3.2605152e-03,\n",
       "        4.3473535e-03, 5.4341919e-05, 2.6084121e-02, 1.2879035e-01,\n",
       "        5.4341919e-05, 5.4341919e-05, 1.4672318e-02, 2.3910445e-02,\n",
       "        5.4341919e-04, 5.4341919e-05, 5.4341919e-05, 5.4341919e-05,\n",
       "        5.4341919e-05, 5.4341919e-04, 5.4341919e-05, 1.0216281e-01],\n",
       "       [0.0000000e+00, 1.0030864e-01, 7.7160494e-04, 1.2345679e-01,\n",
       "        7.7160494e-04, 8.4876543e-02, 7.7160494e-04, 7.7160494e-04,\n",
       "        4.6296296e-02, 1.0030864e-01, 7.7160494e-04, 7.7160494e-04,\n",
       "        7.7160494e-04, 7.7160494e-04, 7.7160494e-04, 7.7160494e-04,\n",
       "        1.3117284e-01, 7.7160494e-04, 7.7160494e-04, 7.7160494e-04,\n",
       "        2.0061728e-01, 3.0864198e-02, 3.8580247e-02, 7.7160494e-04,\n",
       "        7.7160494e-03, 7.7160494e-04, 7.7160494e-04, 1.2345679e-01],\n",
       "       [0.0000000e+00, 3.7845339e-03, 6.3075565e-05, 6.3075565e-05,\n",
       "        6.3075565e-05, 4.8568185e-02, 6.3075565e-05, 6.3075565e-05,\n",
       "        6.3075565e-05, 1.1984357e-02, 6.3075565e-05, 6.3075565e-05,\n",
       "        8.8305790e-03, 9.4613347e-03, 1.8922669e-03, 9.3351835e-02,\n",
       "        1.8922669e-03, 6.3075565e-05, 1.2615113e-03, 3.3430049e-02,\n",
       "        5.6768008e-03, 6.3075565e-05, 6.3075565e-05, 3.1537782e-03,\n",
       "        6.3075565e-05, 6.3075565e-05, 6.3075565e-05, 7.7582944e-01],\n",
       "       [0.0000000e+00, 3.0710173e-01, 1.9193858e-03, 1.9193858e-03,\n",
       "        1.9193858e-03, 5.5662188e-01, 1.9193858e-03, 1.9193858e-03,\n",
       "        1.9193858e-03, 3.8387716e-02, 1.9193858e-03, 1.9193858e-03,\n",
       "        1.9193858e-02, 1.9193858e-03, 1.9193858e-03, 1.9193858e-03,\n",
       "        1.9193858e-03, 1.9193858e-03, 1.9193858e-03, 1.9193858e-03,\n",
       "        1.9193858e-03, 1.9193858e-03, 1.9193858e-02, 1.9193858e-03,\n",
       "        1.9193858e-03, 1.9193858e-03, 1.9193858e-02, 1.9193858e-03],\n",
       "       [0.0000000e+00, 0.0000000e+00, 0.0000000e+00, 0.0000000e+00,\n",
       "        0.0000000e+00, 0.0000000e+00, 0.0000000e+00, 0.0000000e+00,\n",
       "        0.0000000e+00, 0.0000000e+00, 0.0000000e+00, 0.0000000e+00,\n",
       "        0.0000000e+00, 0.0000000e+00, 0.0000000e+00, 0.0000000e+00,\n",
       "        0.0000000e+00, 0.0000000e+00, 0.0000000e+00, 0.0000000e+00,\n",
       "        0.0000000e+00, 0.0000000e+00, 0.0000000e+00, 0.0000000e+00,\n",
       "        0.0000000e+00, 0.0000000e+00, 0.0000000e+00, 1.0000000e+00]])"
      ]
     },
     "execution_count": 3,
     "metadata": {},
     "output_type": "execute_result"
    }
   ],
   "source": [
    "bigrams_eng"
   ]
  },
  {
   "cell_type": "markdown",
   "metadata": {},
   "source": [
    "### A quelles probabilités correspond la première ligne de la matrice de transition ? et celles de la dernière colonne?"
   ]
  },
  {
   "cell_type": "markdown",
   "metadata": {},
   "source": [
    "- La première ligne de la matrice de transition correspond à la probabilité d'avoir la lettre, correspondante à la colonne, comme première lettre du mot.     \n",
    "- La dernière colonne correspond à la probabilité que la fin du mot arrive après la lettre qui correspond à la ligne de la matrice."
   ]
  },
  {
   "cell_type": "markdown",
   "metadata": {},
   "source": [
    "### Pour chaque lettre de l’alphabet, indiquer la transition la plus fréquente depuis cette lettre."
   ]
  },
  {
   "cell_type": "code",
   "execution_count": 4,
   "metadata": {},
   "outputs": [],
   "source": [
    "dic={1 : ' ', \n",
    "     2 : 'a', \n",
    "     3 : 'b', \n",
    "     4: 'c', \n",
    "     5 : 'd', \n",
    "     6 : 'e', \n",
    "     7: 'f', \n",
    "     8 : 'g', \n",
    "     9 : 'h', \n",
    "     10: 'i', \n",
    "     11: 'j', \n",
    "     12 : 'k', \n",
    "     13 : 'l', \n",
    "     14: 'm', \n",
    "     15 : 'n', \n",
    "     16 : 'o', \n",
    "     17: 'p', \n",
    "     18 : 'q', \n",
    "     19 : 'r' , \n",
    "     20: 's', \n",
    "     21 : 't', \n",
    "     22 : 'u', \n",
    "     23: 'v', \n",
    "     24 : 'w', \n",
    "     25 : 'x' , \n",
    "     26: 'y', \n",
    "     27 : 'z', \n",
    "     28 : ' ' }"
   ]
  },
  {
   "cell_type": "code",
   "execution_count": 5,
   "metadata": {},
   "outputs": [
    {
     "data": {
      "text/plain": [
       "['t',\n",
       " 'n',\n",
       " 'e',\n",
       " 'o',\n",
       " ' ',\n",
       " ' ',\n",
       " ' ',\n",
       " ' ',\n",
       " 'e',\n",
       " 'n',\n",
       " 'o',\n",
       " ' ',\n",
       " 'e',\n",
       " 'e',\n",
       " ' ',\n",
       " 'n',\n",
       " 'e',\n",
       " 'u',\n",
       " 'e',\n",
       " ' ',\n",
       " 'h',\n",
       " 'r',\n",
       " 'e',\n",
       " 'a',\n",
       " 't',\n",
       " ' ',\n",
       " 'e',\n",
       " ' ']"
      ]
     },
     "execution_count": 5,
     "metadata": {},
     "output_type": "execute_result"
    }
   ],
   "source": [
    "Lettre_Plus_Frequente=[]\n",
    "for line in bigrams_eng:\n",
    "    Lettre_Plus_Frequente.append(dic[np.argmax(line)+1])\n",
    "    \n",
    "Lettre_Plus_Frequente"
   ]
  },
  {
   "cell_type": "markdown",
   "metadata": {},
   "source": [
    "- On peut remarquer que les mots en anglais commencent le plus souvent par un 't'.\n",
    "- Plusieurs lettres ('d','e','f','g','k','n','s','y') sont les plus souvent utilisés pour terminer un mot."
   ]
  },
  {
   "cell_type": "markdown",
   "metadata": {},
   "source": [
    "## I.2.b Générer un mot"
   ]
  },
  {
   "cell_type": "markdown",
   "metadata": {},
   "source": [
    "### On veut générer un mot à partir de l’état initial 1 (espace de début de mot).    \n",
    "### Ecrire une fonction etat_suivant qui génère un état (à t+1) à partir de l’état courant (à t) et à l’aide de la matrice de transitions et de la fonction de répartition.  "
   ]
  },
  {
   "cell_type": "code",
   "execution_count": 6,
   "metadata": {},
   "outputs": [
    {
     "name": "stdout",
     "output_type": "stream",
     "text": [
      "0.047788281771544705\n"
     ]
    }
   ],
   "source": [
    "x = np.random.random()\n",
    "print(x)"
   ]
  },
  {
   "cell_type": "code",
   "execution_count": 7,
   "metadata": {},
   "outputs": [],
   "source": [
    "def etat_suivant(bigram, etat_courant):\n",
    "    #tirage aléatoire d'un nombre entre 0 et 1\n",
    "    x = np.random.random()\n",
    "    #print(x)\n",
    "    #récupération de la ligne dans la matrice de transition\n",
    "    repartition = bigram[etat_courant-1,:]\n",
    "    #print(np.cumsum(repartition))\n",
    "    #Sélection état suivant \n",
    "    new_vect = np.concatenate(([0], np.cumsum(repartition)))\n",
    "    #print(new_vect)\n",
    "    etat_s= np.where(new_vect > x)[0][0]\n",
    "    return etat_s"
   ]
  },
  {
   "cell_type": "code",
   "execution_count": 8,
   "metadata": {},
   "outputs": [
    {
     "data": {
      "text/plain": [
       "4"
      ]
     },
     "execution_count": 8,
     "metadata": {},
     "output_type": "execute_result"
    }
   ],
   "source": [
    "etat_suivant(bigrams_eng, 10)"
   ]
  },
  {
   "cell_type": "markdown",
   "metadata": {},
   "source": [
    "### Afficher sur un graphique la fonction de répartition pour une ligne de la matrice de transition et expliquer son rôle pour la génération de l’état à t+1.  "
   ]
  },
  {
   "cell_type": "code",
   "execution_count": 9,
   "metadata": {
    "scrolled": false
   },
   "outputs": [
    {
     "data": {
      "image/png": "[encoded data removed]",
      "text/plain": [
       "<Figure size 864x576 with 1 Axes>"
      ]
     },
     "metadata": {
      "needs_background": "light"
     },
     "output_type": "display_data"
    }
   ],
   "source": [
    "plt.figure(figsize=(12,8))\n",
    "repartition = bigrams_eng[9,:]\n",
    "new_vect = np.concatenate(([0],np.cumsum(repartition)))\n",
    "plt.plot(new_vect)\n",
    "plt.title(\"Répartiton des lettres suivantes depuis l'état 10\")\n",
    "plt.xlabel(\"etat\")\n",
    "plt.ylabel(\"repartition\")\n",
    "\n",
    "x = np.random.random()\n",
    "plt.plot([0,28],[x, x])\n",
    "\n",
    "for i in range(29):\n",
    "    plt.axvline(i, c='grey',ls='--')\n",
    "\n",
    "plt.legend(['cdf','rand'])\n",
    "plt.show()"
   ]
  },
  {
   "cell_type": "markdown",
   "metadata": {},
   "source": [
    "La fonction de répartition nous permet de sélectionner l'état suivant à partir d'une variable aléatoire tirée selon une loi uniforme, en choisissant l'état (la lettre) correspondant au segment dans lequel la variable tirée appartient.   \n",
    "Nous avons 28 segments en rajoutant un zéro au vecteur cumsum(repartition).  \n",
    "Nous voyons bien que les lettres les plus probables ont les 'morceaux' de la courbe de répartition les plus grands, la loi de répartition sera respectée de cette façon.  "
   ]
  },
  {
   "cell_type": "markdown",
   "metadata": {},
   "source": [
    "### Utiliser cette fonction pour écrire la fonction genere_state_seq qui génère une séquence d’états jusqu’à aboutir à l’état final (28)."
   ]
  },
  {
   "cell_type": "code",
   "execution_count": 10,
   "metadata": {},
   "outputs": [],
   "source": [
    "def genere_state_seq(bigram):\n",
    "    state = 1\n",
    "    seq = []\n",
    "    while state != 28:\n",
    "        seq.append(state)\n",
    "        state = etat_suivant(bigram, state)\n",
    "        #print(state)\n",
    "    return seq"
   ]
  },
  {
   "cell_type": "code",
   "execution_count": 11,
   "metadata": {},
   "outputs": [
    {
     "data": {
      "text/plain": [
       "[1, 8, 6, 5, 10, 13, 10, 8]"
      ]
     },
     "execution_count": 11,
     "metadata": {},
     "output_type": "execute_result"
    }
   ],
   "source": [
    "genere_state_seq(bigrams_eng)"
   ]
  },
  {
   "cell_type": "markdown",
   "metadata": {},
   "source": [
    "### Ecrire une fonction display_seq qui transforme une séquence d’états en séquence de caractères, à l’aide d’un dictionnaire. "
   ]
  },
  {
   "cell_type": "code",
   "execution_count": 12,
   "metadata": {},
   "outputs": [],
   "source": [
    "def display_seq(seq, dic):\n",
    "    mot=[]\n",
    "    for e in seq:\n",
    "        #print(e)\n",
    "        mot.append(dic[e])\n",
    "        \n",
    "    return ''.join(mot)"
   ]
  },
  {
   "cell_type": "code",
   "execution_count": 13,
   "metadata": {},
   "outputs": [
    {
     "data": {
      "text/plain": [
       "[1, 7, 10, 23, 6]"
      ]
     },
     "execution_count": 13,
     "metadata": {},
     "output_type": "execute_result"
    }
   ],
   "source": [
    "seq_test = genere_state_seq(bigrams_eng)\n",
    "seq_test"
   ]
  },
  {
   "cell_type": "code",
   "execution_count": 14,
   "metadata": {},
   "outputs": [
    {
     "data": {
      "text/plain": [
       "' five'"
      ]
     },
     "execution_count": 14,
     "metadata": {},
     "output_type": "execute_result"
    }
   ],
   "source": [
    "display_seq(seq_test,dic)"
   ]
  },
  {
   "cell_type": "markdown",
   "metadata": {},
   "source": [
    "### Utiliser ces fonctions pour générer des mots et donner des exemples de mots générés."
   ]
  },
  {
   "cell_type": "code",
   "execution_count": 15,
   "metadata": {},
   "outputs": [
    {
     "name": "stdout",
     "output_type": "stream",
     "text": [
      " g\n",
      " tug\n",
      " urwad\n",
      " tisuane\n",
      " s\n",
      " htillior\n",
      " puerende\n",
      " pr\n",
      " nitthindl\n",
      " fr\n"
     ]
    }
   ],
   "source": [
    "for i in range(10) :\n",
    "    print(display_seq(genere_state_seq(bigrams_eng),dic))"
   ]
  },
  {
   "cell_type": "markdown",
   "metadata": {},
   "source": [
    "## I.2.c Générer une phrase"
   ]
  },
  {
   "cell_type": "markdown",
   "metadata": {},
   "source": [
    "### On veut générer une suite de mots (phrase). Créer un état final de phrase (état 29, correspondant au caractère . ) dont la probabilité de transition vers cet état depuis un état final de mot est 0.1. Ecrire une fonction modifie_mat_dic qui modifie la matrice de transition et le dictionnaire en conséquence.  "
   ]
  },
  {
   "cell_type": "code",
   "execution_count": 16,
   "metadata": {},
   "outputs": [],
   "source": [
    "def modify_mat_dic(dic,bigram):\n",
    "    #Ajout '.' dans le dic\n",
    "    dic[29] = '.'\n",
    "    #Ajout d'une ligne et d'une colonne dans bigram:\n",
    "    bigram = np.vstack((bigram, np.zeros(28)))\n",
    "    bigram = np.hstack((bigram, np.zeros(29).reshape(-1,1))) \n",
    "\n",
    "    #Transition de '.' à '.' = 1\n",
    "    bigram[28,28] = 1\n",
    "    \n",
    "    # Transitions de l'état 28:\n",
    "    bigram[27,27] = 0\n",
    "    bigram[27,28] = 0.1\n",
    "    bigram[27,0] = 0.9\n",
    "    \n",
    "    return bigram"
   ]
  },
  {
   "cell_type": "code",
   "execution_count": 17,
   "metadata": {},
   "outputs": [],
   "source": [
    "bigrams_eng_2 = modify_mat_dic(dic,bigrams_eng)"
   ]
  },
  {
   "cell_type": "code",
   "execution_count": 18,
   "metadata": {},
   "outputs": [
    {
     "name": "stdout",
     "output_type": "stream",
     "text": [
      "(28, 28)\n",
      "(29, 29)\n"
     ]
    }
   ],
   "source": [
    "print(np.shape(bigrams_eng))\n",
    "print(np.shape(bigrams_eng_2))"
   ]
  },
  {
   "cell_type": "code",
   "execution_count": 19,
   "metadata": {},
   "outputs": [
    {
     "name": "stdout",
     "output_type": "stream",
     "text": [
      "1.0\n",
      "0.1\n",
      "0.9\n",
      "0.0\n"
     ]
    }
   ],
   "source": [
    "print(bigrams_eng_2[28,28])\n",
    "print(bigrams_eng_2[27,28])\n",
    "print(bigrams_eng_2[27,0])\n",
    "print(bigrams_eng_2[27,27])"
   ]
  },
  {
   "cell_type": "code",
   "execution_count": 20,
   "metadata": {},
   "outputs": [],
   "source": [
    "def genere_state_seq_phrase(bigram):\n",
    "    state = 1\n",
    "    seq = []\n",
    "    while state != 29:\n",
    "        state = etat_suivant(bigram, state)\n",
    "        #print(state)\n",
    "        seq.append(state)\n",
    "    return seq"
   ]
  },
  {
   "cell_type": "code",
   "execution_count": 21,
   "metadata": {},
   "outputs": [
    {
     "data": {
      "text/plain": [
       "'at  iof  seronghnony  cin  cimeif  uavir  othepols  ton  n  s  p  ti  avista  o .'"
      ]
     },
     "execution_count": 21,
     "metadata": {},
     "output_type": "execute_result"
    }
   ],
   "source": [
    "display_seq(genere_state_seq_phrase(bigrams_eng_2),dic)"
   ]
  },
  {
   "cell_type": "markdown",
   "metadata": {},
   "source": [
    "### Donner des exemples de phrases générées."
   ]
  },
  {
   "cell_type": "code",
   "execution_count": 22,
   "metadata": {},
   "outputs": [
    {
     "name": "stdout",
     "output_type": "stream",
     "text": [
      "cto  ig  p  burcoul  t  sow  sped  topeathe  frthamereshedowerionlitme  inen  ncondim  jupe  s  ghora  ererdeigranthe  iowhen  hinesentily  alicliewoneraredus  bot  awhiaro  angno  oalof  th  d  win  f  t  ampof  t  ice .\n",
      "wry  sroned  f  a  aracas  ouss  as  cr  rd  hed  f  andant  ouemee .\n",
      "wherst  anisn  phicise  vendibogre  lvetirr  spe  whe  l  her  rlaiteacegugheg  osf  vout  l  whe  thoralint  tha  hay  cepon  inond  amenupus  bis  tepavenf .\n",
      "jovabof  s  m  t  dingat  we  p  th  ithastun  d  f  mof  wangrsly  tirofr  he  reroonthe .\n",
      "ad  p  l  d  tthnd  s  the  m  sin .\n",
      "anthupand  an  o  comes  catous  amefa  d  f  s  phe  wilisofarto  nges  dend  an  ullamatrt  hilike .\n",
      "be  oe  ong  wh  tuldaue  of  byspiond  ticl  amelince  heve  ceseasfind  a .\n",
      "anngring  s  rch  hatan  tad  t  e  r  ly  curknds  tanefof  g .\n",
      "wncr  itofaldire  arinveave .\n",
      "ta  di  the  hiceauprorafean  or  riseins  therinoranty  iathimootongincoucllaiglate  arin  a  t  n  my  tot  f  s .\n"
     ]
    }
   ],
   "source": [
    "for i in range(10) :\n",
    "    print(display_seq(genere_state_seq_phrase(bigrams_eng_2),dic))"
   ]
  },
  {
   "cell_type": "markdown",
   "metadata": {},
   "source": [
    "## I.3. Reconnaissance de la langue"
   ]
  },
  {
   "cell_type": "markdown",
   "metadata": {},
   "source": [
    "### Charger la matrice des transitions entre caractères pour le français. "
   ]
  },
  {
   "cell_type": "code",
   "execution_count": 23,
   "metadata": {},
   "outputs": [],
   "source": [
    "bigrams_fra = np.loadtxt('Partie1/bigramfrancais.txt')"
   ]
  },
  {
   "cell_type": "code",
   "execution_count": 24,
   "metadata": {},
   "outputs": [
    {
     "data": {
      "text/plain": [
       "array([[0.0000000e+00, 7.6216533e-02, 1.1725620e-02, 7.0353723e-02,\n",
       "        2.0617549e-01, 6.7422318e-02, 2.1496971e-02, 1.0748485e-02,\n",
       "        9.7713504e-04, 1.9542701e-02, 2.9314051e-03, 9.7713504e-05,\n",
       "        1.7490717e-01, 1.6611296e-02, 6.5468048e-02, 1.8565566e-02,\n",
       "        7.7193668e-02, 2.0519836e-02, 2.2474106e-02, 6.0582372e-02,\n",
       "        1.3679891e-02, 3.4199726e-02, 6.8399453e-03, 9.7713504e-05,\n",
       "        9.7713504e-05, 9.7713504e-05, 9.7713504e-04, 0.0000000e+00,\n",
       "        0.0000000e+00],\n",
       "       [0.0000000e+00, 3.4141345e-04, 3.4141345e-03, 2.3898942e-02,\n",
       "        3.4141345e-03, 3.4141345e-04, 1.0242404e-02, 1.3656538e-02,\n",
       "        3.4141345e-04, 5.8040287e-02, 3.4141345e-03, 3.4141345e-04,\n",
       "        4.0969614e-02, 5.8040287e-02, 1.7753499e-01, 3.4141345e-04,\n",
       "        3.0727211e-02, 6.8282690e-03, 5.4626152e-02, 8.1939228e-02,\n",
       "        1.1949471e-01, 1.3315125e-01, 2.0484807e-02, 3.4141345e-04,\n",
       "        3.4141345e-04, 3.4141345e-04, 3.4141345e-04, 1.5705019e-01,\n",
       "        0.0000000e+00],\n",
       "       [0.0000000e+00, 3.0991736e-02, 1.0330579e-03, 1.0330579e-03,\n",
       "        1.0330579e-03, 2.0661157e-02, 1.0330579e-03, 1.0330579e-03,\n",
       "        1.0330579e-03, 2.8925620e-01, 1.0330579e-02, 1.0330579e-03,\n",
       "        1.0330579e-01, 1.0330579e-03, 1.0330579e-03, 3.0991736e-02,\n",
       "        1.0330579e-03, 1.0330579e-03, 2.9958678e-01, 1.0330579e-02,\n",
       "        1.0330579e-03, 1.8595041e-01, 1.0330579e-03, 1.0330579e-03,\n",
       "        1.0330579e-03, 1.0330579e-03, 1.0330579e-03, 1.0330579e-03,\n",
       "        0.0000000e+00],\n",
       "       [0.0000000e+00, 4.0241449e-02, 4.0241449e-04, 8.0482897e-03,\n",
       "        8.0482897e-03, 3.0181087e-01, 4.0241449e-04, 4.0241449e-04,\n",
       "        6.0362173e-02, 2.0925553e-01, 4.0241449e-04, 4.0241449e-04,\n",
       "        1.6096579e-02, 4.0241449e-04, 4.0241449e-04, 2.0120724e-01,\n",
       "        4.0241449e-04, 4.0241449e-04, 3.6217304e-02, 4.0241449e-04,\n",
       "        4.0241449e-02, 4.0241449e-02, 4.0241449e-04, 4.0241449e-04,\n",
       "        4.0241449e-04, 4.0241449e-04, 4.0241449e-04, 3.2193159e-02,\n",
       "        0.0000000e+00],\n",
       "       [0.0000000e+00, 3.6173633e-02, 4.0192926e-04, 4.0192926e-04,\n",
       "        4.0192926e-04, 5.4662379e-01, 4.0192926e-03, 4.0192926e-04,\n",
       "        4.0192926e-04, 1.2459807e-01, 4.0192926e-04, 4.0192926e-04,\n",
       "        4.0192926e-04, 4.0192926e-04, 4.0192926e-04, 9.6463023e-02,\n",
       "        4.0192926e-04, 4.0192926e-04, 4.0192926e-02, 8.0385852e-03,\n",
       "        4.0192926e-04, 5.6270096e-02, 4.0192926e-04, 4.0192926e-04,\n",
       "        4.0192926e-04, 4.0192926e-04, 4.0192926e-04, 8.0385852e-02,\n",
       "        0.0000000e+00],\n",
       "       [0.0000000e+00, 1.1166946e-03, 2.9034059e-02, 2.3450586e-02,\n",
       "        5.5834729e-03, 1.2283640e-02, 1.0050251e-02, 4.4667783e-03,\n",
       "        1.1166946e-04, 3.3500838e-03, 1.1166946e-04, 1.1166946e-04,\n",
       "        5.4718035e-02, 4.4667783e-02, 1.0608599e-01, 1.1166946e-03,\n",
       "        5.5834729e-03, 3.3500838e-03, 8.9335567e-02, 1.7308766e-01,\n",
       "        4.5784478e-02, 3.2384143e-02, 6.7001675e-03, 1.1166946e-04,\n",
       "        8.9335567e-03, 1.1166946e-04, 1.1166946e-03, 3.3724176e-01,\n",
       "        0.0000000e+00],\n",
       "       [0.0000000e+00, 8.8495575e-02, 1.4749263e-03, 1.4749263e-03,\n",
       "        1.4749263e-03, 1.7699115e-01, 8.8495575e-02, 1.4749263e-03,\n",
       "        1.4749263e-03, 2.6548673e-01, 1.4749263e-03, 1.4749263e-03,\n",
       "        1.4749263e-03, 1.4749263e-03, 1.4749263e-03, 2.3598820e-01,\n",
       "        1.4749263e-03, 1.4749263e-03, 2.9498525e-02, 4.4247788e-02,\n",
       "        1.4749263e-02, 2.9498525e-02, 1.4749263e-03, 1.4749263e-03,\n",
       "        1.4749263e-03, 1.4749263e-03, 1.4749263e-03, 1.4749263e-03,\n",
       "        0.0000000e+00],\n",
       "       [0.0000000e+00, 5.1347882e-02, 1.2836970e-03, 1.2836970e-03,\n",
       "        1.2836970e-03, 1.1553273e-01, 1.2836970e-03, 1.2836970e-03,\n",
       "        1.2836970e-03, 4.6213094e-01, 1.2836970e-03, 1.2836970e-03,\n",
       "        1.2836970e-03, 1.2836970e-03, 5.1347882e-02, 1.2836970e-03,\n",
       "        1.2836970e-02, 1.2836970e-03, 2.0539153e-01, 1.2836970e-03,\n",
       "        1.2836970e-03, 6.4184852e-02, 1.2836970e-03, 1.2836970e-03,\n",
       "        1.2836970e-03, 1.2836970e-03, 1.2836970e-03, 1.2836970e-02,\n",
       "        0.0000000e+00],\n",
       "       [0.0000000e+00, 2.1857923e-01, 5.4644809e-03, 5.4644809e-03,\n",
       "        5.4644809e-03, 4.3715847e-01, 5.4644809e-03, 5.4644809e-03,\n",
       "        5.4644809e-03, 1.6393443e-01, 5.4644809e-03, 5.4644809e-03,\n",
       "        5.4644809e-03, 5.4644809e-03, 5.4644809e-03, 5.4644809e-03,\n",
       "        5.4644809e-03, 5.4644809e-03, 5.4644809e-03, 5.4644809e-03,\n",
       "        5.4644809e-03, 5.4644809e-03, 5.4644809e-03, 5.4644809e-03,\n",
       "        5.4644809e-03, 5.4644809e-03, 5.4644809e-03, 5.4644809e-02,\n",
       "        0.0000000e+00],\n",
       "       [0.0000000e+00, 6.5735415e-02, 9.2440427e-02, 1.4585045e-01,\n",
       "        4.1084634e-03, 1.1298274e-01, 2.8759244e-02, 1.4379622e-02,\n",
       "        2.0542317e-04, 2.0542317e-04, 2.0542317e-04, 2.0542317e-04,\n",
       "        5.9572720e-02, 1.0271159e-02, 8.6277732e-02, 8.8331964e-02,\n",
       "        8.2169269e-03, 1.4379622e-02, 3.2867707e-02, 1.1092851e-01,\n",
       "        7.1898110e-02, 2.0542317e-03, 1.8488085e-02, 2.0542317e-04,\n",
       "        2.0542317e-04, 2.0542317e-04, 2.0542317e-04, 3.0813476e-02,\n",
       "        0.0000000e+00],\n",
       "       [0.0000000e+00, 1.0752688e-01, 1.0752688e-02, 1.0752688e-02,\n",
       "        1.0752688e-02, 2.1505376e-01, 1.0752688e-02, 1.0752688e-02,\n",
       "        1.0752688e-02, 1.0752688e-02, 1.0752688e-02, 1.0752688e-02,\n",
       "        1.0752688e-02, 1.0752688e-02, 1.0752688e-02, 3.2258065e-01,\n",
       "        1.0752688e-02, 1.0752688e-02, 1.0752688e-02, 1.0752688e-02,\n",
       "        1.0752688e-02, 1.0752688e-01, 1.0752688e-02, 1.0752688e-02,\n",
       "        1.0752688e-02, 1.0752688e-02, 1.0752688e-02, 1.0752688e-02,\n",
       "        0.0000000e+00],\n",
       "       [0.0000000e+00, 3.7037037e-02, 3.7037037e-02, 3.7037037e-02,\n",
       "        3.7037037e-02, 3.7037037e-02, 3.7037037e-02, 3.7037037e-02,\n",
       "        3.7037037e-02, 3.7037037e-02, 3.7037037e-02, 3.7037037e-02,\n",
       "        3.7037037e-02, 3.7037037e-02, 3.7037037e-02, 3.7037037e-02,\n",
       "        3.7037037e-02, 3.7037037e-02, 3.7037037e-02, 3.7037037e-02,\n",
       "        3.7037037e-02, 3.7037037e-02, 3.7037037e-02, 3.7037037e-02,\n",
       "        3.7037037e-02, 3.7037037e-02, 3.7037037e-02, 3.7037037e-02,\n",
       "        0.0000000e+00],\n",
       "       [0.0000000e+00, 9.2415551e-02, 3.1867431e-04, 3.1867431e-03,\n",
       "        3.1867431e-04, 2.8680688e-01, 3.1867431e-04, 3.1867431e-04,\n",
       "        3.1867431e-04, 2.6131294e-01, 3.1867431e-04, 3.1867431e-04,\n",
       "        3.1867431e-02, 3.1867431e-04, 3.1867431e-04, 1.2428298e-01,\n",
       "        3.1867431e-04, 3.1867431e-04, 3.1867431e-04, 7.3295092e-02,\n",
       "        3.1867431e-04, 9.5602294e-03, 3.1867431e-04, 3.1867431e-04,\n",
       "        3.1867431e-04, 3.1867431e-04, 3.1867431e-04, 1.1153601e-01,\n",
       "        0.0000000e+00],\n",
       "       [0.0000000e+00, 7.2944297e-02, 4.6419098e-02, 6.6312997e-04,\n",
       "        6.6312997e-04, 4.7082228e-01, 6.6312997e-04, 6.6312997e-04,\n",
       "        6.6312997e-04, 5.3050398e-02, 6.6312997e-04, 6.6312997e-04,\n",
       "        6.6312997e-04, 1.5251989e-01, 6.6312997e-04, 5.3050398e-02,\n",
       "        9.9469496e-02, 6.6312997e-04, 6.6312997e-04, 6.6312997e-04,\n",
       "        6.6312997e-04, 2.6525199e-02, 6.6312997e-04, 6.6312997e-04,\n",
       "        6.6312997e-04, 6.6312997e-04, 6.6312997e-04, 1.3262599e-02,\n",
       "        0.0000000e+00],\n",
       "       [0.0000000e+00, 3.3890099e-02, 2.4207214e-04, 9.1987412e-02,\n",
       "        2.4207214e-02, 1.1619463e-01, 2.1786492e-02, 2.4207214e-04,\n",
       "        2.4207214e-04, 2.9048656e-02, 2.4207214e-03, 2.4207214e-04,\n",
       "        2.4207214e-03, 2.4207214e-04, 2.9048656e-02, 1.1377390e-01,\n",
       "        2.4207214e-04, 2.4207214e-03, 2.4207214e-04, 1.4766400e-01,\n",
       "        1.6218833e-01, 1.2103607e-02, 2.4207214e-03, 2.4207214e-04,\n",
       "        2.4207214e-04, 2.4207214e-04, 2.4207214e-04, 2.0576132e-01,\n",
       "        0.0000000e+00],\n",
       "       [0.0000000e+00, 2.7314941e-04, 8.1944824e-03, 1.6388965e-02,\n",
       "        3.2777930e-02, 2.7314941e-04, 2.7314941e-03, 1.2838022e-01,\n",
       "        2.7314941e-04, 7.6481836e-02, 2.7314941e-03, 2.7314941e-04,\n",
       "        2.7314941e-04, 6.2824365e-02, 3.0046435e-01, 2.7314941e-04,\n",
       "        2.1851953e-02, 2.7314941e-04, 7.1018847e-02, 4.0972412e-02,\n",
       "        1.6388965e-02, 2.1032505e-01, 2.7314941e-03, 2.7314941e-04,\n",
       "        2.7314941e-04, 2.7314941e-04, 2.7314941e-04, 2.7314941e-03,\n",
       "        0.0000000e+00],\n",
       "       [0.0000000e+00, 1.8920813e-01, 7.0077085e-04, 7.0077085e-04,\n",
       "        7.0077085e-04, 2.3826209e-01, 7.0077085e-04, 7.0077085e-04,\n",
       "        7.0077085e-04, 7.0077085e-03, 7.0077085e-04, 7.0077085e-04,\n",
       "        1.0511563e-01, 7.0077085e-04, 7.0077085e-04, 1.3314646e-01,\n",
       "        7.7084793e-02, 7.0077085e-04, 1.9621584e-01, 7.0077085e-04,\n",
       "        1.4015417e-02, 7.0077085e-03, 7.0077085e-04, 7.0077085e-04,\n",
       "        7.0077085e-04, 7.0077085e-04, 7.0077085e-04, 2.1023125e-02,\n",
       "        0.0000000e+00],\n",
       "       [0.0000000e+00, 2.5906736e-03, 2.5906736e-03, 2.5906736e-03,\n",
       "        2.5906736e-03, 2.5906736e-03, 2.5906736e-03, 2.5906736e-03,\n",
       "        2.5906736e-03, 2.5906736e-03, 2.5906736e-03, 2.5906736e-03,\n",
       "        2.5906736e-03, 2.5906736e-03, 2.5906736e-03, 2.5906736e-03,\n",
       "        2.5906736e-03, 2.5906736e-03, 2.5906736e-03, 2.5906736e-03,\n",
       "        2.5906736e-03, 9.3264249e-01, 2.5906736e-03, 2.5906736e-03,\n",
       "        2.5906736e-03, 2.5906736e-03, 2.5906736e-03, 2.5906736e-03,\n",
       "        0.0000000e+00],\n",
       "       [0.0000000e+00, 7.7972710e-02, 2.7847396e-04, 4.1771094e-02,\n",
       "        8.3542189e-03, 3.0353662e-01, 2.7847396e-03, 5.5694793e-03,\n",
       "        2.7847396e-04, 1.3088276e-01, 2.7847396e-04, 2.7847396e-04,\n",
       "        2.7847396e-04, 4.7340574e-02, 5.5694793e-03, 1.1695906e-01,\n",
       "        2.7847396e-04, 2.7847396e-04, 5.5694793e-03, 5.2910053e-02,\n",
       "        3.8986355e-02, 5.5694793e-03, 2.7847396e-03, 2.7847396e-04,\n",
       "        2.7847396e-04, 2.7847396e-04, 2.7847396e-04, 1.5037594e-01,\n",
       "        0.0000000e+00],\n",
       "       [0.0000000e+00, 3.8283296e-02, 2.0149103e-04, 6.0447310e-03,\n",
       "        2.0149103e-03, 6.2462220e-02, 2.0149103e-04, 2.0149103e-03,\n",
       "        2.0149103e-04, 2.8208745e-02, 2.0149103e-04, 2.0149103e-04,\n",
       "        2.0149103e-04, 2.0149103e-04, 2.0149103e-04, 6.6492041e-02,\n",
       "        4.0298207e-03, 2.0149103e-03, 2.0149103e-04, 2.4178924e-02,\n",
       "        9.2685875e-02, 2.0149103e-02, 2.0149103e-04, 2.0149103e-04,\n",
       "        2.0149103e-04, 2.2164014e-02, 2.0149103e-04, 6.2663711e-01,\n",
       "        0.0000000e+00],\n",
       "       [0.0000000e+00, 3.6641221e-02, 3.0534351e-04, 6.1068702e-03,\n",
       "        3.0534351e-04, 1.8931298e-01, 3.0534351e-04, 3.0534351e-04,\n",
       "        3.0534351e-04, 2.1679389e-01, 3.0534351e-04, 3.0534351e-04,\n",
       "        3.0534351e-04, 3.0534351e-04, 3.0534351e-04, 3.9694656e-02,\n",
       "        3.0534351e-03, 3.0534351e-04, 1.4961832e-01, 3.6641221e-02,\n",
       "        1.8320611e-02, 9.1603053e-03, 3.0534351e-04, 3.0534351e-04,\n",
       "        3.0534351e-04, 6.1068702e-03, 3.0534351e-04, 2.8396947e-01,\n",
       "        0.0000000e+00],\n",
       "       [0.0000000e+00, 3.3545790e-03, 3.3545790e-03, 3.0191211e-02,\n",
       "        3.3545790e-04, 1.4089232e-01, 3.3545790e-04, 3.3545790e-04,\n",
       "        3.3545790e-04, 3.3545790e-02, 3.3545790e-04, 3.3545790e-04,\n",
       "        1.0063737e-02, 2.3482053e-02, 9.3928212e-02, 3.3545790e-03,\n",
       "        1.0063737e-02, 3.3545790e-04, 1.7443811e-01, 1.3753774e-01,\n",
       "        1.6101979e-01, 3.3545790e-04, 1.6772895e-02, 3.3545790e-04,\n",
       "        5.0318685e-02, 3.3545790e-04, 3.3545790e-04, 1.0399195e-01,\n",
       "        0.0000000e+00],\n",
       "       [0.0000000e+00, 7.8534031e-02, 2.6178010e-03, 2.6178010e-03,\n",
       "        2.6178010e-03, 6.5445026e-01, 2.6178010e-03, 2.6178010e-03,\n",
       "        2.6178010e-03, 7.8534031e-02, 2.6178010e-03, 2.6178010e-03,\n",
       "        2.6178010e-03, 2.6178010e-03, 2.6178010e-03, 7.8534031e-02,\n",
       "        2.6178010e-03, 2.6178010e-03, 2.6178010e-03, 2.6178010e-03,\n",
       "        2.6178010e-03, 5.2356021e-02, 2.6178010e-03, 2.6178010e-03,\n",
       "        2.6178010e-03, 2.6178010e-03, 2.6178010e-03, 2.6178010e-03,\n",
       "        0.0000000e+00],\n",
       "       [0.0000000e+00, 3.7037037e-02, 3.7037037e-02, 3.7037037e-02,\n",
       "        3.7037037e-02, 3.7037037e-02, 3.7037037e-02, 3.7037037e-02,\n",
       "        3.7037037e-02, 3.7037037e-02, 3.7037037e-02, 3.7037037e-02,\n",
       "        3.7037037e-02, 3.7037037e-02, 3.7037037e-02, 3.7037037e-02,\n",
       "        3.7037037e-02, 3.7037037e-02, 3.7037037e-02, 3.7037037e-02,\n",
       "        3.7037037e-02, 3.7037037e-02, 3.7037037e-02, 3.7037037e-02,\n",
       "        3.7037037e-02, 3.7037037e-02, 3.7037037e-02, 3.7037037e-02,\n",
       "        0.0000000e+00],\n",
       "       [0.0000000e+00, 3.9840637e-03, 3.9840637e-03, 3.9840637e-03,\n",
       "        3.9840637e-03, 1.5936255e-01, 3.9840637e-03, 3.9840637e-03,\n",
       "        3.9840637e-03, 7.9681275e-02, 3.9840637e-03, 3.9840637e-03,\n",
       "        3.9840637e-03, 3.9840637e-03, 3.9840637e-03, 3.9840637e-03,\n",
       "        3.9840637e-02, 3.9840637e-02, 3.9840637e-03, 3.9840637e-03,\n",
       "        3.9840637e-02, 3.9840637e-03, 3.9840637e-03, 3.9840637e-03,\n",
       "        3.9840637e-03, 3.9840637e-03, 3.9840637e-03, 5.5776892e-01,\n",
       "        0.0000000e+00],\n",
       "       [0.0000000e+00, 6.4516129e-03, 6.4516129e-03, 6.4516129e-03,\n",
       "        6.4516129e-03, 6.4516129e-03, 6.4516129e-03, 6.4516129e-03,\n",
       "        6.4516129e-03, 6.4516129e-03, 6.4516129e-03, 6.4516129e-03,\n",
       "        6.4516129e-03, 6.4516129e-03, 6.4516129e-03, 6.4516129e-03,\n",
       "        1.2903226e-01, 6.4516129e-03, 6.4516129e-03, 7.0967742e-01,\n",
       "        6.4516129e-03, 6.4516129e-03, 6.4516129e-03, 6.4516129e-03,\n",
       "        6.4516129e-03, 6.4516129e-03, 6.4516129e-03, 6.4516129e-03,\n",
       "        0.0000000e+00],\n",
       "       [0.0000000e+00, 2.2222222e-02, 2.2222222e-02, 2.2222222e-02,\n",
       "        2.2222222e-02, 2.2222222e-02, 2.2222222e-02, 2.2222222e-02,\n",
       "        2.2222222e-02, 2.2222222e-02, 2.2222222e-02, 2.2222222e-02,\n",
       "        2.2222222e-02, 2.2222222e-02, 2.2222222e-02, 2.2222222e-01,\n",
       "        2.2222222e-02, 2.2222222e-02, 2.2222222e-02, 2.2222222e-02,\n",
       "        2.2222222e-02, 2.2222222e-02, 2.2222222e-02, 2.2222222e-02,\n",
       "        2.2222222e-02, 2.2222222e-02, 2.2222222e-02, 2.2222222e-01,\n",
       "        0.0000000e+00],\n",
       "       [9.0000000e-01, 0.0000000e+00, 0.0000000e+00, 0.0000000e+00,\n",
       "        0.0000000e+00, 0.0000000e+00, 0.0000000e+00, 0.0000000e+00,\n",
       "        0.0000000e+00, 0.0000000e+00, 0.0000000e+00, 0.0000000e+00,\n",
       "        0.0000000e+00, 0.0000000e+00, 0.0000000e+00, 0.0000000e+00,\n",
       "        0.0000000e+00, 0.0000000e+00, 0.0000000e+00, 0.0000000e+00,\n",
       "        0.0000000e+00, 0.0000000e+00, 0.0000000e+00, 0.0000000e+00,\n",
       "        0.0000000e+00, 0.0000000e+00, 0.0000000e+00, 0.0000000e+00,\n",
       "        1.0000000e-01],\n",
       "       [0.0000000e+00, 0.0000000e+00, 0.0000000e+00, 0.0000000e+00,\n",
       "        0.0000000e+00, 0.0000000e+00, 0.0000000e+00, 0.0000000e+00,\n",
       "        0.0000000e+00, 0.0000000e+00, 0.0000000e+00, 0.0000000e+00,\n",
       "        0.0000000e+00, 0.0000000e+00, 0.0000000e+00, 0.0000000e+00,\n",
       "        0.0000000e+00, 0.0000000e+00, 0.0000000e+00, 0.0000000e+00,\n",
       "        0.0000000e+00, 0.0000000e+00, 0.0000000e+00, 0.0000000e+00,\n",
       "        0.0000000e+00, 0.0000000e+00, 0.0000000e+00, 0.0000000e+00,\n",
       "        1.0000000e+00]])"
      ]
     },
     "execution_count": 24,
     "metadata": {},
     "output_type": "execute_result"
    }
   ],
   "source": [
    "bigrams_fra_2 = modify_mat_dic(dic,bigrams_fra)\n",
    "bigrams_fra_2"
   ]
  },
  {
   "cell_type": "markdown",
   "metadata": {},
   "source": [
    "### Ecrire une fonction calc_vraisemblance qui calcule la vraisemblance du modèle français pour une phrase donnée en multipliant les probabilités de transition. Pour tenir compte de toutes les transitions (notamment celles entre espaces de fin et de début de mots et vers la fin de phrase) on pourra transformer une séquence « mot1 mot2.» par la séquence « -mot1+-mot2+.», les signes - , + et . représentant l’état initial de mot, l’état final de mot et l’état final de phrase, respectivement."
   ]
  },
  {
   "cell_type": "code",
   "execution_count": 25,
   "metadata": {},
   "outputs": [],
   "source": [
    "dic2 = copy.deepcopy(dic)"
   ]
  },
  {
   "cell_type": "code",
   "execution_count": 26,
   "metadata": {},
   "outputs": [
    {
     "data": {
      "text/plain": [
       "{1: '-',\n",
       " 2: 'a',\n",
       " 3: 'b',\n",
       " 4: 'c',\n",
       " 5: 'd',\n",
       " 6: 'e',\n",
       " 7: 'f',\n",
       " 8: 'g',\n",
       " 9: 'h',\n",
       " 10: 'i',\n",
       " 11: 'j',\n",
       " 12: 'k',\n",
       " 13: 'l',\n",
       " 14: 'm',\n",
       " 15: 'n',\n",
       " 16: 'o',\n",
       " 17: 'p',\n",
       " 18: 'q',\n",
       " 19: 'r',\n",
       " 20: 's',\n",
       " 21: 't',\n",
       " 22: 'u',\n",
       " 23: 'v',\n",
       " 24: 'w',\n",
       " 25: 'x',\n",
       " 26: 'y',\n",
       " 27: 'z',\n",
       " 28: '+',\n",
       " 29: '.'}"
      ]
     },
     "execution_count": 26,
     "metadata": {},
     "output_type": "execute_result"
    }
   ],
   "source": [
    "dic2[1] = '-'\n",
    "dic2[28] = '+'\n",
    "dic2"
   ]
  },
  {
   "cell_type": "code",
   "execution_count": 27,
   "metadata": {},
   "outputs": [],
   "source": [
    "def transforme_phrase(phrase):\n",
    "    mots = phrase.split()\n",
    "    taille_liste = len(mots)\n",
    "    new_list = []\n",
    "    i = 1\n",
    "    for m in mots:\n",
    "        \n",
    "        if i == 1:\n",
    "            #new_list.append('-')\n",
    "            new_list.append(m)\n",
    "            new_list.append('+-')\n",
    "        elif i != taille_liste:\n",
    "            new_list.append(m)\n",
    "            new_list.append('+-')\n",
    "        else:\n",
    "            fm = m.split('.')\n",
    "            new_list.append(fm[0])\n",
    "            new_list.append('+.')\n",
    "            \n",
    "        i = i + 1\n",
    "    return ''.join(new_list)"
   ]
  },
  {
   "cell_type": "code",
   "execution_count": 28,
   "metadata": {},
   "outputs": [
    {
     "data": {
      "text/plain": [
       "'etre+-ou+-ne+-pas+-etre+.'"
      ]
     },
     "execution_count": 28,
     "metadata": {},
     "output_type": "execute_result"
    }
   ],
   "source": [
    "transforme_phrase('etre ou ne pas etre.')"
   ]
  },
  {
   "cell_type": "code",
   "execution_count": 29,
   "metadata": {},
   "outputs": [],
   "source": [
    "def calc_vraisemblance(dic, bigram, phrase):\n",
    "    indice_mot_precedent = 0\n",
    "    vrais = 1\n",
    "    \n",
    "    for lettre in phrase:\n",
    "        \n",
    "        indice_mot_courant = [key for key, val in dic.items() if val == lettre][0] - 1\n",
    "        #print(indice_mot_courant)\n",
    "        vrais = vrais * bigram[indice_mot_precedent, indice_mot_courant]\n",
    "        indice_mot_precedent = [key for key, val in dic.items() if val == lettre][0] - 1\n",
    "        #print(vrais)\n",
    "        \n",
    "        \n",
    "    return vrais"
   ]
  },
  {
   "cell_type": "markdown",
   "metadata": {},
   "source": [
    "### Calculer la vraisemblance des modèles français et anglais pour la phrase « to be or not to be ». De même calculer la vraisemblance des modèles français et anglais pour la phrase « etre ou ne pas etre »."
   ]
  },
  {
   "cell_type": "code",
   "execution_count": 30,
   "metadata": {},
   "outputs": [
    {
     "data": {
      "text/plain": [
       "1.145706887234789e-19"
      ]
     },
     "execution_count": 30,
     "metadata": {},
     "output_type": "execute_result"
    }
   ],
   "source": [
    "calc_vraisemblance(dic2, bigrams_fra_2, transforme_phrase('etre ou ne pas etre.'))"
   ]
  },
  {
   "cell_type": "code",
   "execution_count": 31,
   "metadata": {},
   "outputs": [
    {
     "data": {
      "text/plain": [
       "4.462288711775253e-24"
      ]
     },
     "execution_count": 31,
     "metadata": {},
     "output_type": "execute_result"
    }
   ],
   "source": [
    "calc_vraisemblance(dic2, bigrams_eng_2, transforme_phrase('etre ou ne pas etre.'))"
   ]
  },
  {
   "cell_type": "markdown",
   "metadata": {},
   "source": [
    "'etre ou ne pas etre.' a une plus grande vraisemblance d'être une phrase en français."
   ]
  },
  {
   "cell_type": "code",
   "execution_count": 32,
   "metadata": {},
   "outputs": [
    {
     "data": {
      "text/plain": [
       "5.9602081018686406e-30"
      ]
     },
     "execution_count": 32,
     "metadata": {},
     "output_type": "execute_result"
    }
   ],
   "source": [
    "calc_vraisemblance(dic2, bigrams_fra_2, transforme_phrase('to be or not to be.'))"
   ]
  },
  {
   "cell_type": "code",
   "execution_count": 33,
   "metadata": {},
   "outputs": [
    {
     "data": {
      "text/plain": [
       "8.112892227809415e-20"
      ]
     },
     "execution_count": 33,
     "metadata": {},
     "output_type": "execute_result"
    }
   ],
   "source": [
    "calc_vraisemblance(dic2, bigrams_eng_2, transforme_phrase('to be or not to be.'))"
   ]
  },
  {
   "cell_type": "markdown",
   "metadata": {},
   "source": [
    "'to be or not to be.' a une plus grande vraisemblance d'être une phrase en anglais."
   ]
  },
  {
   "cell_type": "markdown",
   "metadata": {},
   "source": [
    "# <span style=\"color:blue\"> Partie 2"
   ]
  },
  {
   "cell_type": "markdown",
   "metadata": {},
   "source": [
    "L’objectif de cette partie est de générer des séquences d’observations suivant un modèle de Markov Caché donné, puis de calculer la vraisemblance d’une séquence d’observations suivant un modèle de Markov Caché donné.  \n",
    "  \n",
    "Le modèle de Markov est de type discret. Les classes de caractères (classes 0, 1, 7) sont modélisées chacune par un modèle à Q=5 états de type gauche-droite. Les états 1 et 5 correspondent à des colonnes de pixels de type fond de l’image (niveau 0). Les états 2, 3 et 4 correspondent au début, milieu et fin du caractère respectivement. Les transitions entre états sont indiquées dans la matrice de transitions A de taille QxQ. Les vecteurs π sont tous égaux à π=(1 0 0 0 0). Les séquences d’états commencent donc toujours par l’état q1=1.  \n",
    "  \n",
    "Les séquences d’observations sont discrètes et issues d’images de chiffres de la base MNIST. Les séquences d’observations consistent en séquences d’index (symboles) des éléments du dictionnaire. Ce dictionnaire est stocké sous forme matricielle (matrice v) dans le fichier matrice_symboles. L’élément numéro i d’une séquence d’observations correspond au symbole i et donc à la colonne i de la matrice v. Un symbole correspond à une configuration de colonne de 5 pixels (binaires : noir/blanc). Il y a 2^5=32 configurations, et donc symboles possibles.\n",
    "Une séquence d’observations correspondant à l’image simplifiée de la fig. 1 est :\n",
    "[1 1 1 1 1 1 14 23 23 27 18 18 18 12 12 12 12 12 12 12 23 23 23 14 4 1 1 1]\n",
    "La concaténation des éléments du dictionnaire correspondant aux index de la séquence d’observations peut être visualisée sous forme d’image en remplaçant chaque index par le vecteur de pixels correspondant dans le dictionnaire (Fig. 2)."
   ]
  },
  {
   "cell_type": "markdown",
   "metadata": {},
   "source": [
    "## II. 2. Génération de séquences d’observations"
   ]
  },
  {
   "cell_type": "markdown",
   "metadata": {},
   "source": [
    "Les matrices A0.txt, B0.txt, vect_p0.txt contiennent les matrices A, B, et le vecteur π correspondant au modèle de Markov caché du chiffre 0. Le fichier matrice_symboles.txt contient le dictionnaire. Charger ces fichiers depuis le site pédagogique."
   ]
  },
  {
   "cell_type": "code",
   "execution_count": 34,
   "metadata": {},
   "outputs": [],
   "source": [
    "# Modèle de chiffre 0\n",
    "A0 = np.loadtxt('Partie2/A0.txt') #Transition entre états\n",
    "B0 = np.loadtxt('Partie2/B0.txt') #Probabilité des observations dans chaque état caché\n",
    "Pi0 = np.loadtxt('Partie2/vect_pi0.txt') #Probabilité état initial\n",
    "v = np.loadtxt('Partie2/matrice_symboles.txt') #Dictionnaire des motifs"
   ]
  },
  {
   "cell_type": "markdown",
   "metadata": {},
   "source": [
    "### II. 2.1 A quoi correspondent les zéros de la matrice B ? et ceux de la matrice A et du vecteur π?"
   ]
  },
  {
   "cell_type": "code",
   "execution_count": 35,
   "metadata": {},
   "outputs": [
    {
     "name": "stdout",
     "output_type": "stream",
     "text": [
      "shape(B0): (32, 5)\n",
      "shape(A0): (5, 5)\n",
      "shape(Pi0): (5,)\n"
     ]
    }
   ],
   "source": [
    "print('shape(B0):',np.shape(B0))\n",
    "print('shape(A0):',np.shape(A0))\n",
    "print('shape(Pi0):',np.shape(Pi0))"
   ]
  },
  {
   "cell_type": "markdown",
   "metadata": {},
   "source": [
    "- les 0 de la matrice B0 sont les motifs impossibles dans l'état correspondant à la colonne  \n",
    "- les 0 de la matrice A0 sont les transitions impossibles entre l'état liée à la ligne et l'état lié à la colonne\n",
    "- les 0 de la matrice P0 sont les états initiaux impossibles (uniquement l'état 1 est possible)"
   ]
  },
  {
   "cell_type": "code",
   "execution_count": 36,
   "metadata": {},
   "outputs": [
    {
     "data": {
      "image/png": "[encoded data removed]",
      "text/plain": [
       "<Figure size 864x576 with 1 Axes>"
      ]
     },
     "metadata": {
      "needs_background": "light"
     },
     "output_type": "display_data"
    }
   ],
   "source": [
    "plt.figure(figsize=(12,8))\n",
    "plt.imshow(v, 'gray')\n",
    "plt.show()"
   ]
  },
  {
   "cell_type": "markdown",
   "metadata": {},
   "source": [
    "### II.2.2 Ecrire une fonction etat_suivant qui génère un état qt+1(à t+1) à partir de l’état courant qt (à t) à l’aide de la matrice de transitions et de la fonction de répartition cumsum."
   ]
  },
  {
   "cell_type": "code",
   "execution_count": 37,
   "metadata": {},
   "outputs": [],
   "source": [
    "def etat_suivant_p2(bigram, etat_courant):\n",
    "    #tirage aléatoire d'un nombre entre 0 et 1\n",
    "    x = np.random.random()\n",
    "    #print(x)\n",
    "    #récupération de la ligne dans la matrice de transition\n",
    "    repartition = bigram[etat_courant-1,:]\n",
    "    #print(np.cumsum(repartition))\n",
    "    #Sélection état suivant \n",
    "    new_vect = np.concatenate(([0], np.cumsum(repartition)))\n",
    "    #print(new_vect)\n",
    "    etat_s= np.where(new_vect > x)[0][0]\n",
    "    return etat_s"
   ]
  },
  {
   "cell_type": "markdown",
   "metadata": {},
   "source": [
    "### Afficher la fonction de répartition pour une ligne de la matrice de transition et expliquer son rôle pour la génération de l’état à t+1."
   ]
  },
  {
   "cell_type": "code",
   "execution_count": 38,
   "metadata": {},
   "outputs": [
    {
     "data": {
      "image/png": "[encoded data removed]",
      "text/plain": [
       "<Figure size 864x576 with 1 Axes>"
      ]
     },
     "metadata": {
      "needs_background": "light"
     },
     "output_type": "display_data"
    }
   ],
   "source": [
    "plt.figure(figsize=(12,8))\n",
    "repartition = A0[1,:]\n",
    "new_vect = np.concatenate(([0],np.cumsum(repartition)))\n",
    "plt.plot(new_vect)\n",
    "plt.title(\"Répartiton des lettres suivantes depuis l'état 10\")\n",
    "plt.xlabel(\"etat\")\n",
    "plt.ylabel(\"repartition\")\n",
    "\n",
    "x = np.random.random()\n",
    "plt.plot([0,5],[x, x])\n",
    "\n",
    "for i in range(6):\n",
    "    plt.axvline(i, c='grey',ls='--')\n",
    "\n",
    "plt.legend(['cdf','rand'])\n",
    "plt.show()"
   ]
  },
  {
   "cell_type": "markdown",
   "metadata": {},
   "source": [
    "La fonction de répartition nous permet de sélectionner l'état suivant à partir d'une variable aléatoire tirée selon une loi uniforme, en choisissant l'état (le motif) correspondant au segment dans lequel la variable tirée appartient.   \n",
    "Nous avons 5 segments à rajoutant un zéro au vecteur cumsum(repartition).  \n",
    "Nous voyons bien que les lettres les plus probables ont les 'morceaux' de la courbe de répartition les plus grands, la loi de répartition sera respectée de cette façon.  "
   ]
  },
  {
   "cell_type": "markdown",
   "metadata": {},
   "source": [
    "### II.2.3 Générer une séquence d’observations suivant le modèle de Markov Caché du chiffre 0. On commencera par générer une séquence d’états suivant ce modèle à l’aide de la fonction etat_suivant. Puis on générera la séquence d’observations par le même procédé."
   ]
  },
  {
   "cell_type": "code",
   "execution_count": 39,
   "metadata": {},
   "outputs": [],
   "source": [
    "def genere_state_seq_p2(A):\n",
    "    state = 1 # Seul état initial possible: 1\n",
    "    seq = []\n",
    "    while len(seq) < 28:\n",
    "        seq.append(state)\n",
    "        state = etat_suivant(A, state)\n",
    "\n",
    "        #print(state)\n",
    "    return seq"
   ]
  },
  {
   "cell_type": "code",
   "execution_count": 40,
   "metadata": {},
   "outputs": [
    {
     "data": {
      "text/plain": [
       "[1,\n",
       " 1,\n",
       " 1,\n",
       " 1,\n",
       " 1,\n",
       " 1,\n",
       " 1,\n",
       " 1,\n",
       " 1,\n",
       " 1,\n",
       " 1,\n",
       " 2,\n",
       " 3,\n",
       " 3,\n",
       " 3,\n",
       " 3,\n",
       " 3,\n",
       " 3,\n",
       " 3,\n",
       " 3,\n",
       " 3,\n",
       " 4,\n",
       " 4,\n",
       " 4,\n",
       " 4,\n",
       " 4,\n",
       " 4,\n",
       " 4]"
      ]
     },
     "execution_count": 40,
     "metadata": {},
     "output_type": "execute_result"
    }
   ],
   "source": [
    "genere_state_seq_p2(A0)"
   ]
  },
  {
   "cell_type": "code",
   "execution_count": 41,
   "metadata": {},
   "outputs": [],
   "source": [
    "def genere_obs_seq_p2(seq_states,B):\n",
    "    \n",
    "    etat_s = []\n",
    "    for s in seq_states:\n",
    "        x = np.random.random()\n",
    "        #print(x)\n",
    "        repartition = B[:,s-1]\n",
    "        new_vect = np.concatenate(([0], np.cumsum(repartition)))\n",
    "        new_vect[-1] = 1\n",
    "        #print(new_vect[-1])\n",
    "        etat_s.append(np.where(new_vect > x)[0][0])\n",
    "    \n",
    "    return etat_s"
   ]
  },
  {
   "cell_type": "code",
   "execution_count": 42,
   "metadata": {},
   "outputs": [
    {
     "data": {
      "text/plain": [
       "[1,\n",
       " 1,\n",
       " 23,\n",
       " 23,\n",
       " 23,\n",
       " 23,\n",
       " 23,\n",
       " 23,\n",
       " 23,\n",
       " 23,\n",
       " 14,\n",
       " 23,\n",
       " 9,\n",
       " 3,\n",
       " 23,\n",
       " 23,\n",
       " 4,\n",
       " 11,\n",
       " 1,\n",
       " 1,\n",
       " 1,\n",
       " 1,\n",
       " 1,\n",
       " 1,\n",
       " 1,\n",
       " 1,\n",
       " 1,\n",
       " 1]"
      ]
     },
     "execution_count": 42,
     "metadata": {},
     "output_type": "execute_result"
    }
   ],
   "source": [
    "genere_obs_seq_p2(genere_state_seq_p2(A0),B0)"
   ]
  },
  {
   "cell_type": "markdown",
   "metadata": {},
   "source": [
    "### II.2.4 Visualiser le résultat sous forme d’image."
   ]
  },
  {
   "cell_type": "code",
   "execution_count": 43,
   "metadata": {},
   "outputs": [],
   "source": [
    "zero = genere_obs_seq_p2(genere_state_seq_p2(A0),B0)"
   ]
  },
  {
   "cell_type": "code",
   "execution_count": 44,
   "metadata": {},
   "outputs": [
    {
     "data": {
      "text/plain": [
       "<matplotlib.image.AxesImage at 0x115140e10>"
      ]
     },
     "execution_count": 44,
     "metadata": {},
     "output_type": "execute_result"
    },
    {
     "data": {
      "image/png": "[encoded data removed]",
      "text/plain": [
       "<Figure size 432x288 with 1 Axes>"
      ]
     },
     "metadata": {
      "needs_background": "light"
     },
     "output_type": "display_data"
    }
   ],
   "source": [
    "im=[]\n",
    "# les x contiennent les index dans le dictionnaire \n",
    "for t in range (0,len(zero)):\n",
    "    im_col=v[:, zero[t]-1] \n",
    "    im.append(im_col)\n",
    "\n",
    "im = np.array(im).T # now make an array\n",
    "plt.imshow(im*255, cmap='Greys', interpolation='none', aspect='auto')"
   ]
  },
  {
   "cell_type": "code",
   "execution_count": 45,
   "metadata": {},
   "outputs": [
    {
     "data": {
      "image/png": "[encoded data removed]",
      "text/plain": [
       "<Figure size 1080x1080 with 10 Axes>"
      ]
     },
     "metadata": {
      "needs_background": "light"
     },
     "output_type": "display_data"
    }
   ],
   "source": [
    "fig, ax = plt.subplots(2,5,figsize=(15,15))\n",
    "fig.suptitle(\"Générations de Zéro\")\n",
    "number_of_subplots = 10\n",
    "\n",
    "for ind in range(number_of_subplots):\n",
    "    ind = ind+1\n",
    "    ax1 = plt.subplot(5,2,ind)\n",
    "    \n",
    "    zero = genere_obs_seq_p2(genere_state_seq_p2(A0),B0)\n",
    "   \n",
    "    im=[]\n",
    "    for t in range (0,len(zero)):\n",
    "        im_col=v[:, zero[t]-1] \n",
    "        im.append(im_col)\n",
    "\n",
    "    im = np.array(im).T # now make an array\n",
    "    ax1.imshow(im*255, cmap='Greys', interpolation='none', aspect='auto')\n",
    "    \n",
    "\n",
    "plt.show()"
   ]
  },
  {
   "cell_type": "markdown",
   "metadata": {},
   "source": [
    "### Générer des séquences pour le chiffre 7 et le chiffre 1 (matrices B1.txt, B7.txt, etc...)"
   ]
  },
  {
   "cell_type": "code",
   "execution_count": 46,
   "metadata": {},
   "outputs": [],
   "source": [
    "# Modèle de chiffre 7\n",
    "A7 = np.loadtxt('Partie2/A7.txt') #Transition entre états\n",
    "B7 = np.loadtxt('Partie2/B7.txt') #Probabilité des observations dans chaque état caché\n",
    "Pi7 = np.loadtxt('Partie2/vect_pi7.txt') #Probabilité état initial"
   ]
  },
  {
   "cell_type": "code",
   "execution_count": 47,
   "metadata": {},
   "outputs": [],
   "source": [
    "sept = genere_obs_seq_p2(genere_state_seq_p2(A7),B7)"
   ]
  },
  {
   "cell_type": "code",
   "execution_count": 48,
   "metadata": {},
   "outputs": [
    {
     "data": {
      "text/plain": [
       "<matplotlib.image.AxesImage at 0x113fd1898>"
      ]
     },
     "execution_count": 48,
     "metadata": {},
     "output_type": "execute_result"
    },
    {
     "data": {
      "image/png": "[encoded data removed]",
      "text/plain": [
       "<Figure size 432x288 with 1 Axes>"
      ]
     },
     "metadata": {
      "needs_background": "light"
     },
     "output_type": "display_data"
    }
   ],
   "source": [
    "im=[]\n",
    "# les x contiennent les index dans le dictionnaire \n",
    "for t in range (0,len(sept)):\n",
    "    im_col=v[:, sept[t]-1] \n",
    "    im.append(im_col)\n",
    "\n",
    "im = np.array(im).T # now make an array\n",
    "plt.imshow(im*255, cmap='Greys', interpolation='none', aspect='auto')"
   ]
  },
  {
   "cell_type": "code",
   "execution_count": 49,
   "metadata": {},
   "outputs": [
    {
     "data": {
      "image/png": "[encoded data removed]",
      "text/plain": [
       "<Figure size 1080x1080 with 10 Axes>"
      ]
     },
     "metadata": {
      "needs_background": "light"
     },
     "output_type": "display_data"
    }
   ],
   "source": [
    "fig, ax = plt.subplots(2,5,figsize=(15,15))\n",
    "fig.suptitle(\"Générations de Sept\")\n",
    "number_of_subplots = 10\n",
    "\n",
    "for ind in range(number_of_subplots):\n",
    "    ind = ind+1\n",
    "    ax1 = plt.subplot(5,2,ind)\n",
    "    \n",
    "    sept = genere_obs_seq_p2(genere_state_seq_p2(A7),B7)\n",
    "   \n",
    "    im=[]\n",
    "    for t in range (0,len(sept)):\n",
    "        im_col=v[:, sept[t]-1] \n",
    "        im.append(im_col)\n",
    "\n",
    "    im = np.array(im).T # now make an array\n",
    "    ax1.imshow(im*255, cmap='Greys', interpolation='none', aspect='auto')\n",
    "    \n",
    "\n",
    "plt.show()"
   ]
  },
  {
   "cell_type": "code",
   "execution_count": 50,
   "metadata": {},
   "outputs": [],
   "source": [
    "# Modèle de chiffre 1\n",
    "A1 = np.loadtxt('Partie2/A1.txt') #Transition entre états\n",
    "B1 = np.loadtxt('Partie2/B1.txt') #Probabilité des observations dans chaque état caché\n",
    "Pi1 = np.loadtxt('Partie2/vect_pi1.txt') #Probabilité état initial"
   ]
  },
  {
   "cell_type": "code",
   "execution_count": 51,
   "metadata": {},
   "outputs": [],
   "source": [
    "un = genere_obs_seq_p2(genere_state_seq_p2(A1),B1)"
   ]
  },
  {
   "cell_type": "code",
   "execution_count": 52,
   "metadata": {},
   "outputs": [
    {
     "data": {
      "text/plain": [
       "<matplotlib.image.AxesImage at 0x1151e26a0>"
      ]
     },
     "execution_count": 52,
     "metadata": {},
     "output_type": "execute_result"
    },
    {
     "data": {
      "image/png": "[encoded data removed]",
      "text/plain": [
       "<Figure size 432x288 with 1 Axes>"
      ]
     },
     "metadata": {
      "needs_background": "light"
     },
     "output_type": "display_data"
    }
   ],
   "source": [
    "im=[]\n",
    "# les x contiennent les index dans le dictionnaire \n",
    "for t in range (0,len(un)):\n",
    "    im_col=v[:, un[t]-1] \n",
    "    im.append(im_col)\n",
    "\n",
    "im = np.array(im).T # now make an array\n",
    "plt.imshow(im*255, cmap='Greys', interpolation='none', aspect='auto')"
   ]
  },
  {
   "cell_type": "code",
   "execution_count": 53,
   "metadata": {},
   "outputs": [
    {
     "data": {
      "image/png": "[encoded data removed]",
      "text/plain": [
       "<Figure size 1080x1080 with 10 Axes>"
      ]
     },
     "metadata": {
      "needs_background": "light"
     },
     "output_type": "display_data"
    }
   ],
   "source": [
    "fig, ax = plt.subplots(2,5,figsize=(15,15))\n",
    "fig.suptitle(\"Générations de Un\")\n",
    "number_of_subplots = 10\n",
    "\n",
    "for ind in range(number_of_subplots):\n",
    "    ind = ind+1\n",
    "    ax1 = plt.subplot(5,2,ind)\n",
    "    \n",
    "    un = genere_obs_seq_p2(genere_state_seq_p2(A1),B1)\n",
    "   \n",
    "    im=[]\n",
    "    for t in range (0,len(un)):\n",
    "        im_col=v[:, un[t]-1] \n",
    "        im.append(im_col)\n",
    "\n",
    "    im = np.array(im).T # now make an array\n",
    "    ax1.imshow(im*255, cmap='Greys', interpolation='none', aspect='auto')\n",
    "    \n",
    "\n",
    "plt.show()"
   ]
  },
  {
   "cell_type": "markdown",
   "metadata": {},
   "source": [
    "## II.3. Calcul de la vraisemblance de séquences d’observations"
   ]
  },
  {
   "cell_type": "markdown",
   "metadata": {},
   "source": [
    "Les fichiers SeqTest0.txt, SeqTest1.txt, SeqTest7.txt contiennent chacun 10 séquences d’observations de chiffres des 3 classes 0, 1 et 7, disposés en ligne. Le script suivant extrait la 5ème observation de la 3ème séquence des chiffres 0."
   ]
  },
  {
   "cell_type": "code",
   "execution_count": 54,
   "metadata": {},
   "outputs": [
    {
     "data": {
      "text/plain": [
       "(10, 28)"
      ]
     },
     "execution_count": 54,
     "metadata": {},
     "output_type": "execute_result"
    }
   ],
   "source": [
    "Test0=np.loadtxt('Partie2/SeqTest0.txt')\n",
    "Test1=np.loadtxt('Partie2/SeqTest1.txt')\n",
    "Test7=np.loadtxt('Partie2/SeqTest7.txt')\n",
    "np.shape(Test0)"
   ]
  },
  {
   "cell_type": "code",
   "execution_count": 55,
   "metadata": {},
   "outputs": [
    {
     "data": {
      "text/plain": [
       "1.0"
      ]
     },
     "execution_count": 55,
     "metadata": {},
     "output_type": "execute_result"
    }
   ],
   "source": [
    "nex=2\n",
    "seq= Test0[nex, : ] \n",
    "seq[4]"
   ]
  },
  {
   "cell_type": "markdown",
   "metadata": {},
   "source": [
    "### II.3.1 Calculer la vraisemblance de ces séquences suivant chacun des modèles (0, 1 et 7) par l’algorithme de Viterbi (on pourra implémenter la version logarithmique de cet algorithme). Pour cela les matrices A, B et π seront converties en logarithmes (utiliser np.log)."
   ]
  },
  {
   "cell_type": "code",
   "execution_count": 56,
   "metadata": {},
   "outputs": [],
   "source": [
    "# Viterbi:\n",
    "## nous allons chercher le parcours optimal d'état qui a permis de générer les observations ayant généré le chiffre.\n",
    "## Viterbi fait l'approximation de la vraisemblance de l'état t par le max des probabilités par états \n",
    "## pour la vraisemblance de la séquence d'observations à l'instant t.\n",
    "## nous parcourons colonne par colonne l'image, ce qui nous permet de sélectionner le chemin le plus vraisemblable.\n",
    "\n",
    "rep_zero = 0.0001 # Remplacement des probabilités nulles pour pouvoir passer au log\n",
    "\n",
    " \n",
    "def viterbi(V, a, b, initial_distribution):\n",
    "    \n",
    "    V = V-1\n",
    "    a = np.maximum(a,rep_zero)\n",
    "    b = np.maximum(b,rep_zero)\n",
    "    initial_distribution = np.maximum(initial_distribution,rep_zero)\n",
    "    \n",
    "    T = V.shape[0] \n",
    "    #print(T)\n",
    "    M = a.shape[0]\n",
    "    #print(M)\n",
    " \n",
    "    omega = np.zeros((T, M))\n",
    "    omega[0, :] = np.log(initial_distribution * b[:, V[0]])\n",
    " \n",
    "    prev = np.zeros((T - 1, M))\n",
    "    \n",
    "    for t in range(1, T):\n",
    "        for j in range(M):\n",
    "            # Same as Forward Probability\n",
    "            probability = omega[t - 1] + np.log(a[:, j]) + np.log(b[j, V[t]])\n",
    " \n",
    "            # This is our most probable state given previous state at time t (1)\n",
    "            prev[t - 1, j] = np.argmax(probability)\n",
    " \n",
    "            # This is the probability of the most probable state (2)\n",
    "            omega[t, j] = np.max(probability)\n",
    "            \n",
    " \n",
    "    # Path Array\n",
    "    S = np.zeros(T)\n",
    " \n",
    "    # Find the most probable last hidden state\n",
    "    last_state = np.argmax(omega[T - 1, :])\n",
    " \n",
    "    S[0] = last_state\n",
    "    log_vrais = omega[-1, last_state]\n",
    "    backtrack_index = 1\n",
    "    \n",
    "    for i in range(T - 2, -1, -1):\n",
    "        \n",
    "        S[backtrack_index] = prev[i, int(last_state)]\n",
    "        #log_vrais = log_vrais + omega[i,int(last_state)]\n",
    "\n",
    "        last_state = prev[i, int(last_state)]\n",
    "        backtrack_index += 1\n",
    " \n",
    "    # Flip the path array since we were backtracking\n",
    "    S = np.flip(S, axis=0)\n",
    "    \n",
    " \n",
    "    return log_vrais #, S+1, omega, prev "
   ]
  },
  {
   "cell_type": "code",
   "execution_count": 57,
   "metadata": {},
   "outputs": [
    {
     "data": {
      "text/plain": [
       "-29.208426705363717"
      ]
     },
     "execution_count": 57,
     "metadata": {},
     "output_type": "execute_result"
    }
   ],
   "source": [
    "viterbi(Test0[0,:].astype(int),A0,B0.T,Pi0)"
   ]
  },
  {
   "cell_type": "code",
   "execution_count": 58,
   "metadata": {},
   "outputs": [
    {
     "data": {
      "image/png": "[encoded data removed]",
      "text/plain": [
       "<Figure size 1080x1080 with 10 Axes>"
      ]
     },
     "metadata": {
      "needs_background": "light"
     },
     "output_type": "display_data"
    }
   ],
   "source": [
    "fig, ax = plt.subplots(2,5,figsize=(15,15))\n",
    "fig.suptitle(\"Sequences Tests 0\")\n",
    "number_of_subplots = 10\n",
    "\n",
    "for ind in range(number_of_subplots):\n",
    "    #ind = ind+1\n",
    "    ax1 = plt.subplot(5,2,ind+1)\n",
    "    \n",
    "   \n",
    "    im=[]\n",
    "    for t in range(28):\n",
    "        im_col=v[:,int(Test0[ind,t]-1)] \n",
    "        im.append(im_col)\n",
    "\n",
    "    im = np.array(im).T # now make an array\n",
    "    ax1.imshow(im*255, cmap='Greys', interpolation='none', aspect='auto')\n",
    "    \n",
    "\n",
    "plt.show()"
   ]
  },
  {
   "cell_type": "code",
   "execution_count": 59,
   "metadata": {},
   "outputs": [
    {
     "data": {
      "text/plain": [
       "[-29.208426705363717,\n",
       " -32.68234996207178,\n",
       " -38.309577006740305,\n",
       " -32.16647268405238,\n",
       " -48.547107434668916,\n",
       " -32.18850137867669,\n",
       " -35.277741843072974,\n",
       " -25.575501241501946,\n",
       " -42.38375762605021,\n",
       " -21.836038362572413]"
      ]
     },
     "execution_count": 59,
     "metadata": {},
     "output_type": "execute_result"
    }
   ],
   "source": [
    "LogVraisemblance_0 = []\n",
    "for ind in range(10):\n",
    "    LogVraisemblance_0.append(viterbi(Test0[ind,:].astype(int),A0,B0.T,Pi0))\n",
    "    \n",
    "LogVraisemblance_0"
   ]
  },
  {
   "cell_type": "code",
   "execution_count": 60,
   "metadata": {},
   "outputs": [
    {
     "data": {
      "image/png": "[encoded data removed]",
      "text/plain": [
       "<Figure size 1080x1080 with 10 Axes>"
      ]
     },
     "metadata": {
      "needs_background": "light"
     },
     "output_type": "display_data"
    }
   ],
   "source": [
    "fig, ax = plt.subplots(2,5,figsize=(15,15))\n",
    "fig.suptitle(\"Sequences Tests 1\")\n",
    "number_of_subplots = 10\n",
    "\n",
    "for ind in range(number_of_subplots):\n",
    "    #ind = ind+1\n",
    "    ax1 = plt.subplot(5,2,ind+1)\n",
    "    \n",
    "   \n",
    "    im=[]\n",
    "    for t in range(28):\n",
    "        im_col=v[:,int(Test1[ind,t]-1)] \n",
    "        im.append(im_col)\n",
    "\n",
    "    im = np.array(im).T # now make an array\n",
    "    ax1.imshow(im*255, cmap='Greys', interpolation='none', aspect='auto')\n",
    "    \n",
    "\n",
    "plt.show()"
   ]
  },
  {
   "cell_type": "code",
   "execution_count": 61,
   "metadata": {},
   "outputs": [
    {
     "data": {
      "text/plain": [
       "[-53.326274000006876,\n",
       " -13.187904670419448,\n",
       " -23.337237751096225,\n",
       " -13.598990029774578,\n",
       " -13.71865871704602,\n",
       " -44.173100175418455,\n",
       " -29.449165697120588,\n",
       " -32.03266474623107,\n",
       " -18.908507677380406,\n",
       " -10.832459939334324]"
      ]
     },
     "execution_count": 61,
     "metadata": {},
     "output_type": "execute_result"
    }
   ],
   "source": [
    "LogVraisemblance_1 = []\n",
    "for ind in range(10):\n",
    "    LogVraisemblance_1.append(viterbi(Test1[ind,:].astype(int),A1,B1.T,Pi1))\n",
    "    \n",
    "LogVraisemblance_1"
   ]
  },
  {
   "cell_type": "code",
   "execution_count": 62,
   "metadata": {},
   "outputs": [
    {
     "data": {
      "image/png": "[encoded data removed]",
      "text/plain": [
       "<Figure size 1080x1080 with 10 Axes>"
      ]
     },
     "metadata": {
      "needs_background": "light"
     },
     "output_type": "display_data"
    }
   ],
   "source": [
    "fig, ax = plt.subplots(2,5,figsize=(15,15))\n",
    "fig.suptitle(\"Sequences Tests 7\")\n",
    "number_of_subplots = 10\n",
    "\n",
    "for ind in range(number_of_subplots):\n",
    "    #ind = ind+1\n",
    "    ax1 = plt.subplot(5,2,ind+1)\n",
    "    \n",
    "   \n",
    "    im=[]\n",
    "    for t in range(28):\n",
    "        im_col=v[:,int(Test7[ind,t]-1)] \n",
    "        im.append(im_col)\n",
    "\n",
    "    im = np.array(im).T # now make an array\n",
    "    ax1.imshow(im*255, cmap='Greys', interpolation='none', aspect='auto')\n",
    "    \n",
    "\n",
    "plt.show()"
   ]
  },
  {
   "cell_type": "code",
   "execution_count": 63,
   "metadata": {},
   "outputs": [
    {
     "data": {
      "text/plain": [
       "[-68.591412607657,\n",
       " -28.439522524027605,\n",
       " -39.18668877476419,\n",
       " -34.63863858557215,\n",
       " -34.90571884139439,\n",
       " -62.92502886545917,\n",
       " -35.263203925231046,\n",
       " -45.051225224628915,\n",
       " -51.33900991274763,\n",
       " -38.07375834910825]"
      ]
     },
     "execution_count": 63,
     "metadata": {},
     "output_type": "execute_result"
    }
   ],
   "source": [
    "LogVraisemblance_7 = []\n",
    "for ind in range(10):\n",
    "    LogVraisemblance_7.append(viterbi(Test1[ind,:].astype(int),A7,B7.T,Pi7))\n",
    "    \n",
    "LogVraisemblance_7"
   ]
  },
  {
   "cell_type": "markdown",
   "metadata": {},
   "source": [
    "### II.3.2 Donner le résultat de la classification des images de test en considérant un problème à trois classes : 0, 1 et 7."
   ]
  },
  {
   "cell_type": "code",
   "execution_count": 64,
   "metadata": {},
   "outputs": [],
   "source": [
    "def classif_images(Test,A0,B0,Pi0,A1,B1,Pi1,A7,B7,Pi7):\n",
    "    nb_images = np.shape(Test0)[0]\n",
    "    Liste_Classif = []\n",
    "    \n",
    "    for ind in range(nb_images):\n",
    "        LV_0 = viterbi(Test[ind,:].astype(int),A0,B0.T,Pi0)\n",
    "        LV_1 = viterbi(Test[ind,:].astype(int),A1,B1.T,Pi1)\n",
    "        LV_7 = viterbi(Test[ind,:].astype(int),A7,B7.T,Pi7)\n",
    "        \n",
    "        Liste_LV = [LV_0, LV_1, LV_7]\n",
    "        Liste_LV = np.array(Liste_LV)\n",
    "        \n",
    "        Classif = np.argmax(Liste_LV)\n",
    "        \n",
    "        if Classif == 0:\n",
    "            Classif_Chiffre = '0'\n",
    "        elif Classif == 1:\n",
    "            Classif_Chiffre = '1'\n",
    "        else:\n",
    "            Classif_Chiffre = '7'\n",
    "\n",
    "        \n",
    "        Liste_Classif.append(Classif_Chiffre)\n",
    "        \n",
    "    return Liste_Classif"
   ]
  },
  {
   "cell_type": "code",
   "execution_count": 65,
   "metadata": {},
   "outputs": [
    {
     "data": {
      "text/plain": [
       "['0', '0', '0', '0', '0', '0', '0', '0', '0', '0']"
      ]
     },
     "execution_count": 65,
     "metadata": {},
     "output_type": "execute_result"
    }
   ],
   "source": [
    "classif_images(Test0,A0,B0,Pi0,A1,B1,Pi1,A7,B7,Pi7)"
   ]
  },
  {
   "cell_type": "code",
   "execution_count": 66,
   "metadata": {},
   "outputs": [
    {
     "data": {
      "text/plain": [
       "['1', '1', '1', '1', '1', '1', '1', '1', '1', '1']"
      ]
     },
     "execution_count": 66,
     "metadata": {},
     "output_type": "execute_result"
    }
   ],
   "source": [
    "classif_images(Test1,A0,B0,Pi0,A1,B1,Pi1,A7,B7,Pi7)"
   ]
  },
  {
   "cell_type": "code",
   "execution_count": 67,
   "metadata": {},
   "outputs": [
    {
     "data": {
      "text/plain": [
       "['7', '7', '1', '7', '7', '7', '7', '7', '7', '7']"
      ]
     },
     "execution_count": 67,
     "metadata": {},
     "output_type": "execute_result"
    }
   ],
   "source": [
    "classif_images(Test7,A0,B0,Pi0,A1,B1,Pi1,A7,B7,Pi7)"
   ]
  },
  {
   "cell_type": "markdown",
   "metadata": {},
   "source": [
    "La classification fonctionne plutôt bien, seule la troisième image de 7 est confondue avec un 1. Visuellement il est aussi compliqué de faire la distinction:"
   ]
  },
  {
   "cell_type": "code",
   "execution_count": 68,
   "metadata": {},
   "outputs": [
    {
     "data": {
      "text/plain": [
       "<matplotlib.image.AxesImage at 0x1159f19b0>"
      ]
     },
     "execution_count": 68,
     "metadata": {},
     "output_type": "execute_result"
    },
    {
     "data": {
      "image/png": "[encoded data removed]",
      "text/plain": [
       "<Figure size 432x288 with 1 Axes>"
      ]
     },
     "metadata": {
      "needs_background": "light"
     },
     "output_type": "display_data"
    }
   ],
   "source": [
    "im=[]\n",
    "for t in range(28):\n",
    "    im_col=v[:,int(Test7[2,t]-1)] \n",
    "    im.append(im_col)\n",
    "\n",
    "im = np.array(im).T # now make an array\n",
    "plt.imshow(im*255, cmap='Greys', interpolation='none', aspect='auto')"
   ]
  }
 ],
 "metadata": {
  "kernelspec": {
   "display_name": "Python 3",
   "language": "python",
   "name": "python3"
  },
  "language_info": {
   "codemirror_mode": {
    "name": "ipython",
    "version": 3
   },
   "file_extension": ".py",
   "mimetype": "text/x-python",
   "name": "python",
   "nbconvert_exporter": "python",
   "pygments_lexer": "ipython3",
   "version": "3.7.3"
  }
 },
 "nbformat": 4,
 "nbformat_minor": 2
}
