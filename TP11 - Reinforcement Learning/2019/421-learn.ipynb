{
 "cells": [
  {
   "cell_type": "markdown",
   "metadata": {},
   "source": [
    "# Trouver une bonne stratégie au 421"
   ]
  },
  {
   "cell_type": "markdown",
   "metadata": {},
   "source": [
    "L'objectif est d'apprendre à jouer au jeu du [421](https://fr.wikipedia.org/wiki/421_(jeu)) contre un adversaire. \n",
    "\n",
    "Il y a 21 pions au départ, répartis aléatoirement : c'est la *charge*. <br>Pour la *décharge*, on établit 2 stratégies *déterministes* : \n",
    "* l'une en tant que meneur (vous avez la main et décidez quand vous arrêter), \n",
    "* l'autre en tant qu'opposant (vous jouez en fonction de la combinaison et du nombre de coups du meneur).\n"
   ]
  },
  {
   "cell_type": "markdown",
   "metadata": {},
   "source": [
    "## Init"
   ]
  },
  {
   "cell_type": "code",
   "execution_count": null,
   "metadata": {},
   "outputs": [],
   "source": [
    "import numpy as np\n",
    "import matplotlib.pyplot as plt"
   ]
  },
  {
   "cell_type": "code",
   "execution_count": null,
   "metadata": {},
   "outputs": [],
   "source": [
    "total_budget = 21"
   ]
  },
  {
   "cell_type": "code",
   "execution_count": null,
   "metadata": {},
   "outputs": [],
   "source": [
    "dice = np.arange(1,7)"
   ]
  },
  {
   "cell_type": "code",
   "execution_count": null,
   "metadata": {},
   "outputs": [],
   "source": [
    "throws = np.arange(3)"
   ]
  },
  {
   "cell_type": "code",
   "execution_count": null,
   "metadata": {},
   "outputs": [],
   "source": [
    "def get_scores():\n",
    "    scores = {(4,2,1): 11, (1,1,1): 7, (2,2,1): 0}\n",
    "    scores.update({(d,1,1): d for d in dice if d > 1})\n",
    "    scores.update({(d,d,d): d for d in dice if d > 1})\n",
    "    scores.update({(d,d - 1,d - 2): 2 for d in dice if d > 2})\n",
    "    specials = list(scores.keys())\n",
    "    scores.update({(d,e,f): 1 for d in dice \n",
    "                  for e in dice if e <= d \n",
    "                  for f in dice if f <= e and (d,e,f) not in specials})\n",
    "    return scores, specials"
   ]
  },
  {
   "cell_type": "code",
   "execution_count": null,
   "metadata": {},
   "outputs": [],
   "source": [
    "scores, specials = get_scores()"
   ]
  },
  {
   "cell_type": "code",
   "execution_count": null,
   "metadata": {},
   "outputs": [],
   "source": [
    "reverse_dice = np.arange(6, 0, -1)"
   ]
  },
  {
   "cell_type": "code",
   "execution_count": null,
   "metadata": {},
   "outputs": [],
   "source": [
    "def get_rank():\n",
    "    rank = {(4,2,1): 0, (1,1,1): 1}\n",
    "    rank.update({(d,1,1): 2 + i for i,d in enumerate(reverse_dice) if d > 1}) \n",
    "    rank.update({(d,d,d): 7 + i for i,d in enumerate(reverse_dice) if d > 1})\n",
    "    rank.update({(d,d - 1,d - 2): 12 + i for i,d in enumerate(reverse_dice) if d > 2})\n",
    "    specials = list(rank.keys())    \n",
    "    i = 16\n",
    "    for d in reverse_dice:\n",
    "        for e in range(d, 0, -1):\n",
    "            for f in range(e, 0, -1):\n",
    "                if (d,e,f) not in specials:\n",
    "                    rank[(d,e,f)] = i\n",
    "                    i += 1\n",
    "    return rank"
   ]
  },
  {
   "cell_type": "code",
   "execution_count": null,
   "metadata": {},
   "outputs": [],
   "source": [
    "rank = get_rank()"
   ]
  },
  {
   "cell_type": "code",
   "execution_count": null,
   "metadata": {},
   "outputs": [],
   "source": [
    "states = list(scores.keys())"
   ]
  },
  {
   "cell_type": "code",
   "execution_count": null,
   "metadata": {},
   "outputs": [],
   "source": [
    "actions = [(a,b,c) for a in range(2) for b in range(2) for c in range(2)]"
   ]
  },
  {
   "cell_type": "markdown",
   "metadata": {},
   "source": [
    "## Training"
   ]
  },
  {
   "cell_type": "markdown",
   "metadata": {},
   "source": [
    "Value iteration"
   ]
  },
  {
   "cell_type": "code",
   "execution_count": null,
   "metadata": {},
   "outputs": [],
   "source": [
    "def transition_prob(state, action):\n",
    "    prob = {}\n",
    "    nb = np.sum(action)\n",
    "    for i in range(6**nb):\n",
    "        new_state = np.array(state)\n",
    "        die = i\n",
    "        for j in range(3):\n",
    "            if action[j]:\n",
    "                new_state[j] = die % 6 + 1\n",
    "                die = die // 6\n",
    "        new_state = tuple(sorted(new_state,reverse = True))\n",
    "        if new_state in prob:\n",
    "            prob[new_state] += 1 / 6**nb\n",
    "        else:\n",
    "            prob[new_state] = 1 / 6**nb\n",
    "    return prob"
   ]
  },
  {
   "cell_type": "code",
   "execution_count": null,
   "metadata": {},
   "outputs": [],
   "source": [
    "def get_score(state1, state2):\n",
    "    if rank[state1] < rank[state2]:\n",
    "        # player 1 wins\n",
    "        return scores[state1]\n",
    "    elif rank[state1] > rank[state2]:\n",
    "        # player 2 wins\n",
    "        return -scores[state2]\n",
    "    else:\n",
    "        # random tie breaking (to be taken into account)\n",
    "        return 0    "
   ]
  },
  {
   "cell_type": "code",
   "execution_count": null,
   "metadata": {},
   "outputs": [],
   "source": [
    "def opponent_training():\n",
    "    V = {}    \n",
    "    policy = {}\n",
    "    for throw in throws:\n",
    "        if throw == 0:\n",
    "            for state in states:\n",
    "                for lead_state in states:\n",
    "                    V[(lead_state, state, throw)] = get_score(state, lead_state)\n",
    "        else:      \n",
    "            for state in states:\n",
    "                for lead_state in states:\n",
    "                    max_value = np.NINF\n",
    "                    for action in actions:\n",
    "                        value = 0\n",
    "                        prob = transition_prob(state, action)\n",
    "                        for s in prob:\n",
    "                            value += prob[s] * V[(lead_state, s, throw - 1)]\n",
    "                        if value > max_value:\n",
    "                            max_value = value\n",
    "                            best_action = action\n",
    "                    V[(lead_state, state, throw)] = max_value\n",
    "                    if best_action != (0,0,0):\n",
    "                        policy[(lead_state, state, throw)] = best_action\n",
    "    return V, policy"
   ]
  },
  {
   "cell_type": "code",
   "execution_count": null,
   "metadata": {},
   "outputs": [],
   "source": [
    "V, opponent = opponent_training()"
   ]
  },
  {
   "cell_type": "code",
   "execution_count": null,
   "metadata": {},
   "outputs": [],
   "source": [
    "def lead_training(opponent_value):\n",
    "    V = {}\n",
    "    for throw in throws:\n",
    "        for lead_state in states:\n",
    "            value = 0\n",
    "            prob = transition_prob((1,1,1), (1,1,1))\n",
    "            for s in prob:\n",
    "                value += prob[s] * opponent_value[(lead_state, s, throw)]\n",
    "            V[(lead_state, throw)] = -value\n",
    "    policy = {}\n",
    "    for throw in throws:\n",
    "        if throw > 0:\n",
    "            for lead_state in states:\n",
    "                max_value = np.NINF\n",
    "                for action in actions:\n",
    "                    value = 0\n",
    "                    prob = transition_prob(lead_state, action)\n",
    "                    for s in prob:\n",
    "                        value += prob[s] * V[(s, throw - 1)]\n",
    "                    if value > max_value:\n",
    "                        max_value = value\n",
    "                        best_action = action\n",
    "                if best_action != (0,0,0):\n",
    "                    policy[(lead_state, throw)] = best_action\n",
    "    return policy"
   ]
  },
  {
   "cell_type": "code",
   "execution_count": null,
   "metadata": {},
   "outputs": [],
   "source": [
    "lead = lead_training(V)"
   ]
  },
  {
   "cell_type": "markdown",
   "metadata": {},
   "source": [
    "## Save policy"
   ]
  },
  {
   "cell_type": "code",
   "execution_count": null,
   "metadata": {},
   "outputs": [],
   "source": [
    "import csv"
   ]
  },
  {
   "cell_type": "code",
   "execution_count": null,
   "metadata": {},
   "outputs": [],
   "source": [
    "def save_lead(lead, filename = 'lead.csv'):\n",
    "    with open(filename, mode='w') as csvfile:\n",
    "        writer = csv.writer(csvfile)\n",
    "        for (state, throw) in lead:\n",
    "            row = [state[i] for i in range(3)]\n",
    "            row += [throw]\n",
    "            action = lead[(state, throw)]\n",
    "            row += [action[i] for i in range(3)]\n",
    "            writer.writerow(row)"
   ]
  },
  {
   "cell_type": "code",
   "execution_count": null,
   "metadata": {},
   "outputs": [],
   "source": [
    "save_lead(lead)"
   ]
  },
  {
   "cell_type": "code",
   "execution_count": null,
   "metadata": {},
   "outputs": [],
   "source": [
    "def save_opponent(opponent, filename = 'opponent.csv'):\n",
    "    with open(filename, mode='w') as csvfile:\n",
    "        writer = csv.writer(csvfile)\n",
    "        for (lead_state, state, throw) in opponent:\n",
    "            row = [lead_state[i] for i in range(3)]\n",
    "            row += [state[i] for i in range(3)]\n",
    "            row += [throw]\n",
    "            action = opponent[(lead_state, state, throw)]\n",
    "            row += [action[i] for i in range(3)]\n",
    "            writer.writerow(row)"
   ]
  },
  {
   "cell_type": "code",
   "execution_count": null,
   "metadata": {},
   "outputs": [],
   "source": [
    "save_opponent(opponent)"
   ]
  },
  {
   "cell_type": "code",
   "execution_count": null,
   "metadata": {},
   "outputs": [],
   "source": [
    "#opponent"
   ]
  },
  {
   "cell_type": "markdown",
   "metadata": {},
   "source": [
    "## Play the game"
   ]
  },
  {
   "cell_type": "code",
   "execution_count": null,
   "metadata": {},
   "outputs": [],
   "source": [
    "def random_state():\n",
    "    a = np.random.choice(6) + 1\n",
    "    b = np.random.choice(6) + 1\n",
    "    c = np.random.choice(6) + 1\n",
    "    return tuple(sorted((a,b,c),reverse = True))"
   ]
  },
  {
   "cell_type": "code",
   "execution_count": null,
   "metadata": {},
   "outputs": [],
   "source": [
    "def transition_prob(state, action):\n",
    "    prob = {}\n",
    "    nb = np.sum(action)\n",
    "    for i in range(6**nb):\n",
    "        new_state = np.array(state)\n",
    "        die = i\n",
    "        for j in range(3):\n",
    "            if action[j]:\n",
    "                new_state[j] = die % 6 + 1\n",
    "                die = die // 6\n",
    "        new_state = tuple(sorted(new_state, reverse = True))\n",
    "        if new_state in prob:\n",
    "            prob[new_state] += 1 / 6**nb\n",
    "        else:\n",
    "            prob[new_state] = 1 / 6**nb\n",
    "    return prob"
   ]
  },
  {
   "cell_type": "code",
   "execution_count": null,
   "metadata": {},
   "outputs": [],
   "source": [
    "def move(state, action):\n",
    "    prob = transition_prob(state, action)\n",
    "    i = np.random.choice(np.arange(len(prob)), p = list(prob.values()))\n",
    "    return list(prob.keys())[i]"
   ]
  },
  {
   "cell_type": "code",
   "execution_count": null,
   "metadata": {},
   "outputs": [],
   "source": [
    "# Score of the leader (single round)\n",
    "\n",
    "def lead_score(lead, opponent, lead_budget):\n",
    "    # leader\n",
    "    state = random_state()\n",
    "    throw = 2\n",
    "    #print(state, throw)\n",
    "    while throw > 0 and (state, throw) in lead and lead[(state, throw)] != (0,0,0):\n",
    "        action = lead[(state, throw)]\n",
    "        state = move(state, action)\n",
    "        throw -= 1\n",
    "        #print(state, throw)\n",
    "    lead_state = state\n",
    "    # opponent\n",
    "    state = random_state()\n",
    "    throw = 2 - throw\n",
    "    #print(state, throw)\n",
    "    while throw > 0 and (lead_state, state, throw) in opponent and opponent[(lead_state, state, throw)] != (0,0,0):\n",
    "        #print(state)\n",
    "        action = opponent[(lead_state, state, throw)]\n",
    "        state = move(state, action)\n",
    "        throw -= 1\n",
    "        #print(state, throw)\n",
    "    return get_score(lead_state, state)"
   ]
  },
  {
   "cell_type": "code",
   "execution_count": null,
   "metadata": {},
   "outputs": [],
   "source": [
    "# Winner of a game (returns the winner)\n",
    "\n",
    "def game(lead1, opponent1, lead2, opponent2):\n",
    "    # charge\n",
    "    budget = total_budget\n",
    "    budget1 = 0\n",
    "    budget2 = 0\n",
    "    while budget > 0:\n",
    "        state1 = random_state()\n",
    "        state2 = random_state()\n",
    "        result =  get_score(state1, state2)\n",
    "        cost = min(abs(result), budget)\n",
    "        if result > 0:\n",
    "            budget2 += cost\n",
    "            leader = 2\n",
    "        else:\n",
    "            budget1 += cost\n",
    "            leader = 1\n",
    "        budget -= cost\n",
    "    # decharge\n",
    "    while budget1 > 0 and budget2 > 0:\n",
    "        if leader == 1:\n",
    "            result = lead_score(lead1, opponent2, budget1)\n",
    "            budget1 -= result\n",
    "            budget2 += result\n",
    "            if result > 0:\n",
    "                leader = 2\n",
    "        else:\n",
    "            result = lead_score(lead2, opponent1, budget2)\n",
    "            budget1 += result\n",
    "            budget2 -= result\n",
    "            if result > 0:\n",
    "                leader = 1          \n",
    "    if budget1 > 0:\n",
    "        return 2\n",
    "    else:\n",
    "        return 1"
   ]
  },
  {
   "cell_type": "code",
   "execution_count": null,
   "metadata": {},
   "outputs": [],
   "source": [
    "lead1 = lead\n",
    "opponent1 = opponent\n",
    "lead2 = {}\n",
    "opponent2 = {}"
   ]
  },
  {
   "cell_type": "code",
   "execution_count": null,
   "metadata": {},
   "outputs": [],
   "source": [
    "# Basic strategy\n",
    "\n",
    "def keep_ones(state):\n",
    "    return tuple([int(state[i] != 1) for i in range(3)])"
   ]
  },
  {
   "cell_type": "code",
   "execution_count": null,
   "metadata": {},
   "outputs": [],
   "source": [
    "# Keep only special combinations\n",
    "\n",
    "def lead_keep_specials():\n",
    "    lead = {}\n",
    "    for state in states:\n",
    "        if state not in specials:\n",
    "            for throw in throws:\n",
    "                if throw > 0:\n",
    "                    lead[(state,throw)] = keep_ones(state)\n",
    "    return lead"
   ]
  },
  {
   "cell_type": "code",
   "execution_count": null,
   "metadata": {},
   "outputs": [],
   "source": [
    "# Opponent\n",
    "\n",
    "def opponent_keep_ones():\n",
    "    opponent = {}\n",
    "    for lead_state in states:\n",
    "        for state in states:\n",
    "            if get_score(state, lead_state) <= 0:\n",
    "                for throw in throws:\n",
    "                    if throw > 0:\n",
    "                        opponent[(lead_state,state,throw)] = keep_ones(state)\n",
    "    return opponent"
   ]
  },
  {
   "cell_type": "code",
   "execution_count": null,
   "metadata": {},
   "outputs": [],
   "source": [
    "lead2 = lead_keep_specials()"
   ]
  },
  {
   "cell_type": "code",
   "execution_count": null,
   "metadata": {},
   "outputs": [],
   "source": [
    "opponent2 = opponent_keep_ones()"
   ]
  },
  {
   "cell_type": "code",
   "execution_count": null,
   "metadata": {
    "scrolled": true
   },
   "outputs": [],
   "source": [
    "# One game\n",
    "game(lead1, opponent1, lead2, opponent2)"
   ]
  },
  {
   "cell_type": "code",
   "execution_count": null,
   "metadata": {},
   "outputs": [],
   "source": [
    "# Multiple games\n",
    "n_games = 100\n",
    "victory = 0\n",
    "for i in range(n_games):\n",
    "    if game(lead1, opponent1, lead2, opponent2) == 1:\n",
    "        victory += 1\n",
    "victory"
   ]
  },
  {
   "cell_type": "code",
   "execution_count": null,
   "metadata": {},
   "outputs": [],
   "source": []
  }
 ],
 "metadata": {
  "hide_input": false,
  "kernelspec": {
   "display_name": "Python 3",
   "language": "python",
   "name": "python3"
  },
  "language_info": {
   "codemirror_mode": {
    "name": "ipython",
    "version": 3
   },
   "file_extension": ".py",
   "mimetype": "text/x-python",
   "name": "python",
   "nbconvert_exporter": "python",
   "pygments_lexer": "ipython3",
   "version": "3.7.3"
  }
 },
 "nbformat": 4,
 "nbformat_minor": 2
}
