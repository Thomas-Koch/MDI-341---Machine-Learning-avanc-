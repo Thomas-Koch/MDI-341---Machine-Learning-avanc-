{
 "cells": [
  {
   "cell_type": "markdown",
   "metadata": {},
   "source": [
    "# **TP Large Scale Kernel Methods**"
   ]
  },
  {
   "cell_type": "code",
   "execution_count": 1,
   "metadata": {},
   "outputs": [],
   "source": [
    "import numpy as np\n",
    "from scipy import linalg\n",
    "import matplotlib.pyplot as plt\n",
    "plt.style.use('ggplot')\n",
    "\n",
    "from sklearn.model_selection import train_test_split\n",
    "from sklearn.preprocessing import StandardScaler\n",
    "from sklearn.datasets import load_svmlight_file"
   ]
  },
  {
   "cell_type": "code",
   "execution_count": 2,
   "metadata": {},
   "outputs": [
    {
     "data": {
      "text/plain": [
       "['tableau-colorblind10',\n",
       " 'seaborn-bright',\n",
       " 'seaborn-poster',\n",
       " 'ggplot',\n",
       " 'seaborn',\n",
       " 'seaborn-muted',\n",
       " 'seaborn-dark-palette',\n",
       " 'fast',\n",
       " 'seaborn-darkgrid',\n",
       " 'seaborn-talk',\n",
       " 'Solarize_Light2',\n",
       " 'classic',\n",
       " 'fivethirtyeight',\n",
       " 'bmh',\n",
       " 'seaborn-pastel',\n",
       " 'seaborn-deep',\n",
       " 'seaborn-notebook',\n",
       " 'seaborn-ticks',\n",
       " 'seaborn-whitegrid',\n",
       " 'seaborn-dark',\n",
       " 'seaborn-paper',\n",
       " 'grayscale',\n",
       " 'dark_background',\n",
       " '_classic_test',\n",
       " 'seaborn-white',\n",
       " 'seaborn-colorblind']"
      ]
     },
     "execution_count": 2,
     "metadata": {},
     "output_type": "execute_result"
    }
   ],
   "source": [
    "plt.style.available\n",
    "# https://matplotlib.org/3.1.1/gallery/style_sheets/style_sheets_reference.html"
   ]
  },
  {
   "cell_type": "markdown",
   "metadata": {},
   "source": [
    "## Chargement et partitionnement des données"
   ]
  },
  {
   "cell_type": "code",
   "execution_count": 3,
   "metadata": {},
   "outputs": [
    {
     "name": "stdout",
     "output_type": "stream",
     "text": [
      "Nombre d'exemples d'apprentissage: 20000\n",
      "Nombre d'exemples de test: 40000\n",
      "Nombre de features: 22\n"
     ]
    }
   ],
   "source": [
    "###############################################################################\n",
    "# Requires file ijcnn1.dat.gz to be present in the directory\n",
    "\n",
    "dataset_path = 'ijcnn1.dat'\n",
    "ijcnn1 = load_svmlight_file(dataset_path)\n",
    "X = ijcnn1[0].todense()\n",
    "y = ijcnn1[1]\n",
    "\n",
    "###############################################################################\n",
    "# Extract features\n",
    "\n",
    "X_train, X_test, y_train, y_test = train_test_split(X[:60000, :], y[:60000],\n",
    "                     train_size=20000, random_state=42)\n",
    "\n",
    "# Standardize features by removing the mean and scaling to unit variance\n",
    "scaler = StandardScaler() \n",
    "X_train = scaler.fit_transform(X_train) # Fit to data, then transform it.\n",
    "X_test = scaler.transform(X_test) # Perform standardization by centering and scaling\n",
    "\n",
    "n1, p = X_train.shape\n",
    "n2 = X_test.shape[0]\n",
    "\n",
    "print(\"Nombre d'exemples d'apprentissage:\", n1)\n",
    "print(\"Nombre d'exemples de test:\", n2)\n",
    "print(\"Nombre de features:\", p)"
   ]
  },
  {
   "cell_type": "markdown",
   "metadata": {},
   "source": [
    "## Question 1"
   ]
  },
  {
   "cell_type": "markdown",
   "metadata": {},
   "source": [
    "On va fitter nos données d'apprentissage avec un SVM linéaire et un SVM non-linéaire (noyau Gaussien) pour comparer leur score de prédiction ainsi que le temps de calcul nécessaire à l'apprentissage et à la prédiction."
   ]
  },
  {
   "cell_type": "code",
   "execution_count": 4,
   "metadata": {},
   "outputs": [
    {
     "name": "stdout",
     "output_type": "stream",
     "text": [
      "====== SVC rbf ======\n",
      "Fitting SVC rbf on 20000 samples...\n",
      "done in 8.373s\n",
      "Predicting with SVC rbf on 40000 samples...\n",
      "done in 8.185s\n",
      "Total time for SVC rbf = 16.559s\n",
      "classification accuracy: 0.980\n",
      "-----------------\n",
      "====== Linear SVC ======\n",
      "Fitting SVC linear on 20000 samples...\n",
      "done in 0.227s\n",
      "Predicting with SVC linear on 40000 samples...\n",
      "done in 0.024s\n",
      "Total time for SVC linear = 0.252s\n",
      "classification accuracy: 0.917\n"
     ]
    }
   ],
   "source": [
    "from sklearn.svm import SVC, LinearSVC\n",
    "from time import time\n",
    "\n",
    "# Non-linear SVC with Gaussian kernel\n",
    "print(\"====== SVC rbf ======\" )\n",
    "print(\"Fitting SVC rbf on %d samples...\" % X_train.shape[0])\n",
    "t0 = time()\n",
    "clf = SVC(kernel='rbf')\n",
    "clf.fit(X_train, y_train)\n",
    "print(\"done in %0.3fs\" % (time() - t0))\n",
    "\n",
    "print(\"Predicting with SVC rbf on %d samples...\" % X_test.shape[0])\n",
    "t1 = time()\n",
    "accuracy_kernel = clf.score(X_test, y_test)\n",
    "print(\"done in %0.3fs\" % (time() - t1))\n",
    "timing_kernel = time() - t0\n",
    "print(\"Total time for SVC rbf = %0.3fs\" % (timing_kernel))\n",
    "print(\"classification accuracy: %0.3f\" % accuracy_kernel)\n",
    "\n",
    "\n",
    "print(\"-----------------\")\n",
    "\n",
    "\n",
    "# LinearSVC\n",
    "print(\"====== Linear SVC ======\" )\n",
    "print(\"Fitting SVC linear on %d samples...\" % X_train.shape[0])\n",
    "t0 = time()\n",
    "clf_linear = LinearSVC(dual=False)\n",
    "clf_linear.fit(X_train, y_train)\n",
    "print(\"done in %0.3fs\" % (time() - t0))\n",
    "\n",
    "print(\"Predicting with SVC linear on %d samples...\" % X_test.shape[0])\n",
    "t1 = time()\n",
    "accuracy_linear = clf_linear.score(X_test, y_test)\n",
    "print(\"done in %0.3fs\" % (time() - t1))\n",
    "timing_linear = time() - t0\n",
    "print(\"Total time for SVC linear = %0.3fs\" % (timing_linear))\n",
    "print(\"classification accuracy: %0.3f\" % accuracy_linear)\n"
   ]
  },
  {
   "cell_type": "markdown",
   "metadata": {},
   "source": [
    "> Nous constatons donc que la **version à noyau gaussien du SVM obtient un bien meilleur score de prédiction** que la version linéaire. Toutefois, **cette précision se paye au prix d'un temps de calcul 10 à 100 fois supérieur**, que ce soit pour l'apprentissage (jeu de train) ou la prédiction (jeu de test)."
   ]
  },
  {
   "cell_type": "markdown",
   "metadata": {},
   "source": [
    "## Question 2"
   ]
  },
  {
   "cell_type": "markdown",
   "metadata": {},
   "source": [
    "On code une fonction qui calcule la meilleure approximation de rang $k$."
   ]
  },
  {
   "cell_type": "code",
   "execution_count": 5,
   "metadata": {},
   "outputs": [],
   "source": [
    "from scipy.sparse.linalg import svds\n",
    "from scipy.linalg import svd\n",
    "\n",
    "def rank_trunc(gram_mat, k, fast=True):\n",
    "    \"\"\"\n",
    "    k-th order approximation of the Gram Matrix G.\n",
    "\n",
    "    Parameters\n",
    "    ----------\n",
    "    gram_mat : array, shape (n_samples, n_samples)\n",
    "        the Gram matrix\n",
    "    k : int\n",
    "        the order approximation\n",
    "    fast : bool\n",
    "        use svd (if False) or svds (if True).\n",
    "\n",
    "    Return\n",
    "    ------\n",
    "    gram_mat_k : array, shape (n_samples, n_samples)\n",
    "        The rank k Gram matrix.\n",
    "    \"\"\"\n",
    "    if fast: # TODO\n",
    "        u, s, vt = svds(gram_mat, k)\n",
    "        # gram_mat_k = u.s.vt : voir https://fr.wikipedia.org/wiki/D%C3%A9composition_en_valeurs_singuli%C3%A8res\n",
    "        gram_mat_k = u @ np.diag(s) @ vt \n",
    "    else: # TODO\n",
    "        u, s, vt = svd(gram_mat, full_matrices=False)\n",
    "        gram_mat_k = u[:, :k] @ np.diag(s[:k]) @ vt[:k, :]\n",
    "\n",
    "    return gram_mat_k"
   ]
  },
  {
   "cell_type": "markdown",
   "metadata": {},
   "source": [
    "## Question 3"
   ]
  },
  {
   "cell_type": "markdown",
   "metadata": {},
   "source": [
    "On applique cette fonction sur la matrice décrite dans le sujet de TP."
   ]
  },
  {
   "cell_type": "code",
   "execution_count": 6,
   "metadata": {},
   "outputs": [],
   "source": [
    "p = 200\n",
    "r_noise = 100\n",
    "r_signal = 20\n",
    "\n",
    "intensity = 50\n",
    "\n",
    "rng = np.random.RandomState(42)\n",
    "X_noise = rng.randn(r_noise, p)\n",
    "X_signal = rng.randn(r_signal, p)\n",
    "\n",
    "gram_signal = np.dot(X_noise.T, X_noise) + intensity * np.dot(X_signal.T,\n",
    "                                                              X_signal)\n",
    "n_ranks = 100\n",
    "ranks = np.arange(1, n_ranks + 1)\n",
    "timing_fast = np.zeros(n_ranks)\n",
    "timing_slow = np.zeros(n_ranks)\n",
    "rel_error = np.zeros(n_ranks)\n",
    "\n",
    "for k, rank in enumerate(ranks):\n",
    "    #print(k, rank)\n",
    "    t0 = time()\n",
    "    gram_mat_k = rank_trunc(gram_signal, rank, fast=True)\n",
    "    timing_fast[k] = time() - t0\n",
    "\n",
    "    t0 = time()\n",
    "    gram_mat_k = rank_trunc(gram_signal, rank, fast=False)\n",
    "    timing_slow[k] = time() - t0\n",
    "\n",
    "    # TODO: compute relative error with Frobenius norm\n",
    "    rel_error[k] = linalg.norm(gram_mat_k - gram_signal, 'fro') / linalg.norm(gram_signal, 'fro')"
   ]
  },
  {
   "cell_type": "code",
   "execution_count": 7,
   "metadata": {},
   "outputs": [
    {
     "data": {
      "image/png": "[encoded data removed]",
      "text/plain": [
       "<Figure size 720x432 with 2 Axes>"
      ]
     },
     "metadata": {
      "needs_background": "light"
     },
     "output_type": "display_data"
    }
   ],
   "source": [
    "###############################################################################\n",
    "# Display\n",
    "\n",
    "f, axes = plt.subplots(ncols=1, nrows=2, figsize=(10,6))\n",
    "ax1, ax2 = axes.ravel()\n",
    "\n",
    "ax1.plot(ranks, timing_fast, '-', label='fast')\n",
    "ax1.plot(ranks, timing_slow, '-', label='slow')\n",
    "ax1.legend()\n",
    "\n",
    "ax1.set_xlabel('Rank')\n",
    "ax1.set_ylabel('Time')\n",
    "ax2.plot(ranks, rel_error, '-')\n",
    "ax2.set_xlabel('Rank')\n",
    "ax2.set_ylabel('Relative Error')\n",
    "plt.tight_layout()\n",
    "plt.show()"
   ]
  },
  {
   "cell_type": "markdown",
   "metadata": {},
   "source": [
    "> **Temps de calcul :** on constate que la méthode *fast* est légèrement plus rapide lorsque le rang $k$ est faible (jusqu'à 20 environ). Dans le cas contraire, elle est plus lente que la méthode *slow*. \n",
    "\n",
    "> **Erreur :** on constate que l'erreur décroit fortement jusqu'au rang 20. Après ce rang, la décroissance est très très faible. On peut l'expliquer par le fait que la matrice est approxmativement de rang 20. Au delà de 20, les valeurs propres deviennent donc très faibles et proches. Ceci explique également pourquoi la version *fast* devient plus lente à partir de ce rang."
   ]
  },
  {
   "cell_type": "markdown",
   "metadata": {},
   "source": [
    "## Question 4"
   ]
  },
  {
   "cell_type": "markdown",
   "metadata": {},
   "source": [
    "On va implémenter l'algorithme de Random Kernel Features pour le noyau Gaussien."
   ]
  },
  {
   "cell_type": "code",
   "execution_count": 8,
   "metadata": {},
   "outputs": [],
   "source": [
    "def random_features(X_train, X_test, gamma, c=300, seed=44):\n",
    "    \"\"\"Compute random kernel features\n",
    "\n",
    "    Parameters\n",
    "    ----------\n",
    "    X_train : array, shape (n_samples1, n_features)\n",
    "        The train samples.\n",
    "    X_test : array, shape (n_samples2, n_features)\n",
    "        The test samples.\n",
    "    gamma : float\n",
    "        The Gaussian kernel parameter\n",
    "    c : int\n",
    "        The number of components\n",
    "    seed : int\n",
    "        The seed for random number generation\n",
    "\n",
    "    Return\n",
    "    ------\n",
    "    X_new_train : array, shape (n_samples1, c)\n",
    "        The new train samples.\n",
    "    X_new_test : array, shape (n_samples2, c)\n",
    "        The new test samples.\n",
    "    \"\"\"\n",
    "    rng = np.random.RandomState(seed)\n",
    "    n_samples, n_features = X_train.shape\n",
    "    # TODO\n",
    "    sigma = np.sqrt(1. / (2. * gamma))\n",
    "    W = 1. / sigma * rng.randn(n_features, c)\n",
    "    b = 2. * np.pi * rng.rand(c)\n",
    "    \n",
    "    X_new_train = np.sqrt(2. / c) * np.cos(np.dot(X_train, W) + b)\n",
    "    \n",
    "    X_new_test = np.sqrt(2. / c) * np.cos(np.dot(X_test, W) + b)\n",
    "    \n",
    "    return X_new_train, X_new_test"
   ]
  },
  {
   "cell_type": "markdown",
   "metadata": {},
   "source": [
    "## Question 5"
   ]
  },
  {
   "cell_type": "markdown",
   "metadata": {},
   "source": [
    "On va maintenant appliquer cette méthode avec $c=300$."
   ]
  },
  {
   "cell_type": "code",
   "execution_count": 9,
   "metadata": {},
   "outputs": [
    {
     "name": "stdout",
     "output_type": "stream",
     "text": [
      "Fitting SVC linear on 20000 samples...\n",
      "done in 3.225s\n",
      "Predicting with SVC linear on 40000 samples...\n",
      "done in 0.052s\n",
      "classification accuracy: 0.963\n"
     ]
    }
   ],
   "source": [
    "n_samples, n_features = X_train.shape\n",
    "n_samples_test, _ = X_test.shape\n",
    "gamma = 1. / n_features\n",
    "\n",
    "Z_train, Z_test = random_features(X_train, X_test, gamma, c=300, seed=44)\n",
    "\n",
    "print(\"Fitting SVC linear on %d samples...\" % n_samples)\n",
    "t0 = time()\n",
    "clf = LinearSVC(dual=False)\n",
    "clf.fit(Z_train, y_train)\n",
    "print(\"done in %0.3fs\" % (time() - t0))\n",
    "\n",
    "print(\"Predicting with SVC linear on %d samples...\" % n_samples_test)\n",
    "t0 = time()\n",
    "accuracy = clf.score(Z_test, y_test)\n",
    "print(\"done in %0.3fs\" % (time() - t0))\n",
    "print(\"classification accuracy: %0.3f\" % accuracy)"
   ]
  },
  {
   "cell_type": "markdown",
   "metadata": {},
   "source": [
    "> Avec la technique RKF pour $c = 300$ features, le score de prédiction obtenu est proche de celui que nous avions obtenu avec le noyau Gaussien exact, tout en ayant très grandement réduit le temps d'apprentissage et de prédiction. Le score est d'ailleurs bien supérieur à celui d'un SVM linéaire. **En somme, nous avons, avec cette technique, pris un peu le meilleur des deux mondes.**"
   ]
  },
  {
   "cell_type": "markdown",
   "metadata": {},
   "source": [
    "## Question 6"
   ]
  },
  {
   "cell_type": "markdown",
   "metadata": {},
   "source": [
    "On implémente la méthode de Nystrom."
   ]
  },
  {
   "cell_type": "code",
   "execution_count": 10,
   "metadata": {},
   "outputs": [],
   "source": [
    "from sklearn.metrics.pairwise import rbf_kernel\n",
    "\n",
    "def nystrom(X_train, X_test, gamma, c=500, k=200, seed=44):\n",
    "    \"\"\"Compute nystrom kernel approximation\n",
    "\n",
    "    Parameters\n",
    "    ----------\n",
    "    X_train : array, shape (n_samples1, n_features)\n",
    "        The train samples.\n",
    "    X_test : array, shape (n_samples2, n_features)\n",
    "        The test samples.\n",
    "    gamma : float\n",
    "        The Gaussian kernel parameter\n",
    "    c : int\n",
    "        The number of points to sample for the approximation\n",
    "    k : int\n",
    "        The number of components\n",
    "    seed : int\n",
    "        The seed for random number generation\n",
    "\n",
    "    Return\n",
    "    ------\n",
    "    X_new_train : array, shape (n_samples1, c)\n",
    "        The new train samples.\n",
    "    X_new_test : array, shape (n_samples2, c)\n",
    "        The new test samples.\n",
    "    \"\"\"\n",
    "    rng = np.random.RandomState(seed)\n",
    "    n_samples = X_train.shape[0]\n",
    "    idx = rng.choice(n_samples, c)\n",
    "\n",
    "    X_train_idx = X_train[idx, :]\n",
    "    W = rbf_kernel(X_train_idx, X_train_idx, gamma=gamma)\n",
    "    \n",
    "    # TODO\n",
    "    V, s, _ = svd(W)\n",
    "    V = V[:, :k]\n",
    "    s = s[:k]\n",
    "\n",
    "    M_k = V / np.sqrt(s[np.newaxis, :])\n",
    "\n",
    "    C_train = rbf_kernel(X_train, X_train_idx, gamma=gamma)\n",
    "    X_new_train = np.dot(C_train, M_k)\n",
    "\n",
    "    C_test = rbf_kernel(X_test, X_train_idx, gamma=gamma)\n",
    "    X_new_test = np.dot(C_test, M_k)\n",
    "\n",
    "    return X_new_train, X_new_test"
   ]
  },
  {
   "cell_type": "markdown",
   "metadata": {},
   "source": [
    "## Question 7"
   ]
  },
  {
   "cell_type": "markdown",
   "metadata": {},
   "source": [
    "On va maintenant appliquer cette méthode également avec $c=500$ et $k=300$"
   ]
  },
  {
   "cell_type": "code",
   "execution_count": 11,
   "metadata": {},
   "outputs": [
    {
     "name": "stdout",
     "output_type": "stream",
     "text": [
      "Fitting SVC linear on 20000 samples...\n",
      "done in 2.528s\n",
      "Predicting with SVC linear on 40000 samples...\n",
      "done in 0.045s\n",
      "classification accuracy: 0.976\n"
     ]
    }
   ],
   "source": [
    "Z_train, Z_test = nystrom(X_train, X_test, gamma, c=500, k=300, seed=44)\n",
    "\n",
    "print(\"Fitting SVC linear on %d samples...\" % n_samples)\n",
    "t0 = time()\n",
    "clf = LinearSVC(dual=False)\n",
    "clf.fit(Z_train, y_train)\n",
    "print(\"done in %0.3fs\" % (time() - t0))\n",
    "\n",
    "print(\"Predicting with SVC linear on %d samples...\" % n_samples_test)\n",
    "t0 = time()\n",
    "accuracy = clf.score(Z_test, y_test)\n",
    "print(\"done in %0.3fs\" % (time() - t0))\n",
    "print(\"classification accuracy: %0.3f\" % accuracy)\n"
   ]
  },
  {
   "cell_type": "markdown",
   "metadata": {},
   "source": [
    "> Comme pour la méthode RKF, Nyström nous permet, avec un faible nombre de features pour approximer le noyau, d'atteindre un score très similaire à celui obtenu avec le noyau Gaussien exact et avec un temps d'apprentissage et de prédiction fortement réduit."
   ]
  },
  {
   "cell_type": "markdown",
   "metadata": {},
   "source": [
    "## Question 8"
   ]
  },
  {
   "cell_type": "markdown",
   "metadata": {},
   "source": [
    "On va maintenant réaliser une synthèse des performances des RKF et de Nystrom pour un ensemble de paramètres."
   ]
  },
  {
   "cell_type": "code",
   "execution_count": 12,
   "metadata": {},
   "outputs": [
    {
     "name": "stdout",
     "output_type": "stream",
     "text": [
      "Training SVMs for various values of c... \n",
      "\n",
      "i c\n",
      "0 20\n",
      "1 70\n",
      "2 120\n",
      "3 170\n",
      "4 220\n",
      "5 270\n",
      "6 320\n",
      "7 370\n",
      "8 420\n",
      "9 470\n",
      "10 520\n",
      "11 570\n"
     ]
    }
   ],
   "source": [
    "ranks = np.arange(20, 600, 50)\n",
    "n_ranks = len(ranks)\n",
    "timing_rkf = np.zeros(n_ranks)\n",
    "timing_nystrom = np.zeros(n_ranks)\n",
    "\n",
    "accuracy_nystrom = np.zeros(n_ranks)\n",
    "accuracy_rkf = np.zeros(n_ranks)\n",
    "\n",
    "print(\"Training SVMs for various values of c... \\n\")\n",
    "print('i c')\n",
    "for i, c in enumerate(ranks):\n",
    "    print(i, c)\n",
    "    # TODO: compute time and prediction scores for RKF and Nystrom with respect to c\n",
    "    # put results in timing_rkf, timing_nystrom, accuracy_rkf, accuracy_nystrom\n",
    "    \n",
    "    # RKF \n",
    "    t0 = time()\n",
    "    Z_train, Z_test = random_features(X_train, X_test, gamma, c=c, seed=44)\n",
    "    clf = LinearSVC(dual=False)\n",
    "    clf.fit(Z_train, y_train)\n",
    "    accuracy_rkf[i] = clf.score(Z_test, y_test)\n",
    "    timing_rkf[i] = time() - t0\n",
    "    \n",
    "    # Nyström\n",
    "    t0 = time()\n",
    "    Z_train, Z_test = nystrom(X_train, X_test, gamma, c=c, k=c-10, seed=44)\n",
    "    clf = LinearSVC(dual=False)\n",
    "    clf.fit(Z_train, y_train)\n",
    "    accuracy_nystrom[i] = clf.score(Z_test, y_test)\n",
    "    timing_nystrom[i] = time() - t0"
   ]
  },
  {
   "cell_type": "code",
   "execution_count": 13,
   "metadata": {},
   "outputs": [
    {
     "data": {
      "image/png": "[encoded data removed]",
      "text/plain": [
       "<Figure size 720x432 with 2 Axes>"
      ]
     },
     "metadata": {
      "needs_background": "light"
     },
     "output_type": "display_data"
    }
   ],
   "source": [
    "###############################################################################\n",
    "# Display bis\n",
    "\n",
    "f, axes = plt.subplots(ncols=1, nrows=2, figsize=(10,6))\n",
    "ax1, ax2 = axes.ravel()\n",
    "\n",
    "ax1.plot(ranks-10, timing_nystrom, '-', label='Nystrom')\n",
    "ax1.plot(ranks, timing_rkf, '-', label='RKF')\n",
    "ax1.plot(ranks, timing_linear * np.ones(n_ranks), '-', label='LinearSVC')\n",
    "ax1.plot(ranks, timing_kernel * np.ones(n_ranks), '-', label='RBF')\n",
    "\n",
    "ax1.set_xlabel('Number of features')\n",
    "ax1.set_ylabel('Time')\n",
    "ax1.legend(loc='lower right')\n",
    "\n",
    "ax2.plot(ranks-10, accuracy_nystrom, '-', label='Nystrom')\n",
    "ax2.plot(ranks, accuracy_rkf, '-', label='RKF')\n",
    "ax2.plot(ranks, accuracy_linear * np.ones(n_ranks), '-', label='LinearSVC')\n",
    "ax2.plot(ranks, accuracy_kernel * np.ones(n_ranks), '-', label='RBF')\n",
    "ax2.set_xlabel('Number of features')\n",
    "ax2.set_ylabel('Accuracy')\n",
    "ax2.legend(loc='lower right')\n",
    "plt.tight_layout()\n",
    "plt.show()"
   ]
  },
  {
   "cell_type": "markdown",
   "metadata": {
    "jupyter": {
     "outputs_hidden": true
    }
   },
   "source": [
    "> **Synthèse des résultats :** En résumé, on constate donc que le temps de calcul pour RKF et Nyström est quasiment similaire pour un nombre de features donné (à quelques écarts près dans les plus grandes valeurs). En revanche, Nyström permet de meilleurs scores de prédiction en comparaison de RKS. Les deux courbes tendent toutefois à converger vers les scores du noyau Gaussien exact lorsque le nombre de features est grand. Les deux méthodes (RKF et Nyström) dépassent rapidement les scores du noyau linéaire, et ce avec moins de 100 features."
   ]
  },
  {
   "cell_type": "markdown",
   "metadata": {},
   "source": [
    "## Pour aller plus loin\n",
    "Nous allons maintenant adapter la méthodologie de Nyström sur le noyau de Laplace puis combiner les features obtenus avec différents noyaux."
   ]
  },
  {
   "cell_type": "code",
   "execution_count": 14,
   "metadata": {},
   "outputs": [],
   "source": [
    "from sklearn.metrics.pairwise import laplacian_kernel\n",
    "\n",
    "def nystrom_laplace(X_train, X_test, gamma, c=500, k=200, seed=44):\n",
    "    \"\"\"Compute nystrom kernel approximation\n",
    "\n",
    "    Parameters\n",
    "    ----------\n",
    "    X_train : array, shape (n_samples1, n_features)\n",
    "        The train samples.\n",
    "    X_test : array, shape (n_samples2, n_features)\n",
    "        The test samples.\n",
    "    gamma : float\n",
    "        The Gaussian kernel parameter\n",
    "    c : int\n",
    "        The number of points to sample for the approximation\n",
    "    k : int\n",
    "        The number of components\n",
    "    seed : int\n",
    "        The seed for random number generation\n",
    "\n",
    "    Return\n",
    "    ------\n",
    "    X_new_train : array, shape (n_samples1, c)\n",
    "        The new train samples.\n",
    "    X_new_test : array, shape (n_samples2, c)\n",
    "        The new test samples.\n",
    "    \"\"\"\n",
    "    rng = np.random.RandomState(seed)\n",
    "    n_samples1 = X_train.shape[0]\n",
    "    idx = rng.choice(n_samples1, c)\n",
    "\n",
    "    X_train_idx = X_train[idx, :]\n",
    "    W = laplacian_kernel(X_train_idx, X_train_idx, gamma=gamma)\n",
    "    \n",
    "    Vk, sigmaK, VkT = svd(W, full_matrices=False)\n",
    "    Vk = Vk[:,:k]\n",
    "    sigmaK = sigmaK[:k]\n",
    "    sqrt_sigmaK = 1 / np.sqrt(sigmaK)\n",
    "    \n",
    "    Mk = np.matmul(Vk, np.diag(sqrt_sigmaK))\n",
    "        \n",
    "    C_train = laplacian_kernel(X_train, X_train_idx, gamma=gamma)\n",
    "    C_test  = laplacian_kernel(X_test,  X_train_idx, gamma=gamma)\n",
    "    \n",
    "    X_new_train = C_train @ Mk #np.matmul(C_train, Mk)\n",
    "    X_new_test  = C_test @ Mk #np.matmul(C_test , Mk)\n",
    "    \n",
    "    return X_new_train, X_new_test"
   ]
  },
  {
   "cell_type": "markdown",
   "metadata": {},
   "source": [
    "> On va maintenant appliquer cette méthode avec $𝑐=500$ et  $𝑘=300$ comme précedemment pour le noyau Gaussien."
   ]
  },
  {
   "cell_type": "code",
   "execution_count": 15,
   "metadata": {},
   "outputs": [
    {
     "name": "stdout",
     "output_type": "stream",
     "text": [
      "Fitting SVC linear on 20000 samples...\n",
      "done in 2.337s\n",
      "Predicting with SVC linear on 40000 samples...\n",
      "done in 0.045s\n",
      "classification accuracy: 0.972\n"
     ]
    }
   ],
   "source": [
    "from sklearn.svm import LinearSVC\n",
    "from time import time\n",
    "\n",
    "n_samples, n_features = X_train.shape\n",
    "n_samples_test, _ = X_test.shape\n",
    "gamma = 1. / n_features\n",
    "\n",
    "Z_train, Z_test = nystrom_laplace(X_train, X_test, gamma, c=500, k=300, seed=44)\n",
    "\n",
    "print(\"Fitting SVC linear on %d samples...\" % n_samples)\n",
    "t0 = time()\n",
    "clf = LinearSVC(dual=False)\n",
    "clf.fit(Z_train, y_train)\n",
    "print(\"done in %0.3fs\" % (time() - t0))\n",
    "\n",
    "print(\"Predicting with SVC linear on %d samples...\" % n_samples_test)\n",
    "t0 = time()\n",
    "accuracy = clf.score(Z_test, y_test)\n",
    "print(\"done in %0.3fs\" % (time() - t0))\n",
    "print(\"classification accuracy: %0.3f\" % accuracy)"
   ]
  },
  {
   "cell_type": "markdown",
   "metadata": {},
   "source": [
    "> Comme pour la méthode RKF, Nyström - Laplace nous permet, avec un faible nombre de features pour approximer le noyau, d'atteindre un score très similaire à celui obtenu avec le noyau Gaussien exact et avec un temps d'apprentissage et de prédiction fortement réduit. On se retrouve avec des résultats très proche de ceux obtenus avec la méthode de Nyström.\n",
    "\n",
    "> On va maintenant réaliser une synthèse des performances des RKF et de Nystrom - Laplace pour un ensemble de paramètres."
   ]
  },
  {
   "cell_type": "code",
   "execution_count": 16,
   "metadata": {},
   "outputs": [
    {
     "name": "stdout",
     "output_type": "stream",
     "text": [
      "Training SVMs for various values of c... \n",
      "\n",
      "i c\n",
      "0 20\n",
      "1 70\n",
      "2 120\n",
      "3 170\n",
      "4 220\n",
      "5 270\n",
      "6 320\n",
      "7 370\n",
      "8 420\n",
      "9 470\n",
      "10 520\n",
      "11 570\n"
     ]
    }
   ],
   "source": [
    "ranks = np.arange(20, 600, 50)\n",
    "n_ranks = len(ranks)\n",
    "timing_rkf_laplace = np.zeros(n_ranks)\n",
    "timing_nystrom_laplace = np.zeros(n_ranks)\n",
    "\n",
    "accuracy_nystrom_laplace = np.zeros(n_ranks)\n",
    "accuracy_rkf_laplace = np.zeros(n_ranks)\n",
    "\n",
    "print(\"Training SVMs for various values of c... \\n\")\n",
    "print('i c')\n",
    "for i, c in enumerate(ranks):\n",
    "    print(i, c)\n",
    "    \n",
    "    # Nyström - Laplace\n",
    "    t0 = time()\n",
    "    Z_train, Z_test = nystrom_laplace(X_train, X_test, gamma, c=c, k=c-10, seed=44)\n",
    "    clf = LinearSVC(dual=False)\n",
    "    clf.fit(Z_train, y_train)\n",
    "    accuracy_nystrom_laplace[i] = clf.score(Z_test, y_test)\n",
    "    timing_nystrom_laplace[i] = time() - t0"
   ]
  },
  {
   "cell_type": "code",
   "execution_count": 17,
   "metadata": {},
   "outputs": [
    {
     "data": {
      "image/png": "[encoded data removed]",
      "text/plain": [
       "<Figure size 720x432 with 2 Axes>"
      ]
     },
     "metadata": {
      "needs_background": "light"
     },
     "output_type": "display_data"
    }
   ],
   "source": [
    "###############################################################################\n",
    "# Display ter\n",
    "\n",
    "f, axes = plt.subplots(ncols=1, nrows=2, figsize=(10,6))\n",
    "ax1, ax2 = axes.ravel()\n",
    "\n",
    "ax1.plot(ranks-10, timing_nystrom, '-', label='Nystrom')\n",
    "ax1.plot(ranks-10, timing_nystrom_laplace, '-', label='Nystrom - Laplace')\n",
    "ax1.plot(ranks, timing_rkf, '-', label='RKF')\n",
    "ax1.plot(ranks, timing_linear * np.ones(n_ranks), '-', label='LinearSVC')\n",
    "ax1.plot(ranks, timing_kernel * np.ones(n_ranks), '-', label='RBF')\n",
    "\n",
    "ax1.set_xlabel('Number of features')\n",
    "ax1.set_ylabel('Time')\n",
    "ax1.legend(loc='lower right')\n",
    "\n",
    "ax2.plot(ranks-10, accuracy_nystrom, '-', label='Nystrom')\n",
    "ax2.plot(ranks-10, accuracy_nystrom_laplace, '-', label='Nystrom - Laplace')\n",
    "ax2.plot(ranks, accuracy_rkf, '-', label='RKF')\n",
    "ax2.plot(ranks, accuracy_linear * np.ones(n_ranks), '-', label='LinearSVC')\n",
    "ax2.plot(ranks, accuracy_kernel * np.ones(n_ranks), '-', label='RBF')\n",
    "ax2.set_xlabel('Number of features')\n",
    "ax2.set_ylabel('Accuracy')\n",
    "ax2.legend(loc='lower right')\n",
    "plt.tight_layout()\n",
    "plt.show()"
   ]
  },
  {
   "cell_type": "markdown",
   "metadata": {},
   "source": [
    "> L'approximation du noyau avec la méthode de Nyström - Laplace permet donc d'obtenir, à partir d'un certain nombre de features, une accuracy équivalente à celle obtenue avcec le noyau Gaussien exact mais pour des temps bien inférieur. La méthode est en revanche très proche de ce que nous avons obtenu avec la méthode de Nyström appliquée à un noyau Gaussien."
   ]
  },
  {
   "cell_type": "markdown",
   "metadata": {},
   "source": [
    "### Concaténation de noyau\n",
    "Nous allons ici combiner les features obtenus avec différents noyaux."
   ]
  },
  {
   "cell_type": "code",
   "execution_count": null,
   "metadata": {},
   "outputs": [],
   "source": []
  }
 ],
 "metadata": {
  "kernelspec": {
   "display_name": "Python 3",
   "language": "python",
   "name": "python3"
  },
  "language_info": {
   "codemirror_mode": {
    "name": "ipython",
    "version": 3
   },
   "file_extension": ".py",
   "mimetype": "text/x-python",
   "name": "python",
   "nbconvert_exporter": "python",
   "pygments_lexer": "ipython3",
   "version": "3.7.4"
  }
 },
 "nbformat": 4,
 "nbformat_minor": 4
}
