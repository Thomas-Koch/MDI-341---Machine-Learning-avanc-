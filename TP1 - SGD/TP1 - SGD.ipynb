{
 "cells": [
  {
   "cell_type": "markdown",
   "metadata": {},
   "source": [
    "# **TP1 : gradient stochastique - MDI341**"
   ]
  },
  {
   "cell_type": "markdown",
   "metadata": {},
   "source": [
    "## **Introduction :**\n",
    "\n",
    "Le but de cette séance est la mise en œuvre d'algorithmes de type gradient stochastique (en anglais : Stochastic Gradient Descent, SGD). Dans un premier temps, afin de se familiariser avec le SGD, on va mettre en œuvre l'algorithme dans le cadre classique de la classification binaire. Un fichier Python est fourni (`SGD_classification.py`) pour guider les réponses, avec néanmoins\n",
    "certaines parties manquantes qu'il faut compléter."
   ]
  },
  {
   "cell_type": "code",
   "execution_count": 1,
   "metadata": {},
   "outputs": [],
   "source": [
    "# -*- coding: utf-8 -*-\n",
    "\"\"\"\n",
    "@authors: salmon, gramfort, bellet\n",
    "\"\"\"\n",
    "\n",
    "import numpy as np\n",
    "import matplotlib.pyplot as plt\n",
    "from sklearn import datasets\n",
    "\n",
    "plt.close('all')\n"
   ]
  },
  {
   "cell_type": "markdown",
   "metadata": {},
   "source": [
    "## **Exemple sur données synthétiques**\n",
    "\n",
    "On pourra utiliser la fonction `stochastic_gradient` fournie dans `SGD_classification.py`.\n",
    "\n",
    "### **Question 1 :** \n",
    "On considère ici la perte quadratique : $l(a, b) = \\frac{(a − b)²}{2}$. Calculer $\\frac{∂l}{∂x_1}(a,b)$. Par convention, $x_1$ correspond à la première variable donc ici à $a$.\n",
    "\n",
    "> On calcule à la main et on obtient facilement $\\frac{∂l}{∂x_1}(a,b) = a - b$."
   ]
  },
  {
   "cell_type": "markdown",
   "metadata": {},
   "source": [
    "### **Question 2 :**\n",
    "Implémenter l'algorithme SGD avec le choix d'un pas constant $γ$ et d'un nombre d'itérations $T$ permettant de minimiser le critère et d'aboutir à une solution correcte."
   ]
  },
  {
   "cell_type": "code",
   "execution_count": 51,
   "metadata": {},
   "outputs": [],
   "source": [
    "############################################################################\n",
    "#                Stochastic gradient\n",
    "############################################################################\n",
    "\n",
    "\n",
    "def decision_function(X, w):\n",
    "    \"\"\" fonction de prediction a partir d'un vecteur directeur\"\"\"\n",
    "    return np.dot(X, w[1:]) + w[0]\n",
    "\n",
    "\n",
    "def predict(X, w):\n",
    "    \"\"\" fonction de prediction de classe a partir d'un vecteur directeur\"\"\"\n",
    "    return np.sign(decision_function(X, w))\n",
    "\n",
    "\n",
    "def stochastic_gradient(X, y, gamma, n_iter, w_ini, loss=\"mse\",\n",
    "                        alpha=0, average=False):\n",
    "    \"\"\"Stochastic gradient algorithm\n",
    "\n",
    "    Parameters\n",
    "    ----------\n",
    "    X : array, shape (n_samples, n_features)\n",
    "        The data\n",
    "    y : array, shape (n_samples,)\n",
    "        The targets.\n",
    "    gamma : float | callable\n",
    "        The step size. Can be a constant float or a function\n",
    "        that allows to have a variable step size (QUESTION 5).\n",
    "    n_iter : int\n",
    "        The number of iterations\n",
    "    w_ini : array, shape (n_features + 1,)\n",
    "        The initial value of w.\n",
    "    loss : str\n",
    "        The type of loss function to use, e.g. \"hinge\" ou \"mse\".\n",
    "    alpha : float\n",
    "        The regularization coefficient.\n",
    "        QUESTION 3\n",
    "    average : bool\n",
    "        Do an averaged stochastic gradient.\n",
    "        QUESTION 2\n",
    "\n",
    "    Returns\n",
    "    -------\n",
    "    w : array, shape (n_features + 1,)\n",
    "        The final weights.\n",
    "    all_w : array, shape (n_iter, n_features + 1)\n",
    "        The weights across iterations.\n",
    "    pobj : array, shape (n_iter,)\n",
    "        The evolution of the cost function across iterations.\n",
    "    \"\"\"\n",
    "        \n",
    "    n_samples = X.shape[0]\n",
    "    X = np.concatenate((np.ones((n_samples, 1)), X), axis=1)\n",
    "    all_w = np.zeros((n_iter, w_ini.size))\n",
    "    all_w[0] = w_ini\n",
    "    w = w_ini.copy()\n",
    "    pobj = np.zeros(n_iter)\n",
    "\n",
    "    if not callable(gamma):\n",
    "        # Turn gamma to a function for QUESTION ???\n",
    "\n",
    "        def gamma_func(t):\n",
    "            return gamma\n",
    "    else:\n",
    "        gamma_func = gamma\n",
    "\n",
    "    for t in range(n_iter):\n",
    "        idx = np.random.randint(n_samples)\n",
    "        if loss == \"mse\":\n",
    "            pobj[t] = 0.5 * np.mean((y - np.dot(X, w)) ** 2)\n",
    "            gradient = X[idx, :] * (np.dot(X[idx], w) - y[idx])  # QUESTION 2 conformément à la formule fournie en préambule dans l'énoncé.\n",
    "        elif loss == \"hinge\":\n",
    "            gradient = 0.0; # QUESTION 11\n",
    "            raise NotImplementedError('QUESTION 11')\n",
    "        w -= gamma_func(t) * gradient\n",
    "        \n",
    "        if average is True:\n",
    "            raise NotImplementedError('QUESTION 9')\n",
    "\n",
    "        if alpha > 0:\n",
    "            raise NotImplementedError('QUESTION 6')\n",
    "        \n",
    "        \n",
    "        all_w[t] = w\n",
    "    return w, all_w, pobj"
   ]
  },
  {
   "cell_type": "markdown",
   "metadata": {},
   "source": [
    "### **Question 3 :**\n",
    "\n",
    "Prendre comme modèle \"jouet\" : $n$ vecteurs $(x_i)_{1≤i≤n}$ de $\\mathbb{R}^p$ tirés de manière i.i.d selon une loi gaussienne, centrée réduite (prendre $n = 1000$, $p = 100$) ainsi que $n$ réels $(\\epsilon_i)_{1≤i≤n}$ tirés de manière *i.i.d* selon une loi gaussienne, centrée réduite."
   ]
  },
  {
   "cell_type": "code",
   "execution_count": 52,
   "metadata": {},
   "outputs": [],
   "source": [
    "###############################################################################\n",
    "#            Toy dataset\n",
    "###############################################################################\n",
    "\n",
    "n_samples = 1000\n",
    "n_features = 100\n",
    "n_iter = 1000  # number of iterations\n",
    "\n",
    "# A utiliser pour le choix d'un pas constant\n",
    "gamma = 0.1  # suggested step size, \n",
    "\n",
    "# A utiliser pour le choix d'un pas variable\n",
    "#def gamma(t): \n",
    " #   return 1. / (100 + t)\n",
    "\n",
    "X_toy = np.random.randn(n_samples, n_features)\n",
    "epsilon_toy = np.random.randn(n_samples)\n",
    "w_target = np.ones(n_features)\n",
    "y_toy = X_toy.dot(w_target) + epsilon_toy\n",
    "\n",
    "\n",
    "# Initialize w with just zeros\n",
    "w_ini = np.zeros(X_toy.shape[1] + 1)\n",
    "\n",
    "loss = 'mse'\n",
    "# loss = 'hinge'  # QUESTION 4\n"
   ]
  },
  {
   "cell_type": "markdown",
   "metadata": {},
   "source": [
    "### **Question 4 :**\n",
    "Afficher l'évolution de la valeur de l'objectif en fonction du nombre d'itérations (voir enoncé du sujet pour précisions)."
   ]
  },
  {
   "cell_type": "code",
   "execution_count": 53,
   "metadata": {},
   "outputs": [
    {
     "data": {
      "image/png": "[encoded data removed]",
      "text/plain": [
       "<Figure size 1296x648 with 1 Axes>"
      ]
     },
     "metadata": {
      "needs_background": "light"
     },
     "output_type": "display_data"
    }
   ],
   "source": [
    "w_toy, all_w, pobj = stochastic_gradient(X_toy, y_toy, gamma, n_iter, w_ini,\n",
    "                                         loss=loss, alpha=0, average=False)\n",
    "\n",
    "plt.figure(figsize=(18,9))\n",
    "plt.plot(pobj, color='red')\n",
    "plt.xlabel('t')\n",
    "plt.ylabel('cost')\n",
    "plt.title('%s stochastic (toy)' % loss)\n",
    "plt.grid(True)\n",
    "plt.show()\n"
   ]
  },
  {
   "cell_type": "code",
   "execution_count": 46,
   "metadata": {},
   "outputs": [
    {
     "data": {
      "text/plain": [
       "1.8615240374487239"
      ]
     },
     "execution_count": 46,
     "metadata": {},
     "output_type": "execute_result"
    }
   ],
   "source": [
    "pobj[n_iter-1] #on récupère la plus petite valeur de notre mse, c'est à dire la dernière valeur sur le nombre d'itérations"
   ]
  },
  {
   "cell_type": "code",
   "execution_count": 47,
   "metadata": {},
   "outputs": [
    {
     "data": {
      "text/plain": [
       "0.0009090909090909091"
      ]
     },
     "execution_count": 47,
     "metadata": {},
     "output_type": "execute_result"
    }
   ],
   "source": [
    "gamma_func(1000)"
   ]
  },
  {
   "cell_type": "code",
   "execution_count": 48,
   "metadata": {},
   "outputs": [
    {
     "data": {
      "text/plain": [
       "0.0009090909090909091"
      ]
     },
     "execution_count": 48,
     "metadata": {},
     "output_type": "execute_result"
    }
   ],
   "source": [
    "gamma(1000)"
   ]
  },
  {
   "cell_type": "code",
   "execution_count": null,
   "metadata": {},
   "outputs": [],
   "source": []
  }
 ],
 "metadata": {
  "kernelspec": {
   "display_name": "Python 3",
   "language": "python",
   "name": "python3"
  },
  "language_info": {
   "codemirror_mode": {
    "name": "ipython",
    "version": 3
   },
   "file_extension": ".py",
   "mimetype": "text/x-python",
   "name": "python",
   "nbconvert_exporter": "python",
   "pygments_lexer": "ipython3",
   "version": "3.7.4"
  }
 },
 "nbformat": 4,
 "nbformat_minor": 4
}
