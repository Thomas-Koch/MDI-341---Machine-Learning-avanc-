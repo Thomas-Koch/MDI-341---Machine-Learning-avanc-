{
 "cells": [
  {
   "cell_type": "markdown",
   "metadata": {},
   "source": [
    "<center><h1> Markov Chains and Hidden Markov Models </h1></center>"
   ]
  },
  {
   "cell_type": "markdown",
   "metadata": {},
   "source": [
    "# Import"
   ]
  },
  {
   "cell_type": "code",
   "execution_count": 92,
   "metadata": {
    "ExecuteTime": {
     "end_time": "2019-04-03T07:29:00.672715Z",
     "start_time": "2019-04-03T07:29:00.642969Z"
    }
   },
   "outputs": [],
   "source": [
    "import numpy as np\n",
    "import matplotlib.pyplot as plt"
   ]
  },
  {
   "cell_type": "code",
   "execution_count": null,
   "metadata": {},
   "outputs": [],
   "source": [
    "# Functions\n",
    "np.cumsum(p)\n",
    "np.random.random()\n",
    "filename_A= 'bigramenglish.txt' \n",
    "np.loadtxt(filename_A)\n",
    "dic_inv = {v: k for k, v in dic.items()}"
   ]
  },
  {
   "cell_type": "markdown",
   "metadata": {},
   "source": [
    "# Part 1"
   ]
  },
  {
   "cell_type": "markdown",
   "metadata": {},
   "source": [
    "On veut générer des mots dans une langue donnée en modélisant la formation de ces mots par une chaîne de Markov. Les 28 états du modèle correspondent aux 26 lettres de l’alphabet auxquelles et on ajoute un état ‘espace initial’ (état 1) et un état ‘espace final’ (état 28) qui sert à terminer les mots.\n",
    "\n",
    "La correspondance entre la valeur numérique d’un état et un caractère est la suivante : l’état 1 correspond à un espace (avant le début d’un mot) et l’état 28 à celui d’un espace en fin de\n",
    "mot. \n",
    "\n",
    "Les états 2 à 27 correspondent aux caractères de a à z. On pourra utiliser une structure de dictionnaire en python pour faire cette correspondance.\n",
    "On utilisera une chaîne de Markov ergodique entre les 26 états correspondants aux lettres de l’alphabet."
   ]
  },
  {
   "cell_type": "markdown",
   "metadata": {},
   "source": [
    "## 1.2 Matrice de transitions"
   ]
  },
  {
   "cell_type": "markdown",
   "metadata": {},
   "source": [
    "*Le fichier `bigramenglish.txt` contient la matrice des transitions pour l’anglais (bigrams) entre deux symboles (caractères ou espaces). Le terme générique (i,j) de la matrice de transition correspond à la probabilité de transiter vers l’état j à partir de l’état i.*\n",
    "\n",
    "*A quelles probabilités correspond la première ligne de la matrice de transition ? et celles de la dernière colonne ?\n",
    "Pour chaque lettre de l’alphabet, indiquer la transition la plus fréquente depuis cette lettre.*"
   ]
  },
  {
   "cell_type": "code",
   "execution_count": 3,
   "metadata": {
    "ExecuteTime": {
     "end_time": "2019-04-03T06:48:44.388438Z",
     "start_time": "2019-04-03T06:48:44.375395Z"
    }
   },
   "outputs": [],
   "source": [
    "filename_A= 'Part1/bigramenglish.txt' \n",
    "bi_eng = np.loadtxt(filename_A)"
   ]
  },
  {
   "cell_type": "code",
   "execution_count": 4,
   "metadata": {
    "ExecuteTime": {
     "end_time": "2019-04-03T06:48:48.117472Z",
     "start_time": "2019-04-03T06:48:48.075261Z"
    }
   },
   "outputs": [
    {
     "data": {
      "text/plain": [
       "array([[0.0000000e+00, 1.1268720e-01, 4.3608943e-02, 4.5454545e-02,\n",
       "        3.2904451e-02, 2.2094495e-02, 4.1763341e-02, 1.5555790e-02,\n",
       "        6.4437882e-02, 6.8920059e-02, 3.6384729e-03, 4.2185193e-03,\n",
       "        2.3465514e-02, 3.9759544e-02, 2.2832736e-02, 7.0343809e-02,\n",
       "        3.1058848e-02, 1.4237503e-03, 2.5680236e-02, 6.6916262e-02,\n",
       "        1.6452225e-01, 1.0388104e-02, 7.0660198e-03, 7.0502004e-02,\n",
       "        1.0546298e-04, 1.0599030e-02, 5.2731491e-05, 0.0000000e+00],\n",
       "       [0.0000000e+00, 1.4701126e-05, 2.2933757e-02, 3.3959601e-02,\n",
       "        3.8075917e-02, 1.4701126e-04, 6.1744730e-03, 2.4697892e-02,\n",
       "        8.8206757e-04, 3.7046838e-02, 8.8206757e-04, 1.1907912e-02,\n",
       "        8.1150216e-02, 3.5870748e-02, 2.2051689e-01, 1.4701126e-04,\n",
       "        1.8082385e-02, 1.4701126e-05, 9.4822263e-02, 9.5410308e-02,\n",
       "        1.3348623e-01, 1.1760901e-02, 3.3371556e-02, 9.8497545e-03,\n",
       "        5.8804504e-04, 1.9846520e-02, 8.8206757e-04, 6.7478169e-02],\n",
       "       [0.0000000e+00, 7.1874260e-02, 7.8982703e-04, 7.8982703e-05,\n",
       "        7.8982703e-04, 2.8275808e-01, 7.8982703e-05, 7.8982703e-05,\n",
       "        7.8982703e-05, 7.0294605e-02, 7.8982703e-03, 7.8982703e-05,\n",
       "        1.2084354e-01, 2.3694811e-03, 7.8982703e-05, 1.2637232e-01,\n",
       "        7.8982703e-05, 7.8982703e-05, 4.7389622e-02, 1.5006714e-02,\n",
       "        1.0267751e-02, 1.2716215e-01, 1.5796541e-03, 7.8982703e-05,\n",
       "        7.8982703e-05, 1.0662665e-01, 7.8982703e-05, 7.1084433e-03],\n",
       "       [0.0000000e+00, 1.3674657e-01, 4.0698384e-05, 1.7500305e-02,\n",
       "        1.2209515e-03, 1.3674657e-01, 4.0698384e-05, 4.0698384e-05,\n",
       "        1.6279354e-01, 7.3257092e-02, 4.0698384e-05, 6.9594237e-02,\n",
       "        3.7035530e-02, 4.0698384e-05, 4.0698384e-05, 1.6686338e-01,\n",
       "        4.0698384e-05, 1.2209515e-03, 5.2500916e-02, 8.1396769e-04,\n",
       "        8.7094542e-02, 3.1337756e-02, 4.0698384e-05, 4.0698384e-05,\n",
       "        4.0698384e-05, 5.2907900e-03, 4.0698384e-05, 1.9535224e-02],\n",
       "       [0.0000000e+00, 3.6241263e-02, 2.8762907e-05, 2.8762907e-05,\n",
       "        7.1907268e-03, 1.3691144e-01, 8.6288722e-04, 3.7391780e-03,\n",
       "        8.6288722e-04, 9.0027900e-02, 2.8762907e-04, 2.8762907e-04,\n",
       "        9.7793885e-03, 5.1773233e-03, 2.8762907e-03, 3.4803118e-02,\n",
       "        2.8762907e-05, 2.8762907e-05, 1.8983519e-02, 2.0134035e-02,\n",
       "        2.8762907e-05, 2.0421664e-02, 2.8762907e-03, 8.6288722e-04,\n",
       "        2.8762907e-05, 8.6288722e-03, 2.8762907e-05, 5.9884373e-01],\n",
       "       [0.0000000e+00, 4.5607163e-02, 3.1710502e-03, 1.8653236e-02,\n",
       "        7.8063794e-02, 2.7979855e-02, 9.6064167e-03, 7.1814960e-03,\n",
       "        1.6787913e-03, 1.6041783e-02, 2.7979855e-04, 9.3266182e-04,\n",
       "        3.0777840e-02, 2.6207797e-02, 8.6737549e-02, 2.1451222e-03,\n",
       "        1.0818877e-02, 3.0777840e-03, 1.2562955e-01, 7.2094758e-02,\n",
       "        2.3316545e-02, 4.6633091e-04, 1.6601380e-02, 8.8602873e-03,\n",
       "        8.3939564e-03, 1.5109121e-02, 9.3266182e-05, 3.6047379e-01],\n",
       "       [0.0000000e+00, 6.6869301e-02, 4.6761749e-05, 4.6761749e-05,\n",
       "        4.6761749e-05, 7.4351181e-02, 3.3668459e-02, 4.6761749e-05,\n",
       "        4.6761749e-05, 7.7624503e-02, 4.6761749e-05, 4.6761749e-05,\n",
       "        1.7301847e-02, 4.6761749e-05, 4.6761749e-05, 1.5852233e-01,\n",
       "        4.6761749e-05, 4.6761749e-05, 9.0250175e-02, 1.8704700e-03,\n",
       "        4.6294131e-02, 3.2733224e-02, 4.6761749e-05, 4.6761749e-05,\n",
       "        4.6761749e-05, 3.2733224e-03, 4.6761749e-05, 3.9653963e-01],\n",
       "       [0.0000000e+00, 6.5942117e-02, 6.1057516e-04, 6.1057516e-05,\n",
       "        2.4423006e-03, 1.2822078e-01, 6.1057516e-05, 1.2211503e-02,\n",
       "        1.3554769e-01, 6.2889242e-02, 6.1057516e-05, 6.1057516e-05,\n",
       "        2.8086457e-02, 1.2211503e-03, 2.3201856e-02, 6.8384418e-02,\n",
       "        6.1057516e-04, 6.1057516e-05, 9.7081451e-02, 2.6254732e-02,\n",
       "        6.1057516e-03, 2.1370131e-02, 6.1057516e-05, 6.1057516e-04,\n",
       "        6.1057516e-05, 3.0528758e-03, 6.1057516e-05, 3.1566736e-01],\n",
       "       [0.0000000e+00, 1.4197531e-01, 7.7160494e-04, 1.9290123e-05,\n",
       "        1.9290123e-05, 4.6971451e-01, 5.7870370e-04, 1.9290123e-05,\n",
       "        3.8580247e-04, 1.4023920e-01, 1.9290123e-05, 1.9290123e-05,\n",
       "        1.5432099e-03, 2.8935185e-03, 3.8580247e-03, 7.5038580e-02,\n",
       "        1.9290123e-05, 1.9290123e-05, 1.1188272e-02, 1.7361111e-03,\n",
       "        2.4498457e-02, 1.9097222e-02, 1.9290123e-05, 1.1574074e-03,\n",
       "        1.9290123e-05, 2.1219136e-03, 1.9290123e-05, 1.0300926e-01],\n",
       "       [0.0000000e+00, 2.0688358e-02, 1.0500909e-02, 7.6954423e-02,\n",
       "        3.8085386e-02, 3.3696947e-02, 2.3666228e-02, 3.4010407e-02,\n",
       "        1.5672999e-05, 3.1345997e-04, 1.5672999e-05, 3.4480597e-03,\n",
       "        5.4855495e-02, 3.5734437e-02, 2.4528243e-01, 6.4572754e-02,\n",
       "        6.1124694e-03, 3.1345997e-04, 4.1063256e-02, 1.2757821e-01,\n",
       "        1.1754749e-01, 9.4037991e-04, 3.2599837e-02, 1.5672999e-05,\n",
       "        1.0971099e-03, 1.5672999e-05, 6.2691994e-03, 2.4606608e-02],\n",
       "       [0.0000000e+00, 4.7938639e-02, 9.5877277e-04, 9.5877277e-04,\n",
       "        9.5877277e-04, 1.6299137e-01, 9.5877277e-04, 9.5877277e-04,\n",
       "        9.5877277e-04, 9.5877277e-04, 9.5877277e-04, 9.5877277e-04,\n",
       "        9.5877277e-04, 9.5877277e-04, 9.5877277e-04, 4.6979866e-01,\n",
       "        9.5877277e-04, 9.5877277e-04, 9.5877277e-04, 9.5877277e-04,\n",
       "        9.5877277e-04, 2.9721956e-01, 9.5877277e-04, 9.5877277e-04,\n",
       "        9.5877277e-04, 9.5877277e-04, 9.5877277e-04, 9.5877277e-04],\n",
       "       [0.0000000e+00, 5.2677788e-03, 1.7559263e-04, 1.7559263e-04,\n",
       "        1.7559263e-04, 3.0728709e-01, 3.5118525e-03, 1.7559263e-04,\n",
       "        1.7559263e-03, 1.2115891e-01, 1.7559263e-04, 1.7559263e-04,\n",
       "        1.7559263e-02, 1.7559263e-04, 1.0184372e-01, 5.2677788e-03,\n",
       "        1.7559263e-04, 1.7559263e-04, 1.7559263e-04, 5.0921861e-02,\n",
       "        1.7559263e-04, 1.7559263e-03, 1.7559263e-04, 1.7559263e-04,\n",
       "        1.7559263e-04, 8.7796313e-03, 1.7559263e-04, 3.7225637e-01],\n",
       "       [0.0000000e+00, 7.2924514e-02, 6.0268193e-04, 3.0134097e-04,\n",
       "        7.6540606e-02, 1.7086033e-01, 1.4765707e-02, 9.0402290e-04,\n",
       "        3.0134097e-05, 1.3741148e-01, 3.0134097e-05, 3.3147506e-03,\n",
       "        1.2897393e-01, 5.4241374e-03, 1.8080458e-03, 6.4486967e-02,\n",
       "        2.4107277e-03, 3.0134097e-05, 1.8080458e-03, 2.0792527e-02,\n",
       "        1.5971071e-02, 2.0792527e-02, 1.5368389e-02, 2.1093868e-03,\n",
       "        3.0134097e-05, 8.8895585e-02, 3.0134097e-05, 1.5338255e-01],\n",
       "       [0.0000000e+00, 1.8229282e-01, 1.5043582e-02, 4.4245830e-05,\n",
       "        4.4245830e-05, 2.6768727e-01, 2.2122915e-03, 4.4245830e-05,\n",
       "        4.4245830e-05, 9.4686076e-02, 4.4245830e-05, 4.4245830e-05,\n",
       "        1.3273749e-03, 1.8583249e-02, 1.3273749e-03, 1.0486262e-01,\n",
       "        5.2210079e-02, 4.4245830e-05, 1.1503916e-02, 3.0087164e-02,\n",
       "        8.8491660e-04, 3.3626831e-02, 4.4245830e-05, 4.4245830e-05,\n",
       "        4.4245830e-05, 2.5220123e-02, 4.4245830e-05, 1.5795761e-01],\n",
       "       [0.0000000e+00, 2.5854592e-02, 3.2727332e-04, 3.6000065e-02,\n",
       "        1.5807301e-01, 8.6727430e-02, 6.8727398e-03, 1.0309110e-01,\n",
       "        6.5454664e-04, 3.3054606e-02, 1.9636399e-03, 9.4909263e-03,\n",
       "        7.0363764e-03, 8.1818331e-04, 7.2000131e-03, 5.2854642e-02,\n",
       "        1.6363666e-04, 3.2727332e-04, 3.2727332e-04, 4.9909182e-02,\n",
       "        1.0047291e-01, 5.2363732e-03, 4.9090998e-03, 1.6363666e-04,\n",
       "        8.1818331e-04, 1.3418206e-02, 1.6363666e-05, 2.9421872e-01],\n",
       "       [0.0000000e+00, 7.3598497e-03, 1.0335108e-02, 1.4406514e-02,\n",
       "        1.6598810e-02, 3.7582211e-03, 1.2809270e-01, 8.2994049e-03,\n",
       "        3.7582211e-03, 5.6373317e-03, 1.5659255e-04, 5.7939242e-03,\n",
       "        3.4920138e-02, 6.5455684e-02, 1.6035077e-01, 2.7247103e-02,\n",
       "        1.5972440e-02, 1.5659255e-04, 1.1540871e-01, 2.6150955e-02,\n",
       "        4.6664579e-02, 1.1556530e-01, 1.9260883e-02, 3.3823990e-02,\n",
       "        2.0357031e-03, 9.5521453e-03, 1.5659255e-04, 1.2308174e-01],\n",
       "       [0.0000000e+00, 1.2499137e-01, 6.9056004e-04, 6.9056004e-05,\n",
       "        6.9056004e-05, 1.9473793e-01, 6.9056004e-05, 6.9056004e-05,\n",
       "        2.2788481e-02, 4.1433603e-02, 6.9056004e-05, 6.9056004e-05,\n",
       "        8.4248325e-02, 2.7622402e-03, 6.9056004e-05, 1.1187073e-01,\n",
       "        5.9388164e-02, 6.9056004e-05, 1.8921345e-01, 2.0026241e-02,\n",
       "        3.5909122e-02, 4.3505283e-02, 6.9056004e-05, 6.9056004e-04,\n",
       "        6.9056004e-05, 2.7622402e-03, 6.9056004e-05, 6.4222084e-02],\n",
       "       [0.0000000e+00, 1.3966480e-03, 1.3966480e-03, 1.3966480e-03,\n",
       "        1.3966480e-03, 1.3966480e-03, 1.3966480e-03, 1.3966480e-03,\n",
       "        1.3966480e-03, 1.3966480e-03, 1.3966480e-03, 1.3966480e-03,\n",
       "        1.3966480e-03, 1.3966480e-03, 1.3966480e-03, 1.3966480e-03,\n",
       "        1.3966480e-03, 1.3966480e-03, 1.3966480e-03, 1.3966480e-03,\n",
       "        1.3966480e-03, 9.6368715e-01, 1.3966480e-03, 1.3966480e-03,\n",
       "        1.3966480e-03, 1.3966480e-03, 1.3966480e-03, 1.3966480e-03],\n",
       "       [0.0000000e+00, 8.0811621e-02, 7.7890719e-04, 1.4020329e-02,\n",
       "        1.9862133e-02, 2.4477159e-01, 2.1419948e-03, 1.0515247e-02,\n",
       "        2.5314484e-03, 9.5026678e-02, 1.9472680e-05, 1.3436149e-02,\n",
       "        9.9310667e-03, 1.5772871e-02, 2.5119757e-02, 9.2105776e-02,\n",
       "        2.1419948e-03, 1.9472680e-05, 1.2657242e-02, 4.9460607e-02,\n",
       "        3.7387545e-02, 1.4604510e-02, 6.2312575e-03, 2.1419948e-03,\n",
       "        1.9472680e-05, 3.7582272e-02, 1.9472680e-05, 2.1088912e-01],\n",
       "       [0.0000000e+00, 4.0555876e-02, 3.1626142e-03, 1.4324782e-02,\n",
       "        5.5810838e-04, 1.1459825e-01, 2.7905419e-03, 9.3018064e-04,\n",
       "        3.6277045e-02, 3.4416684e-02, 1.8603613e-05, 3.9067587e-03,\n",
       "        8.9297342e-03, 7.4414451e-03, 2.7905419e-03, 5.5438766e-02,\n",
       "        2.2138299e-02, 1.8603613e-04, 5.5810838e-04, 4.4462635e-02,\n",
       "        1.3543430e-01, 3.2742359e-02, 1.1162168e-03, 3.1626142e-03,\n",
       "        1.8603613e-05, 3.7207226e-03, 1.8603613e-05, 4.3030156e-01],\n",
       "       [0.0000000e+00, 3.5948616e-02, 1.2569446e-05, 3.7708339e-03,\n",
       "        1.2569446e-04, 8.4466678e-02, 5.0277785e-04, 1.2569446e-05,\n",
       "        3.3937505e-01, 8.9494457e-02, 1.2569446e-05, 1.2569446e-05,\n",
       "        1.3072224e-02, 1.0055557e-03, 1.5083335e-03, 8.8865985e-02,\n",
       "        1.2569446e-04, 1.2569446e-05, 3.0418060e-02, 2.0613892e-02,\n",
       "        1.9482642e-02, 1.8602780e-02, 1.2569446e-05, 9.0500013e-03,\n",
       "        1.2569446e-05, 2.0739586e-02, 1.2569446e-05, 2.2273059e-01],\n",
       "       [0.0000000e+00, 2.1856013e-02, 2.1418892e-02, 5.2891550e-02,\n",
       "        1.9233291e-02, 3.1909778e-02, 9.1795253e-03, 4.4586266e-02,\n",
       "        4.3712025e-05, 2.6227215e-02, 4.3712025e-05, 4.3712025e-04,\n",
       "        9.4855095e-02, 3.6280981e-02, 1.1933383e-01, 2.1856013e-03,\n",
       "        4.9394588e-02, 4.3712025e-05, 1.5036937e-01, 1.3201032e-01,\n",
       "        1.4599816e-01, 4.3712025e-05, 4.3712025e-05, 4.3712025e-05,\n",
       "        2.6227215e-03, 4.3712025e-04, 4.3712025e-05, 3.8466582e-02],\n",
       "       [0.0000000e+00, 7.7304262e-02, 9.9108028e-05, 9.9108028e-05,\n",
       "        9.9108028e-05, 6.1843409e-01, 9.9108028e-05, 9.9108028e-05,\n",
       "        9.9108028e-05, 2.4182359e-01, 9.9108028e-05, 9.9108028e-05,\n",
       "        9.9108028e-05, 9.9108028e-05, 9.9108028e-05, 5.4509415e-02,\n",
       "        9.9108028e-05, 9.9108028e-05, 9.9108028e-04, 9.9108028e-05,\n",
       "        9.9108028e-05, 3.9643211e-03, 9.9108028e-05, 9.9108028e-05,\n",
       "        9.9108028e-05, 9.9108028e-04, 9.9108028e-05, 9.9108028e-05],\n",
       "       [0.0000000e+00, 2.0323878e-01, 5.4341919e-05, 5.4341919e-05,\n",
       "        2.1736768e-03, 1.3802848e-01, 2.1736768e-03, 5.4341919e-05,\n",
       "        1.8150201e-01, 1.6791653e-01, 5.4341919e-05, 3.2605152e-03,\n",
       "        4.3473535e-03, 5.4341919e-05, 2.6084121e-02, 1.2879035e-01,\n",
       "        5.4341919e-05, 5.4341919e-05, 1.4672318e-02, 2.3910445e-02,\n",
       "        5.4341919e-04, 5.4341919e-05, 5.4341919e-05, 5.4341919e-05,\n",
       "        5.4341919e-05, 5.4341919e-04, 5.4341919e-05, 1.0216281e-01],\n",
       "       [0.0000000e+00, 1.0030864e-01, 7.7160494e-04, 1.2345679e-01,\n",
       "        7.7160494e-04, 8.4876543e-02, 7.7160494e-04, 7.7160494e-04,\n",
       "        4.6296296e-02, 1.0030864e-01, 7.7160494e-04, 7.7160494e-04,\n",
       "        7.7160494e-04, 7.7160494e-04, 7.7160494e-04, 7.7160494e-04,\n",
       "        1.3117284e-01, 7.7160494e-04, 7.7160494e-04, 7.7160494e-04,\n",
       "        2.0061728e-01, 3.0864198e-02, 3.8580247e-02, 7.7160494e-04,\n",
       "        7.7160494e-03, 7.7160494e-04, 7.7160494e-04, 1.2345679e-01],\n",
       "       [0.0000000e+00, 3.7845339e-03, 6.3075565e-05, 6.3075565e-05,\n",
       "        6.3075565e-05, 4.8568185e-02, 6.3075565e-05, 6.3075565e-05,\n",
       "        6.3075565e-05, 1.1984357e-02, 6.3075565e-05, 6.3075565e-05,\n",
       "        8.8305790e-03, 9.4613347e-03, 1.8922669e-03, 9.3351835e-02,\n",
       "        1.8922669e-03, 6.3075565e-05, 1.2615113e-03, 3.3430049e-02,\n",
       "        5.6768008e-03, 6.3075565e-05, 6.3075565e-05, 3.1537782e-03,\n",
       "        6.3075565e-05, 6.3075565e-05, 6.3075565e-05, 7.7582944e-01],\n",
       "       [0.0000000e+00, 3.0710173e-01, 1.9193858e-03, 1.9193858e-03,\n",
       "        1.9193858e-03, 5.5662188e-01, 1.9193858e-03, 1.9193858e-03,\n",
       "        1.9193858e-03, 3.8387716e-02, 1.9193858e-03, 1.9193858e-03,\n",
       "        1.9193858e-02, 1.9193858e-03, 1.9193858e-03, 1.9193858e-03,\n",
       "        1.9193858e-03, 1.9193858e-03, 1.9193858e-03, 1.9193858e-03,\n",
       "        1.9193858e-03, 1.9193858e-03, 1.9193858e-02, 1.9193858e-03,\n",
       "        1.9193858e-03, 1.9193858e-03, 1.9193858e-02, 1.9193858e-03],\n",
       "       [0.0000000e+00, 0.0000000e+00, 0.0000000e+00, 0.0000000e+00,\n",
       "        0.0000000e+00, 0.0000000e+00, 0.0000000e+00, 0.0000000e+00,\n",
       "        0.0000000e+00, 0.0000000e+00, 0.0000000e+00, 0.0000000e+00,\n",
       "        0.0000000e+00, 0.0000000e+00, 0.0000000e+00, 0.0000000e+00,\n",
       "        0.0000000e+00, 0.0000000e+00, 0.0000000e+00, 0.0000000e+00,\n",
       "        0.0000000e+00, 0.0000000e+00, 0.0000000e+00, 0.0000000e+00,\n",
       "        0.0000000e+00, 0.0000000e+00, 0.0000000e+00, 1.0000000e+00]])"
      ]
     },
     "execution_count": 4,
     "metadata": {},
     "output_type": "execute_result"
    }
   ],
   "source": [
    "bi_eng"
   ]
  },
  {
   "cell_type": "markdown",
   "metadata": {},
   "source": [
    "**Answer** : Les probabilités de la première ligne correspondent aux probabilitées de transitions en partant de l'état initial."
   ]
  },
  {
   "cell_type": "markdown",
   "metadata": {},
   "source": [
    "Les probabilités de la dernière ligne correspondent aux probabilités de transitions de l'état final. C'est un état absorbant, car il signale la fin du mot."
   ]
  },
  {
   "cell_type": "markdown",
   "metadata": {},
   "source": [
    "*Pour chaque lettre de l’alphabet, indiquer la transition la plus fréquente depuis cette lettre.*"
   ]
  },
  {
   "cell_type": "code",
   "execution_count": 15,
   "metadata": {
    "ExecuteTime": {
     "end_time": "2019-04-03T07:00:07.765253Z",
     "start_time": "2019-04-03T07:00:07.752207Z"
    }
   },
   "outputs": [],
   "source": [
    "dic={1 : ' ', \n",
    "     2 : 'a', \n",
    "     3 : 'b', \n",
    "     4: 'c', \n",
    "     5 : 'd', \n",
    "     6 : 'e', \n",
    "     7: 'f', \n",
    "     8 : 'g', \n",
    "     9 : 'h', \n",
    "     10: 'i', \n",
    "     11: 'j', \n",
    "     12 : 'k', \n",
    "     13 : 'l', \n",
    "     14: 'm', \n",
    "     15 : 'n', \n",
    "     16 : 'o', \n",
    "     17: 'p', \n",
    "     18 : 'q', \n",
    "     19 : 'r' , \n",
    "     20: 's', \n",
    "     21 : 't', \n",
    "     22 : 'u', \n",
    "     23: 'v', \n",
    "     24 : 'w', \n",
    "     25 : 'x' , \n",
    "     26: 'y', \n",
    "     27 : 'z', \n",
    "     28 : ' ' }"
   ]
  },
  {
   "cell_type": "code",
   "execution_count": 19,
   "metadata": {
    "ExecuteTime": {
     "end_time": "2019-04-03T07:02:05.951594Z",
     "start_time": "2019-04-03T07:02:05.945467Z"
    }
   },
   "outputs": [
    {
     "data": {
      "text/plain": [
       "['t',\n",
       " 'n',\n",
       " 'e',\n",
       " 'o',\n",
       " ' ',\n",
       " ' ',\n",
       " ' ',\n",
       " ' ',\n",
       " 'e',\n",
       " 'n',\n",
       " 'o',\n",
       " ' ',\n",
       " 'e',\n",
       " 'e',\n",
       " ' ',\n",
       " 'n',\n",
       " 'e',\n",
       " 'u',\n",
       " 'e',\n",
       " ' ',\n",
       " 'h',\n",
       " 'r',\n",
       " 'e',\n",
       " 'a',\n",
       " 't',\n",
       " ' ',\n",
       " 'e',\n",
       " ' ']"
      ]
     },
     "execution_count": 19,
     "metadata": {},
     "output_type": "execute_result"
    }
   ],
   "source": [
    "[dic[x+1] for x in np.argmax(bi_eng, axis=1)]"
   ]
  },
  {
   "cell_type": "markdown",
   "metadata": {},
   "source": [
    "## 1.3 Générer un mot"
   ]
  },
  {
   "cell_type": "markdown",
   "metadata": {},
   "source": [
    "*On veut générer un mot à partir de l’état initial 1 (espace de début de mot).*\n",
    "\n",
    "*Ecrire une fonction etat_suivant qui génère un état (à t+1) à partir de l’état courant (à t) et à l’aide de la matrice de transitions et de la fonction de répartition.*"
   ]
  },
  {
   "cell_type": "code",
   "execution_count": 350,
   "metadata": {
    "ExecuteTime": {
     "end_time": "2019-04-03T11:25:58.575768Z",
     "start_time": "2019-04-03T11:25:58.569347Z"
    }
   },
   "outputs": [],
   "source": [
    "def etat_suivant(dic, bi_gram, state) :\n",
    "    \n",
    "    x = np.random.random()\n",
    "    line = bi_gram[state-1]\n",
    "    \n",
    "    thr = np.where(np.cumsum(line)>x)[0][0]+1\n",
    "    return thr"
   ]
  },
  {
   "cell_type": "code",
   "execution_count": 381,
   "metadata": {
    "ExecuteTime": {
     "end_time": "2019-04-03T11:26:08.464605Z",
     "start_time": "2019-04-03T11:26:08.457585Z"
    }
   },
   "outputs": [
    {
     "data": {
      "text/plain": [
       "21"
      ]
     },
     "execution_count": 381,
     "metadata": {},
     "output_type": "execute_result"
    }
   ],
   "source": [
    "etat_suivant(dic, bi_eng, 1)"
   ]
  },
  {
   "cell_type": "markdown",
   "metadata": {},
   "source": [
    "*Afficher sur un graphique la fonction de répartition pour une ligne de la matrice de transition et expliquer son rôle pour la génération de l’état à t+1.*"
   ]
  },
  {
   "cell_type": "code",
   "execution_count": 188,
   "metadata": {
    "ExecuteTime": {
     "end_time": "2019-04-03T07:57:45.188720Z",
     "start_time": "2019-04-03T07:57:44.895035Z"
    }
   },
   "outputs": [
    {
     "data": {
      "image/png": "[encoded data removed]",
      "text/plain": [
       "<Figure size 864x576 with 1 Axes>"
      ]
     },
     "metadata": {},
     "output_type": "display_data"
    }
   ],
   "source": [
    "plt.figure(figsize=(12,8))\n",
    "plt.plot(np.cumsum(bi_eng[2]))\n",
    "plt.title(\"Cumulative Distribution function\")\n",
    "plt.axvline(np.random.random()*28, c='red')\n",
    "plt.show()"
   ]
  },
  {
   "cell_type": "markdown",
   "metadata": {},
   "source": [
    "**Answer** : La fonction cumulative de distribution permet de savoir quel chiffre tirer par la suite."
   ]
  },
  {
   "cell_type": "markdown",
   "metadata": {},
   "source": [
    "*Utiliser cette fonction pour écrire la fonction genere_state_seq qui génère une séquence d’états jusqu’à aboutir à l’état final (28).*"
   ]
  },
  {
   "cell_type": "code",
   "execution_count": 198,
   "metadata": {
    "ExecuteTime": {
     "end_time": "2019-04-03T07:58:34.087078Z",
     "start_time": "2019-04-03T07:58:34.081363Z"
    }
   },
   "outputs": [],
   "source": [
    "def genere_state_seq(dic, bi_gram) :\n",
    "    state = 1\n",
    "    seq = []\n",
    "    while state != 28 :\n",
    "        state = etat_suivant(dic, bi_gram, state)\n",
    "        seq.append(dic[state])\n",
    "    return ''.join(seq)"
   ]
  },
  {
   "cell_type": "markdown",
   "metadata": {},
   "source": [
    "*Utiliser ces fonctions pour générer des mots et donner des exemples de mots générés.*"
   ]
  },
  {
   "cell_type": "code",
   "execution_count": 386,
   "metadata": {
    "ExecuteTime": {
     "end_time": "2019-04-03T11:30:05.518145Z",
     "start_time": "2019-04-03T11:30:05.505072Z"
    }
   },
   "outputs": [
    {
     "name": "stdout",
     "output_type": "stream",
     "text": [
      "foked \n",
      "pondes \n",
      "hirm \n",
      "aga \n",
      "w \n",
      "bopathe \n",
      "thigicacth \n",
      "re \n",
      "m \n",
      "pis \n",
      "wofi \n",
      "nt \n",
      "whernathid \n",
      "opldaledatrknt \n",
      "d \n",
      "wan \n",
      "clily \n",
      "wimpts \n",
      "d \n",
      "ththane \n",
      "wathipethentocto \n",
      "poct \n",
      "rutem \n",
      "em \n",
      "hel \n",
      "d \n",
      "t \n",
      "ck \n",
      "isoro \n",
      "besathesh \n",
      "craigousththio \n",
      "arof \n",
      "elegrifoun \n",
      "iotsker \n",
      "ou \n",
      "tomepsasmad \n",
      "t \n",
      "wacareramuby \n",
      "toved \n",
      "nit \n",
      "ith \n",
      "w \n",
      "oly \n",
      "d \n",
      "ie \n",
      "shercoly \n",
      "mave \n",
      "muss \n",
      "rnin \n",
      "uriny \n"
     ]
    }
   ],
   "source": [
    "for i in range(50) :\n",
    "    print(genere_state_seq(dic, bi_eng))"
   ]
  },
  {
   "cell_type": "markdown",
   "metadata": {},
   "source": [
    "## 1.4 Générer une phrase"
   ]
  },
  {
   "cell_type": "markdown",
   "metadata": {},
   "source": [
    "*On veut générer une suite de mots (phrase). Créer un état final de phrase (état 29, correspondant au caractère . ) dont la probabilité de transition vers cet état depuis un état final de mot est 0.1. Ecrire une fonction modifie_mat_dic qui modifie la matrice de transition et le dictionnaire en conséquence. Donner des exemples de phrases générées.*"
   ]
  },
  {
   "cell_type": "code",
   "execution_count": 294,
   "metadata": {
    "ExecuteTime": {
     "end_time": "2019-04-03T08:38:09.730118Z",
     "start_time": "2019-04-03T08:38:09.716499Z"
    }
   },
   "outputs": [],
   "source": [
    "def modify_mat_dic(bi_eng) :\n",
    "    \n",
    "    # Append new column\n",
    "    new_col = (np.zeros(28)).T\n",
    "    bi_eng = np.vstack( (bi_eng, new_col) )\n",
    "    \n",
    "    # Append new line\n",
    "    new_line = np.zeros(29).reshape(-1,1)\n",
    "    bi_eng = np.hstack( (bi_eng, new_line) )\n",
    "    bi_eng[-1,-1] = 1\n",
    "    \n",
    "    # Modify before last line\n",
    "    bi_eng[-2] = np.zeros(29)\n",
    "    bi_eng[-2,0] = 0.9\n",
    "    bi_eng[-2,-1] = 0.1\n",
    "    \n",
    "    return bi_eng"
   ]
  },
  {
   "cell_type": "code",
   "execution_count": 295,
   "metadata": {
    "ExecuteTime": {
     "end_time": "2019-04-03T08:38:10.194808Z",
     "start_time": "2019-04-03T08:38:10.188578Z"
    }
   },
   "outputs": [],
   "source": [
    "bi_eng_mod = modify_mat_dic(bi_eng)"
   ]
  },
  {
   "cell_type": "code",
   "execution_count": 389,
   "metadata": {
    "ExecuteTime": {
     "end_time": "2019-04-03T11:36:43.268782Z",
     "start_time": "2019-04-03T11:36:43.254440Z"
    }
   },
   "outputs": [],
   "source": [
    "dic_2 ={1 : ' ', \n",
    "     2 : 'a', \n",
    "     3 : 'b', \n",
    "     4: 'c', \n",
    "     5 : 'd', \n",
    "     6 : 'e', \n",
    "     7: 'f', \n",
    "     8 : 'g', \n",
    "     9 : 'h', \n",
    "     10: 'i', \n",
    "     11: 'j', \n",
    "     12 : 'k', \n",
    "     13 : 'l', \n",
    "     14: 'm', \n",
    "     15 : 'n', \n",
    "     16 : 'o', \n",
    "     17: 'p', \n",
    "     18 : 'q', \n",
    "     19 : 'r' , \n",
    "     20: 's', \n",
    "     21 : 't', \n",
    "     22 : 'u', \n",
    "     23: 'v', \n",
    "     24 : 'w', \n",
    "     25 : 'x' , \n",
    "     26: 'y', \n",
    "     27 : 'z', \n",
    "     28 : '',\n",
    "     29 : '.'}"
   ]
  },
  {
   "cell_type": "code",
   "execution_count": 392,
   "metadata": {
    "ExecuteTime": {
     "end_time": "2019-04-03T11:36:55.241681Z",
     "start_time": "2019-04-03T11:36:55.237250Z"
    }
   },
   "outputs": [],
   "source": [
    "def genere_state_seq_2(dic, bi_gram) :\n",
    "    state = 1\n",
    "    seq = []\n",
    "    while state != 29 :\n",
    "        state = etat_suivant(dic, bi_gram, state)\n",
    "        seq.append(dic[state])\n",
    "    return ''.join(seq)"
   ]
  },
  {
   "cell_type": "code",
   "execution_count": 407,
   "metadata": {
    "ExecuteTime": {
     "end_time": "2019-04-03T11:40:06.512136Z",
     "start_time": "2019-04-03T11:40:06.479963Z"
    }
   },
   "outputs": [
    {
     "name": "stdout",
     "output_type": "stream",
     "text": [
      "o htr mp t t os aild ivild incte iommy sert tsseree sty.\n",
      "ssf y.\n",
      "ioherit evin the han atlizas ate batwand me atelir h f.\n",
      "it bedeithilldere ber taroony camart coles w is bileng s or dsthonof thun d fugeil bed thetanindissethfeend melo o time atilicowelmondrenll out y s fise the ak.\n",
      "iraling f to on d aro tis y won f oman at eriersirerequlit d berfonotandd s lllamed.\n",
      "g hilonndutout t fin ustl best wecave atheee bjubrove t unguthend m wiel.\n",
      "tischagy o wind meste w omserithowhoncke lin s he himirerily aiveghans it thand a.\n",
      "othe ts in d.\n",
      "h atithir bandy oo isirincowh e clerem.\n",
      "yss ne acheland.\n",
      "try fe obaioithe.\n",
      "mungoutheen msthe smut sinand.\n",
      "m.\n",
      "nta.\n",
      "y lente me ithithetcon fued g mefewhiverercuplithase monthe ondon amowhe se ck nckisthof ad.\n",
      "mepr icidor f be t id he gis on osed pryoncanetof diang ttollouatid othof atheamiscass s ino n buprt ioty awaut omaswantrace tin il y oibes thit antt uperme thedit ck avotes ry thecy.\n",
      "ithe tl t an cicuack ol oune d me iren me.\n",
      "hetoghe t incininghanan onghof weroraltheastome os thatonouer anatwis ho ontisofd e ficat hepoy atsigeflovei t bene clfredin ocothale ondieatinongbsthen ste ont ithi d ichouthed ltse by by t he d p me pit fat thort d igin ald gon onttit murmathagelun fors t on tat t was henshay libefantttr oles.\n",
      "prus lans is.\n",
      "hingit.\n"
     ]
    }
   ],
   "source": [
    "for i in range(20) :\n",
    "    print(genere_state_seq_2(dic_2, bi_eng_mod))"
   ]
  },
  {
   "cell_type": "markdown",
   "metadata": {},
   "source": [
    "## 1.5 Reconnaissance de la langue"
   ]
  },
  {
   "cell_type": "markdown",
   "metadata": {},
   "source": [
    "*Charger la matrice des transitions entre caractères pour le français. Ecrire une fonction calc_vraisemblance qui calcule la vraisemblance du modèle français pour une phrase donnée en multipliant les probabilités de transition. Pour tenir compte de toutes les transitions (notamment celles entre espaces de fin et de début de mots et vers la fin de phrase) on pourra transformer (manuellement) une séquence « mot1 mot2.» par la séquence « -mot1+-mot2+.», les signes - , + et . représentant l’état initial de mot, l’état final de mot et l’état final de phrase, respectivement.*"
   ]
  },
  {
   "cell_type": "code",
   "execution_count": 301,
   "metadata": {
    "ExecuteTime": {
     "end_time": "2019-04-03T08:41:22.915449Z",
     "start_time": "2019-04-03T08:41:22.910245Z"
    }
   },
   "outputs": [],
   "source": [
    "filename_A= 'Part1/bigramfrancais.txt' \n",
    "bi_fr = np.loadtxt(filename_A)"
   ]
  },
  {
   "cell_type": "code",
   "execution_count": 324,
   "metadata": {
    "ExecuteTime": {
     "end_time": "2019-04-03T09:27:04.210007Z",
     "start_time": "2019-04-03T09:27:04.206960Z"
    }
   },
   "outputs": [],
   "source": [
    "bi_fr_mod = modify_mat_dic(bi_fr)"
   ]
  },
  {
   "cell_type": "code",
   "execution_count": 309,
   "metadata": {
    "ExecuteTime": {
     "end_time": "2019-04-03T09:21:44.591364Z",
     "start_time": "2019-04-03T09:21:44.564742Z"
    }
   },
   "outputs": [],
   "source": [
    "dic_3 ={1 : '+', \n",
    "     2 : 'a', \n",
    "     3 : 'b', \n",
    "     4: 'c', \n",
    "     5 : 'd', \n",
    "     6 : 'e', \n",
    "     7: 'f', \n",
    "     8 : 'g', \n",
    "     9 : 'h', \n",
    "     10: 'i', \n",
    "     11: 'j', \n",
    "     12 : 'k', \n",
    "     13 : 'l', \n",
    "     14: 'm', \n",
    "     15 : 'n', \n",
    "     16 : 'o', \n",
    "     17: 'p', \n",
    "     18 : 'q', \n",
    "     19 : 'r' , \n",
    "     20: 's', \n",
    "     21 : 't', \n",
    "     22 : 'u', \n",
    "     23: 'v', \n",
    "     24 : 'w', \n",
    "     25 : 'x' , \n",
    "     26: 'y', \n",
    "     27 : 'z', \n",
    "     28 : '-',\n",
    "     29 : '.'}"
   ]
  },
  {
   "cell_type": "code",
   "execution_count": 340,
   "metadata": {
    "ExecuteTime": {
     "end_time": "2019-04-03T09:33:34.049815Z",
     "start_time": "2019-04-03T09:33:34.038378Z"
    }
   },
   "outputs": [],
   "source": [
    "def calc_vraisemblance(dic, bi_eng, bi_fr, seq) :\n",
    "    key_0 = 0\n",
    "    trans_eng = 1\n",
    "    trans_fra = 1\n",
    "    \n",
    "    for letter in seq :\n",
    "        key_1 = [key for key, val in dic.items() if val == letter][0] - 1\n",
    "\n",
    "        trans_eng = trans_eng * bi_eng[key_0, key_1]\n",
    "        trans_fra = trans_fra * bi_fr[key_0, key_1]\n",
    "\n",
    "        key_0 = [key for key, val in dic.items() if val == letter][0] - 1\n",
    "    \n",
    "    if trans_eng > trans_fra :\n",
    "        print(\"It's English !\")\n",
    "    else :\n",
    "        print(\"It's French !\") \n",
    "    return trans_eng, trans_fra"
   ]
  },
  {
   "cell_type": "markdown",
   "metadata": {},
   "source": [
    "*Calculer la vraisemblance des modèles français et anglais pour la phrase « to be or not to be ». De même calculer la vraisemblance des modèles français et anglais pour la phrase « etre ou ne pas etre ».*"
   ]
  },
  {
   "cell_type": "code",
   "execution_count": 342,
   "metadata": {
    "ExecuteTime": {
     "end_time": "2019-04-03T09:33:58.669714Z",
     "start_time": "2019-04-03T09:33:58.663128Z"
    }
   },
   "outputs": [
    {
     "name": "stdout",
     "output_type": "stream",
     "text": [
      "It's French !\n"
     ]
    },
    {
     "data": {
      "text/plain": [
       "(4.462288711775253e-24, 1.145706887234789e-19)"
      ]
     },
     "execution_count": 342,
     "metadata": {},
     "output_type": "execute_result"
    }
   ],
   "source": [
    "calc_vraisemblance(dic_3, bi_eng_mod, bi_fr_mod, 'etre-+ou-+ne-+pas-+etre-.')"
   ]
  },
  {
   "cell_type": "code",
   "execution_count": 341,
   "metadata": {
    "ExecuteTime": {
     "end_time": "2019-04-03T09:33:35.161451Z",
     "start_time": "2019-04-03T09:33:35.154962Z"
    }
   },
   "outputs": [
    {
     "name": "stdout",
     "output_type": "stream",
     "text": [
      "It's English !\n"
     ]
    },
    {
     "data": {
      "text/plain": [
       "(8.112892227809415e-20, 5.9602081018686406e-30)"
      ]
     },
     "execution_count": 341,
     "metadata": {},
     "output_type": "execute_result"
    }
   ],
   "source": [
    "calc_vraisemblance(dic_3, bi_eng_mod, bi_fr_mod, 'to-+be-+or-+not-+to-+be-.')"
   ]
  },
  {
   "cell_type": "markdown",
   "metadata": {},
   "source": [
    "# Part 2"
   ]
  },
  {
   "cell_type": "markdown",
   "metadata": {},
   "source": [
    "L’objectif de cette partie est de générer des séquences d’observations suivant un modèle de Markov Caché donné, puis de calculer la vraisemblance d’une séquence d’observations suivant un modèle de Markov Caché donné.\n"
   ]
  },
  {
   "cell_type": "markdown",
   "metadata": {},
   "source": [
    "Le modèle de Markov est de type discret. \n",
    "\n",
    "Les classes de caractères (classes 0, 1,..., 7 dans la base MNIST) sont modélisées chacune par un modèle à Q=5 états de type gauche-droite. \n",
    "\n",
    "- Les états 1 et 5 correspondent à des colonnes de pixels de type fond de l’image (niveau 0). \n",
    "- Les états 2, 3 et 4 correspondent au début, milieu et fin du caractère respectivement. \n",
    "- Les transitions entre états sont indiquées dans la matrice de transitions A de taille QxQ. \n",
    "- Les vecteurs π sont tous égaux à π=(1 0 0 0 0). Les séquences d’états commencent donc toujours par l’état q1=1."
   ]
  },
  {
   "cell_type": "code",
   "execution_count": 428,
   "metadata": {
    "ExecuteTime": {
     "end_time": "2019-04-03T11:59:45.794784Z",
     "start_time": "2019-04-03T11:59:45.786275Z"
    }
   },
   "outputs": [],
   "source": [
    "A0 = np.loadtxt('Part2/A0.txt')\n",
    "B0 = np.loadtxt('Part2/B0.txt')\n",
    "Pi0 = np.loadtxt('Part2/vect_pi0.txt')"
   ]
  },
  {
   "cell_type": "code",
   "execution_count": 436,
   "metadata": {
    "ExecuteTime": {
     "end_time": "2019-04-03T12:18:48.751489Z",
     "start_time": "2019-04-03T12:18:48.743795Z"
    }
   },
   "outputs": [
    {
     "data": {
      "text/plain": [
       "((5, 5), (32, 5), (5,))"
      ]
     },
     "execution_count": 436,
     "metadata": {},
     "output_type": "execute_result"
    }
   ],
   "source": [
    "A0.shape, B0.shape, Pi0.shape"
   ]
  },
  {
   "cell_type": "code",
   "execution_count": 429,
   "metadata": {
    "ExecuteTime": {
     "end_time": "2019-04-03T11:59:45.948792Z",
     "start_time": "2019-04-03T11:59:45.943895Z"
    }
   },
   "outputs": [
    {
     "data": {
      "text/plain": [
       "array([[ 0.84178118,  0.15821882, -0.        , -0.        , -0.        ],\n",
       "       [-0.        ,  0.7886163 ,  0.2113837 , -0.        , -0.        ],\n",
       "       [-0.        , -0.        ,  0.86339743,  0.13660257, -0.        ],\n",
       "       [-0.        , -0.        , -0.        ,  0.79150194,  0.20849806],\n",
       "       [-0.        , -0.        , -0.        , -0.        ,  1.        ]])"
      ]
     },
     "execution_count": 429,
     "metadata": {},
     "output_type": "execute_result"
    }
   ],
   "source": [
    "A0"
   ]
  },
  {
   "cell_type": "code",
   "execution_count": 431,
   "metadata": {
    "ExecuteTime": {
     "end_time": "2019-04-03T11:59:46.275686Z",
     "start_time": "2019-04-03T11:59:46.269510Z"
    }
   },
   "outputs": [
    {
     "data": {
      "text/plain": [
       "array([1., 0., 0., 0., 0.])"
      ]
     },
     "execution_count": 431,
     "metadata": {},
     "output_type": "execute_result"
    }
   ],
   "source": [
    "Pi0"
   ]
  },
  {
   "cell_type": "markdown",
   "metadata": {},
   "source": [
    "Les séquences d’observations sont discrètes et issues d’images de chiffres de la base MNIST. Les séquences d’observations consistent en séquences d’index (symboles) des éléments du dictionnaire."
   ]
  },
  {
   "cell_type": "markdown",
   "metadata": {},
   "source": [
    "<img src='img.png'>"
   ]
  },
  {
   "cell_type": "markdown",
   "metadata": {},
   "source": [
    "Ce dictionnaire est stocké sous forme matricielle (matrice v)."
   ]
  },
  {
   "cell_type": "code",
   "execution_count": 437,
   "metadata": {
    "ExecuteTime": {
     "end_time": "2019-04-03T12:19:00.293328Z",
     "start_time": "2019-04-03T12:19:00.278776Z"
    }
   },
   "outputs": [
    {
     "data": {
      "text/plain": [
       "(5, 32)"
      ]
     },
     "execution_count": 437,
     "metadata": {},
     "output_type": "execute_result"
    }
   ],
   "source": [
    "filename='Part2/matrice_symboles.txt'\n",
    "v = np.loadtxt(filename)\n",
    "v.shape"
   ]
  },
  {
   "cell_type": "code",
   "execution_count": 434,
   "metadata": {
    "ExecuteTime": {
     "end_time": "2019-04-03T12:06:46.200982Z",
     "start_time": "2019-04-03T12:06:46.192617Z"
    }
   },
   "outputs": [
    {
     "data": {
      "text/plain": [
       "array([[0., 1., 0., 0., 0., 0., 1., 1., 1., 1., 0., 0., 0., 0., 0., 0.,\n",
       "        1., 1., 1., 1., 1., 1., 0., 0., 0., 0., 1., 1., 1., 0., 1., 1.],\n",
       "       [0., 0., 1., 0., 0., 0., 1., 0., 0., 0., 1., 1., 1., 0., 0., 0.,\n",
       "        1., 1., 1., 0., 0., 0., 1., 1., 1., 0., 1., 1., 1., 1., 0., 1.],\n",
       "       [0., 0., 0., 1., 0., 0., 0., 1., 0., 0., 1., 0., 0., 1., 1., 0.,\n",
       "        1., 0., 0., 1., 1., 0., 1., 0., 1., 1., 1., 0., 1., 1., 1., 1.],\n",
       "       [0., 0., 0., 0., 1., 0., 0., 0., 1., 0., 0., 1., 0., 1., 0., 1.,\n",
       "        0., 1., 0., 1., 0., 1., 1., 1., 0., 1., 1., 1., 0., 1., 1., 1.],\n",
       "       [0., 0., 0., 0., 0., 1., 0., 0., 0., 1., 0., 0., 1., 0., 1., 1.,\n",
       "        0., 0., 1., 0., 1., 1., 0., 1., 1., 1., 0., 1., 1., 1., 1., 1.]])"
      ]
     },
     "execution_count": 434,
     "metadata": {},
     "output_type": "execute_result"
    }
   ],
   "source": [
    "v"
   ]
  },
  {
   "cell_type": "markdown",
   "metadata": {},
   "source": [
    "L’élément numéro `i` d’une séquence d’observations correspond au symbole `i` et donc à la colonne `i` de la matrice v. Un symbole correspond à une configuration de colonne de 5 pixels (binaires : noir/blanc). Il y a 2^5=32 configurations, et donc symboles possibles."
   ]
  },
  {
   "cell_type": "code",
   "execution_count": 433,
   "metadata": {
    "ExecuteTime": {
     "end_time": "2019-04-03T11:59:49.170450Z",
     "start_time": "2019-04-03T11:59:48.906793Z"
    }
   },
   "outputs": [
    {
     "data": {
      "image/png": "[encoded data removed]",
      "text/plain": [
       "<Figure size 864x576 with 1 Axes>"
      ]
     },
     "metadata": {},
     "output_type": "display_data"
    }
   ],
   "source": [
    "plt.figure(figsize=(12,8))\n",
    "plt.imshow(v, 'gray')\n",
    "plt.show()"
   ]
  },
  {
   "cell_type": "markdown",
   "metadata": {},
   "source": [
    "Une séquence d’observations correspondant à l’image simplifiée de la fig. 1 est :\n",
    "[1 1 1 1 1 1 14 23 23 27 18 18 18 12 12 12 12 12 12 12 23 23 23 14 4 1 1 1]\n",
    "\n",
    "La concaténation des éléments du dictionnaire correspondant aux index de la séquence d’observations peut être visualisée sous forme d’image en remplaçant chaque index par le vecteur de pixels correspondant dans le dictionnaire"
   ]
  },
  {
   "cell_type": "markdown",
   "metadata": {},
   "source": [
    "Les probabilités des observations dans chaque état sont indiquées dans la matrice B (32 lignes, 5 colonnes)."
   ]
  },
  {
   "cell_type": "code",
   "execution_count": 435,
   "metadata": {
    "ExecuteTime": {
     "end_time": "2019-04-03T12:18:31.017312Z",
     "start_time": "2019-04-03T12:18:31.009128Z"
    }
   },
   "outputs": [
    {
     "data": {
      "text/plain": [
       "(32, 5)"
      ]
     },
     "execution_count": 435,
     "metadata": {},
     "output_type": "execute_result"
    }
   ],
   "source": [
    "B0.shape"
   ]
  },
  {
   "cell_type": "code",
   "execution_count": 442,
   "metadata": {
    "ExecuteTime": {
     "end_time": "2019-04-03T12:22:41.168538Z",
     "start_time": "2019-04-03T12:22:41.124781Z"
    },
    "scrolled": true
   },
   "outputs": [
    {
     "data": {
      "text/plain": [
       "array([[ 1.  , -0.  , -0.  , -0.  ,  1.  ],\n",
       "       [-0.  ,  0.  ,  0.  ,  0.  , -0.  ],\n",
       "       [-0.  ,  0.  ,  0.  ,  0.02, -0.  ],\n",
       "       [-0.  ,  0.08,  0.  ,  0.13, -0.  ],\n",
       "       [-0.  ,  0.01,  0.02,  0.  , -0.  ],\n",
       "       [-0.  ,  0.  ,  0.  ,  0.  , -0.  ],\n",
       "       [-0.  ,  0.  ,  0.  ,  0.  , -0.  ],\n",
       "       [-0.  ,  0.  ,  0.  ,  0.  , -0.  ],\n",
       "       [-0.  ,  0.  ,  0.02,  0.  , -0.  ],\n",
       "       [-0.  ,  0.  ,  0.  ,  0.  , -0.  ],\n",
       "       [-0.  ,  0.02,  0.  ,  0.16, -0.  ],\n",
       "       [-0.  ,  0.  ,  0.32,  0.  , -0.  ],\n",
       "       [-0.  ,  0.  ,  0.  ,  0.  , -0.  ],\n",
       "       [-0.  ,  0.22,  0.  ,  0.05, -0.  ],\n",
       "       [-0.  ,  0.  ,  0.  ,  0.  , -0.  ],\n",
       "       [-0.  ,  0.  ,  0.  ,  0.  , -0.  ],\n",
       "       [-0.  ,  0.  ,  0.  ,  0.02, -0.  ],\n",
       "       [-0.  ,  0.  ,  0.45,  0.  , -0.  ],\n",
       "       [-0.  ,  0.  ,  0.  ,  0.  , -0.  ],\n",
       "       [-0.  ,  0.  ,  0.  ,  0.  , -0.  ],\n",
       "       [-0.  ,  0.  ,  0.  ,  0.  , -0.  ],\n",
       "       [-0.  ,  0.  ,  0.  ,  0.  , -0.  ],\n",
       "       [-0.  ,  0.57,  0.  ,  0.5 , -0.  ],\n",
       "       [-0.  ,  0.02,  0.01,  0.  , -0.  ],\n",
       "       [-0.  ,  0.  ,  0.  ,  0.  , -0.  ],\n",
       "       [-0.  ,  0.01,  0.  ,  0.  , -0.  ],\n",
       "       [-0.  ,  0.  ,  0.07,  0.11, -0.  ],\n",
       "       [-0.  ,  0.  ,  0.09,  0.  , -0.  ],\n",
       "       [-0.  ,  0.  ,  0.  ,  0.  , -0.  ],\n",
       "       [-0.  ,  0.07,  0.  ,  0.  , -0.  ],\n",
       "       [-0.  ,  0.  ,  0.  ,  0.  , -0.  ],\n",
       "       [-0.  ,  0.  ,  0.01,  0.  , -0.  ]])"
      ]
     },
     "execution_count": 442,
     "metadata": {},
     "output_type": "execute_result"
    }
   ],
   "source": [
    "np.round(B0,2)"
   ]
  },
  {
   "cell_type": "code",
   "execution_count": 441,
   "metadata": {
    "ExecuteTime": {
     "end_time": "2019-04-03T12:22:32.188374Z",
     "start_time": "2019-04-03T12:22:32.017418Z"
    }
   },
   "outputs": [
    {
     "data": {
      "text/plain": [
       "<matplotlib.image.AxesImage at 0x11686e320>"
      ]
     },
     "execution_count": 441,
     "metadata": {},
     "output_type": "execute_result"
    },
    {
     "data": {
      "image/png": "[encoded data removed]",
      "text/plain": [
       "<Figure size 432x288 with 1 Axes>"
      ]
     },
     "metadata": {},
     "output_type": "display_data"
    }
   ],
   "source": [
    "plt.imshow(B0.T)"
   ]
  },
  {
   "cell_type": "markdown",
   "metadata": {},
   "source": [
    "## 2.1 Génération de séquences d’observations"
   ]
  },
  {
   "cell_type": "markdown",
   "metadata": {},
   "source": [
    "*A quoi correspondent les zéros de la matrice B ? et ceux de la matrice A et du vecteur π?*"
   ]
  },
  {
   "cell_type": "markdown",
   "metadata": {},
   "source": [
    "**Answer** : \n",
    "    \n",
    "- Les 0 de la matrice B correspondent aux probabilités nulles d'observation dans un état donné. \n",
    "- Les 0 de la matrice A correspondent aux probabilités de transition d'un état à l'autre.\n",
    "- Les 0 du vecteur π correspondent au fait que l'on comment à l'état 1."
   ]
  },
  {
   "cell_type": "markdown",
   "metadata": {},
   "source": [
    "*Ecrire une fonction etat_suivant qui génère un état qt+1(à t+1) à partir de l’état courant qt (à t) à l’aide de la matrice de transitions et de la fonction de répartition cumsum.*"
   ]
  },
  {
   "cell_type": "code",
   "execution_count": null,
   "metadata": {},
   "outputs": [],
   "source": []
  },
  {
   "cell_type": "markdown",
   "metadata": {},
   "source": [
    "*Afficher la fonction de répartition pour une ligne de la matrice de transition et expliquer son rôle pour la génération de l’état à t+1.*"
   ]
  },
  {
   "cell_type": "code",
   "execution_count": null,
   "metadata": {},
   "outputs": [],
   "source": []
  },
  {
   "cell_type": "markdown",
   "metadata": {},
   "source": [
    "*Générer une séquence d’observations suivant le modèle de Markov Caché du chiffre 0. On commencera par générer une séquence d’états suivant ce modèle à l’aide de la fonction etat_suivant. Puis on générera la séquence d’observations par le même procédé.*"
   ]
  },
  {
   "cell_type": "code",
   "execution_count": null,
   "metadata": {},
   "outputs": [],
   "source": []
  },
  {
   "cell_type": "markdown",
   "metadata": {},
   "source": [
    "*Visualiser le résultat sous forme d’image. Générer des séquences pour le chiffre 7 et le chiffre 1 (matrices B1.txt, B7.txt, etc...)*"
   ]
  },
  {
   "cell_type": "code",
   "execution_count": null,
   "metadata": {},
   "outputs": [],
   "source": [
    "im=[]\n",
    "\n",
    "# les x contiennent les index dans le dictionnaire for t in range (0,len(stateSeq)) :\n",
    "im_col=v[:, x[t]-1] \n",
    "im.append(im_col)\n",
    "im = np.array(im).T # now make an array\n",
    "\n",
    "plt.imshow(im*255, cmap=’Greys’, interpolation=’none’, aspect=’auto’)"
   ]
  },
  {
   "cell_type": "markdown",
   "metadata": {},
   "source": [
    "## 2.2 Calcul de la vraisemblance de séquences d’observations"
   ]
  },
  {
   "cell_type": "markdown",
   "metadata": {},
   "source": [
    "Les fichiers SeqTest0.txt, SeqTest1.txt, SeqTest7.txt contiennent chacun 10 séquences d’observations de chiffres des 3 classes 0, 1 et 7, disposés en ligne. Le script suivant extrait la 5ème observation de la 3ème séquence des chiffres 0."
   ]
  },
  {
   "cell_type": "code",
   "execution_count": 444,
   "metadata": {
    "ExecuteTime": {
     "end_time": "2019-04-03T12:34:54.425733Z",
     "start_time": "2019-04-03T12:34:54.416523Z"
    }
   },
   "outputs": [
    {
     "data": {
      "text/plain": [
       "1.0"
      ]
     },
     "execution_count": 444,
     "metadata": {},
     "output_type": "execute_result"
    }
   ],
   "source": [
    "filename='Part2/SeqTest0.txt'\n",
    "\n",
    "TestChiffres=np.loadtxt(filename)\n",
    "nex=2\n",
    "seq= TestChiffres[nex, : ] \n",
    "seq[4]"
   ]
  },
  {
   "cell_type": "markdown",
   "metadata": {},
   "source": [
    "*Calculer la vraisemblance de ces séquences suivant chacun des modèles (0, 1 et 7) par l’algorithme de Viterbi (on pourra implémenter la version logarithmique de cet algorithme). Pour cela les matrices A, B et π seront converties en logarithmes (utiliser np.log).*"
   ]
  },
  {
   "cell_type": "code",
   "execution_count": null,
   "metadata": {},
   "outputs": [],
   "source": []
  },
  {
   "cell_type": "markdown",
   "metadata": {
    "ExecuteTime": {
     "end_time": "2019-04-03T12:37:04.733950Z",
     "start_time": "2019-04-03T12:37:04.726358Z"
    }
   },
   "source": [
    "*Donner le résultat de la classification des images de test en considérant un problème à trois classes : 0, 1 et 7.*"
   ]
  },
  {
   "cell_type": "code",
   "execution_count": null,
   "metadata": {},
   "outputs": [],
   "source": []
  }
 ],
 "metadata": {
  "kernelspec": {
   "display_name": "Python 3",
   "language": "python",
   "name": "python3"
  },
  "language_info": {
   "codemirror_mode": {
    "name": "ipython",
    "version": 3
   },
   "file_extension": ".py",
   "mimetype": "text/x-python",
   "name": "python",
   "nbconvert_exporter": "python",
   "pygments_lexer": "ipython3",
   "version": "3.6.5"
  },
  "latex_envs": {
   "LaTeX_envs_menu_present": true,
   "autoclose": false,
   "autocomplete": true,
   "bibliofile": "biblio.bib",
   "cite_by": "apalike",
   "current_citInitial": 1,
   "eqLabelWithNumbers": true,
   "eqNumInitial": 1,
   "hotkeys": {
    "equation": "Ctrl-E",
    "itemize": "Ctrl-I"
   },
   "labels_anchors": false,
   "latex_user_defs": false,
   "report_style_numbering": false,
   "user_envs_cfg": false
  }
 },
 "nbformat": 4,
 "nbformat_minor": 2
}
